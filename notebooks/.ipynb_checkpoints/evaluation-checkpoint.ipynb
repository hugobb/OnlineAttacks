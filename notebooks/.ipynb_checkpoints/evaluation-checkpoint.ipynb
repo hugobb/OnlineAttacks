{
 "cells": [
  {
   "cell_type": "code",
   "execution_count": 1,
   "metadata": {},
   "outputs": [],
   "source": [
    "from online_attacks.utils.logger import Logger, LoggerParams\n",
    "from online_attacks.classifiers.mnist import load_mnist_dataset, load_mnist_classifier\n",
    "from online_attacks.datastream import datastream\n",
    "from online_attacks.attacks import create_attacker, compute_attack_success_rate\n",
    "from online_attacks.online_algorithms import AgorithmType\n",
    "from omegaconf import OmegaConf\n",
    "import numpy as np\n",
    "import torch\n",
    "\n",
    "import sys\n",
    "sys.path.append(\"../scripts/\")\n",
    "from online_attacks_sweep import Params"
   ]
  },
  {
   "cell_type": "code",
   "execution_count": 7,
   "metadata": {},
   "outputs": [],
   "source": [
    "def eval_fool_rate(path, model_name):\n",
    "    list_records = Logger.list_all_records(path)\n",
    "    device = \"cuda\" if torch.cuda.is_available() else \"cpu\"\n",
    "    dataset = load_mnist_dataset(train=False)\n",
    "    for logger in list_records:\n",
    "        params = logger.load_hparams()\n",
    "        record = logger.load_record()\n",
    "        conf = OmegaConf.structured(Params)\n",
    "        params = OmegaConf.merge(conf, params)\n",
    "        target_classifier = load_mnist_classifier(params.model_type, name=model_name, model_dir=params.model_dir, device=device, eval=True)\n",
    "        source_classifier = load_mnist_classifier(params.model_type, name=params.model_name, model_dir=params.model_dir, device=device, eval=True)\n",
    "        attacker = create_attacker(source_classifier, params.attacker_type, params.attacker_params)\n",
    "        transform = datastream.Compose([datastream.ToDevice(device), datastream.AttackerTransform(attacker),\n",
    "                                        datastream.ClassifierTransform(target_classifier)])\n",
    "        fool_rate = []\n",
    "        for run in record[\"runs\"]:\n",
    "            permutation = run[\"permutation\"]\n",
    "            indices = [x[1] for x in run[\"indices\"]]\n",
    "            target_stream = datastream.BatchDataStream(dataset, batch_size=1000, transform=transform, permutation=permutation)\n",
    "            stream = target_stream.subset(indices)\n",
    "            fool_rate.append(compute_attack_success_rate(stream)*100)\n",
    "\n",
    "        mean_fool_rate = np.mean(fool_rate)\n",
    "        std_fool_rate = np.std(fool_rate)\n",
    "        print(\"Fool rate for %s (K=%i): %.2f +/- %.2f\"%(params.online_params.online_type.name, params.online_params.K, mean_fool_rate, std_fool_rate))"
   ]
  },
  {
   "cell_type": "code",
   "execution_count": 11,
   "metadata": {},
   "outputs": [
    {
     "name": "stdout",
     "output_type": "stream",
     "text": [
      "Fool rate for OFFLINE (K=10): 100.00 +/- 0.00\n",
      "Fool rate for STOCHASTIC_VIRTUAL (K=10): 100.00 +/- 0.00\n",
      "Fool rate for STOCHASTIC_OPTIMISTIC (K=10): 100.00 +/- 0.00\n",
      "Fool rate for STOCHASTIC_MODIFIED_VIRTUAL (K=10): 100.00 +/- 0.00\n",
      "Fool rate for RANDOM (K=10): 78.00 +/- 19.39\n",
      "Fool rate for OFFLINE (K=100): 100.00 +/- 0.00\n",
      "Fool rate for STOCHASTIC_VIRTUAL (K=100): 99.39 +/- 0.75\n",
      "Fool rate for STOCHASTIC_OPTIMISTIC (K=100): 99.60 +/- 0.80\n",
      "Fool rate for STOCHASTIC_MODIFIED_VIRTUAL (K=100): 99.40 +/- 0.49\n",
      "Fool rate for RANDOM (K=100): 74.60 +/- 3.44\n",
      "Fool rate for OFFLINE (K=1000): 99.60 +/- 0.00\n",
      "Fool rate for STOCHASTIC_VIRTUAL (K=1000): 98.92 +/- 0.38\n",
      "Fool rate for STOCHASTIC_OPTIMISTIC (K=1000): 99.01 +/- 0.36\n",
      "Fool rate for STOCHASTIC_MODIFIED_VIRTUAL (K=1000): 99.00 +/- 0.29\n",
      "Fool rate for RANDOM (K=1000): 73.02 +/- 1.40\n"
     ]
    }
   ],
   "source": [
    "eval_fool_rate(\"/checkpoint/hberard/OnlineAttack/results\", \"1\")"
   ]
  },
  {
   "cell_type": "code",
   "execution_count": 12,
   "metadata": {},
   "outputs": [
    {
     "name": "stdout",
     "output_type": "stream",
     "text": [
      "Fool rate for OFFLINE (K=10): 40.00 +/- 0.00\n",
      "Fool rate for STOCHASTIC_VIRTUAL (K=10): 35.00 +/- 33.40\n",
      "Fool rate for STOCHASTIC_OPTIMISTIC (K=10): 36.00 +/- 34.41\n",
      "Fool rate for STOCHASTIC_MODIFIED_VIRTUAL (K=10): 38.89 +/- 30.74\n",
      "Fool rate for RANDOM (K=10): 4.00 +/- 4.90\n",
      "Fool rate for OFFLINE (K=100): 24.00 +/- 0.00\n",
      "Fool rate for STOCHASTIC_VIRTUAL (K=100): 22.24 +/- 5.83\n",
      "Fool rate for STOCHASTIC_OPTIMISTIC (K=100): 26.22 +/- 2.68\n",
      "Fool rate for STOCHASTIC_MODIFIED_VIRTUAL (K=100): 25.03 +/- 2.68\n",
      "Fool rate for RANDOM (K=100): 4.20 +/- 1.33\n",
      "Fool rate for OFFLINE (K=1000): 15.76 +/- 0.05\n",
      "Fool rate for STOCHASTIC_VIRTUAL (K=1000): 13.82 +/- 0.60\n",
      "Fool rate for STOCHASTIC_OPTIMISTIC (K=1000): 15.59 +/- 0.41\n",
      "Fool rate for STOCHASTIC_MODIFIED_VIRTUAL (K=1000): 14.00 +/- 0.44\n",
      "Fool rate for RANDOM (K=1000): 4.26 +/- 0.29\n"
     ]
    }
   ],
   "source": [
    "eval_fool_rate(\"/checkpoint/hberard/OnlineAttack/results\", \"PGD_ATTACK_train_0\")"
   ]
  },
  {
   "cell_type": "code",
   "execution_count": 13,
   "metadata": {},
   "outputs": [
    {
     "name": "stdout",
     "output_type": "stream",
     "text": [
      "Fool rate for OFFLINE (K=10): 100.00 +/- 0.00\n",
      "Fool rate for STOCHASTIC_VIRTUAL (K=10): 96.00 +/- 8.00\n",
      "Fool rate for STOCHASTIC_OPTIMISTIC (K=10): 100.00 +/- 0.00\n",
      "Fool rate for STOCHASTIC_MODIFIED_VIRTUAL (K=10): 97.78 +/- 4.44\n",
      "Fool rate for RANDOM (K=10): 20.00 +/- 8.94\n",
      "Fool rate for OFFLINE (K=100): 79.00 +/- 0.00\n",
      "Fool rate for STOCHASTIC_VIRTUAL (K=100): 80.20 +/- 1.04\n",
      "Fool rate for STOCHASTIC_OPTIMISTIC (K=100): 83.49 +/- 3.09\n",
      "Fool rate for STOCHASTIC_MODIFIED_VIRTUAL (K=100): 80.20 +/- 2.40\n",
      "Fool rate for RANDOM (K=100): 23.40 +/- 3.72\n",
      "Fool rate for OFFLINE (K=1000): 64.20 +/- 0.00\n",
      "Fool rate for STOCHASTIC_VIRTUAL (K=1000): 53.93 +/- 1.43\n",
      "Fool rate for STOCHASTIC_OPTIMISTIC (K=1000): 59.61 +/- 1.13\n",
      "Fool rate for STOCHASTIC_MODIFIED_VIRTUAL (K=1000): 55.05 +/- 0.74\n",
      "Fool rate for RANDOM (K=1000): 21.80 +/- 0.99\n"
     ]
    }
   ],
   "source": [
    "eval_fool_rate(\"/checkpoint/hberard/OnlineAttack/results_robust\", \"0\")"
   ]
  },
  {
   "cell_type": "code",
   "execution_count": 14,
   "metadata": {},
   "outputs": [
    {
     "name": "stdout",
     "output_type": "stream",
     "text": [
      "Fool rate for OFFLINE (K=10): 100.00 +/- 0.00\n",
      "Fool rate for STOCHASTIC_VIRTUAL (K=10): 100.00 +/- 0.00\n",
      "Fool rate for STOCHASTIC_OPTIMISTIC (K=10): 100.00 +/- 0.00\n",
      "Fool rate for STOCHASTIC_MODIFIED_VIRTUAL (K=10): 100.00 +/- 0.00\n",
      "Fool rate for RANDOM (K=10): 6.00 +/- 4.90\n",
      "Fool rate for OFFLINE (K=100): 91.00 +/- 0.00\n",
      "Fool rate for STOCHASTIC_VIRTUAL (K=100): 79.02 +/- 4.06\n",
      "Fool rate for STOCHASTIC_OPTIMISTIC (K=100): 83.79 +/- 4.03\n",
      "Fool rate for STOCHASTIC_MODIFIED_VIRTUAL (K=100): 80.60 +/- 0.49\n",
      "Fool rate for RANDOM (K=100): 3.80 +/- 1.94\n",
      "Fool rate for OFFLINE (K=1000): 36.70 +/- 0.00\n",
      "Fool rate for STOCHASTIC_VIRTUAL (K=1000): 21.46 +/- 2.42\n",
      "Fool rate for STOCHASTIC_OPTIMISTIC (K=1000): 34.21 +/- 1.84\n",
      "Fool rate for STOCHASTIC_MODIFIED_VIRTUAL (K=1000): 23.20 +/- 1.35\n",
      "Fool rate for RANDOM (K=1000): 3.94 +/- 0.41\n"
     ]
    }
   ],
   "source": [
    "eval_fool_rate(\"/checkpoint/hberard/OnlineAttack/results_robust\", \"PGD_ATTACK_train_1\")"
   ]
  },
  {
   "cell_type": "code",
   "execution_count": 19,
   "metadata": {},
   "outputs": [
    {
     "name": "stdout",
     "output_type": "stream",
     "text": [
      "Fool rate for OFFLINE (K=10): 92.00 +/- 7.48\n",
      "Fool rate for STOCHASTIC_VIRTUAL (K=10): 77.29 +/- 22.19\n",
      "Fool rate for STOCHASTIC_OPTIMISTIC (K=10): 90.00 +/- 12.25\n",
      "Fool rate for STOCHASTIC_MODIFIED_VIRTUAL (K=10): 90.00 +/- 12.65\n",
      "Fool rate for RANDOM (K=10): 4.00 +/- 4.90\n",
      "Fool rate for OFFLINE (K=100): 52.40 +/- 3.44\n",
      "Fool rate for STOCHASTIC_VIRTUAL (K=100): 40.07 +/- 5.57\n",
      "Fool rate for STOCHASTIC_OPTIMISTIC (K=100): 51.97 +/- 6.56\n",
      "Fool rate for STOCHASTIC_MODIFIED_VIRTUAL (K=100): 41.16 +/- 2.87\n",
      "Fool rate for RANDOM (K=100): 1.80 +/- 1.60\n",
      "Fool rate for OFFLINE (K=1000): 11.76 +/- 0.42\n",
      "Fool rate for STOCHASTIC_VIRTUAL (K=1000): 6.26 +/- 1.03\n",
      "Fool rate for STOCHASTIC_OPTIMISTIC (K=1000): 13.40 +/- 1.63\n",
      "Fool rate for STOCHASTIC_MODIFIED_VIRTUAL (K=1000): 7.25 +/- 0.78\n",
      "Fool rate for RANDOM (K=1000): 1.22 +/- 0.10\n"
     ]
    }
   ],
   "source": [
    "eval_fool_rate(\"/checkpoint/hberard/OnlineAttack/results_pgd\", \"PGD_ATTACK_train_1\")"
   ]
  },
  {
   "cell_type": "code",
   "execution_count": 18,
   "metadata": {},
   "outputs": [
    {
     "name": "stdout",
     "output_type": "stream",
     "text": [
      "Fool rate for OFFLINE (K=10): 82.00 +/- 13.27\n",
      "Fool rate for STOCHASTIC_VIRTUAL (K=10): 69.62 +/- 16.81\n",
      "Fool rate for STOCHASTIC_OPTIMISTIC (K=10): 73.00 +/- 28.21\n",
      "Fool rate for STOCHASTIC_MODIFIED_VIRTUAL (K=10): 81.78 +/- 7.26\n",
      "Fool rate for RANDOM (K=10): 6.00 +/- 4.90\n",
      "Fool rate for OFFLINE (K=100): 58.40 +/- 2.80\n",
      "Fool rate for STOCHASTIC_VIRTUAL (K=100): 52.18 +/- 3.21\n",
      "Fool rate for STOCHASTIC_OPTIMISTIC (K=100): 61.53 +/- 4.58\n",
      "Fool rate for STOCHASTIC_MODIFIED_VIRTUAL (K=100): 55.23 +/- 3.23\n",
      "Fool rate for RANDOM (K=100): 6.80 +/- 0.75\n",
      "Fool rate for OFFLINE (K=1000): 31.68 +/- 0.69\n",
      "Fool rate for STOCHASTIC_VIRTUAL (K=1000): 21.45 +/- 1.30\n",
      "Fool rate for STOCHASTIC_OPTIMISTIC (K=1000): 28.88 +/- 1.67\n",
      "Fool rate for STOCHASTIC_MODIFIED_VIRTUAL (K=1000): 23.66 +/- 1.01\n",
      "Fool rate for RANDOM (K=1000): 6.36 +/- 0.75\n"
     ]
    }
   ],
   "source": [
    "eval_fool_rate(\"/checkpoint/hberard/OnlineAttack/results_pgd\", \"0\")"
   ]
  },
  {
   "cell_type": "markdown",
   "metadata": {},
   "source": [
    "# New Results"
   ]
  },
  {
   "cell_type": "code",
   "execution_count": 1,
   "metadata": {},
   "outputs": [],
   "source": [
    "from online_attacks.utils.logger import Logger\n",
    "from online_attacks.classifiers.mnist import load_mnist_dataset, load_mnist_classifier\n",
    "from online_attacks.datastream import datastream\n",
    "from online_attacks.attacks import create_attacker, compute_attack_success_rate\n",
    "from online_attacks.online_algorithms import AlgorithmType, create_algorithm, compute_indices\n",
    "from omegaconf import OmegaConf\n",
    "import numpy as np\n",
    "import torch\n",
    "from torch.nn import CrossEntropyLoss\n",
    "from collections import defaultdict\n",
    "\n",
    "import sys\n",
    "sys.path.append(\"../scripts/\")\n",
    "from online_attacks_sweep import Params"
   ]
  },
  {
   "cell_type": "code",
   "execution_count": 2,
   "metadata": {},
   "outputs": [],
   "source": [
    "import os\n",
    "os.environ[\"CUDA_VISIBLE_DEVICES\"]=\"1\""
   ]
  },
  {
   "cell_type": "code",
   "execution_count": 19,
   "metadata": {},
   "outputs": [],
   "source": [
    "def eval_fool_rate(path, model_name):\n",
    "    list_records = Logger.list_all_records(path)\n",
    "    device = \"cuda\" if torch.cuda.is_available() else \"cpu\"\n",
    "    dataset = load_mnist_dataset(train=False)\n",
    "    for logger in list_records:\n",
    "        params = logger.load_hparams()\n",
    "        record = logger.load_record()\n",
    "        conf = OmegaConf.structured(Params)\n",
    "        params = OmegaConf.merge(conf, params)\n",
    "        target_classifier = load_mnist_classifier(params.model_type, name=model_name, model_dir=params.model_dir, device=device, eval=True)\n",
    "        source_classifier = load_mnist_classifier(params.model_type, name=params.model_name, model_dir=params.model_dir, device=device, eval=True)    \n",
    "        attacker = create_attacker(source_classifier, params.attacker_type, params.attacker_params)\n",
    "        \n",
    "        transform = datastream.Compose([datastream.ToDevice(device), datastream.AttackerTransform(attacker),\n",
    "                                        datastream.ClassifierTransform(target_classifier)])\n",
    "        \n",
    "        target_transform = datastream.Compose([datastream.ToDevice(device), datastream.AttackerTransform(attacker),\n",
    "                                    datastream.ClassifierTransform(target_classifier), datastream.LossTransform(CrossEntropyLoss(reduction=\"none\"))])\n",
    "        algorithm = create_algorithm(AlgorithmType.OFFLINE, params.online_params)\n",
    "        target_stream = datastream.BatchDataStream(dataset, batch_size=1000, transform=target_transform) \n",
    "        offline_indices = compute_indices(target_stream, algorithm, pbar_flag=False)[algorithm[0].name]\n",
    "        \n",
    "        \n",
    "        indices = [x[1] for x in offline_indices]\n",
    "        target_stream = datastream.BatchDataStream(dataset, batch_size=1000, transform=transform)\n",
    "        stream = target_stream.subset(indices)\n",
    "        offline_fool_rate = compute_attack_success_rate(stream)\n",
    "        \n",
    "        fool_rate_dict = defaultdict(list)\n",
    "        for run in record[\"runs\"]:\n",
    "            permutation = run[\"permutation\"]\n",
    "            for name, indices in run[\"indices\"].items():\n",
    "                indices = [x[1] for x in indices]\n",
    "                target_stream = datastream.BatchDataStream(dataset, batch_size=1000, transform=transform, permutation=permutation)\n",
    "                stream = target_stream.subset(indices)\n",
    "                fool_rate_dict[name].append(compute_attack_success_rate(stream))#/offline_fool_rate*100)\n",
    "\n",
    "        for name, fool_rate in fool_rate_dict.items():\n",
    "            mean_fool_rate = np.mean(fool_rate)\n",
    "            std_fool_rate = np.std(fool_rate)\n",
    "            print(\"Fool rate for %s (K=%i): %.2f +/- %.2f\"%(name, params.online_params.K, mean_fool_rate, std_fool_rate))\n",
    "            \n",
    "            "
   ]
  },
  {
   "cell_type": "code",
   "execution_count": 20,
   "metadata": {},
   "outputs": [
    {
     "name": "stdout",
     "output_type": "stream",
     "text": [
      "Fool rate for OFFLINE (K=10): 100.00 +/- 0.00\n",
      "Fool rate for STOCHASTIC_VIRTUAL (K=10): 100.00 +/- 0.00\n",
      "Fool rate for STOCHASTIC_OPTIMISTIC (K=10): 100.00 +/- 0.00\n",
      "Fool rate for STOCHASTIC_MODIFIED_VIRTUAL (K=10): 100.00 +/- 0.00\n",
      "Fool rate for RANDOM (K=10): -300.00 +/- 109.54\n",
      "Fool rate for OFFLINE (K=100): 100.00 +/- 0.00\n",
      "Fool rate for STOCHASTIC_VIRTUAL (K=100): 60.00 +/- 48.99\n",
      "Fool rate for STOCHASTIC_OPTIMISTIC (K=100): 100.00 +/- 0.00\n",
      "Fool rate for STOCHASTIC_MODIFIED_VIRTUAL (K=100): 60.00 +/- 48.99\n",
      "Fool rate for RANDOM (K=100): -2600.00 +/- 282.84\n",
      "Fool rate for OFFLINE (K=1000): -300.00 +/- 0.00\n",
      "Fool rate for STOCHASTIC_VIRTUAL (K=1000): -560.00 +/- 174.36\n",
      "Fool rate for STOCHASTIC_OPTIMISTIC (K=1000): -240.00 +/- 185.47\n",
      "Fool rate for STOCHASTIC_MODIFIED_VIRTUAL (K=1000): -920.00 +/- 97.98\n",
      "Fool rate for RANDOM (K=1000): -26080.00 +/- 793.47\n"
     ]
    }
   ],
   "source": [
    "eval_fool_rate(\"/checkpoint/hberard/OnlineAttack/new_results/fgsm_not_robust/\", \"1\")"
   ]
  },
  {
   "cell_type": "code",
   "execution_count": null,
   "metadata": {},
   "outputs": [],
   "source": []
  }
 ],
 "metadata": {
  "kernelspec": {
   "display_name": "Python 3",
   "language": "python",
   "name": "python3"
  },
  "language_info": {
   "codemirror_mode": {
    "name": "ipython",
    "version": 3
   },
   "file_extension": ".py",
   "mimetype": "text/x-python",
   "name": "python",
   "nbconvert_exporter": "python",
   "pygments_lexer": "ipython3",
   "version": "3.7.4"
  }
 },
 "nbformat": 4,
 "nbformat_minor": 4
}
