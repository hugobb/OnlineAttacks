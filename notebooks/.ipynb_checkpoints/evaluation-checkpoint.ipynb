{
 "cells": [
  {
   "cell_type": "code",
   "execution_count": 1,
   "metadata": {},
   "outputs": [],
   "source": [
    "from online_attacks.utils.logger import Logger, LoggerParams\n",
    "from online_attacks.classifiers.mnist import load_mnist_dataset, load_mnist_classifier\n",
    "from online_attacks.datastream import datastream\n",
    "from online_attacks.attacks import create_attacker, compute_attack_success_rate\n",
    "from online_attacks.online_algorithms import AgorithmType\n",
    "from omegaconf import OmegaConf\n",
    "import numpy as np\n",
    "import torch\n",
    "\n",
    "import sys\n",
    "sys.path.append(\"../scripts/\")\n",
    "from online_attacks_sweep import Params"
   ]
  },
  {
   "cell_type": "code",
   "execution_count": 7,
   "metadata": {},
   "outputs": [],
   "source": [
    "def eval_fool_rate(path, model_name):\n",
    "    list_records = Logger.list_all_records(path)\n",
    "    device = \"cuda\" if torch.cuda.is_available() else \"cpu\"\n",
    "    dataset = load_mnist_dataset(train=False)\n",
    "    for logger in list_records:\n",
    "        params = logger.load_hparams()\n",
    "        record = logger.load_record()\n",
    "        conf = OmegaConf.structured(Params)\n",
    "        params = OmegaConf.merge(conf, params)\n",
    "        target_classifier = load_mnist_classifier(params.model_type, name=model_name, model_dir=params.model_dir, device=device, eval=True)\n",
    "        source_classifier = load_mnist_classifier(params.model_type, name=params.model_name, model_dir=params.model_dir, device=device, eval=True)\n",
    "        attacker = create_attacker(source_classifier, params.attacker_type, params.attacker_params)\n",
    "        transform = datastream.Compose([datastream.ToDevice(device), datastream.AttackerTransform(attacker),\n",
    "                                        datastream.ClassifierTransform(target_classifier)])\n",
    "        fool_rate = []\n",
    "        for run in record[\"runs\"]:\n",
    "            permutation = run[\"permutation\"]\n",
    "            indices = [x[1] for x in run[\"indices\"]]\n",
    "            target_stream = datastream.BatchDataStream(dataset, batch_size=1000, transform=transform, permutation=permutation)\n",
    "            stream = target_stream.subset(indices)\n",
    "            fool_rate.append(compute_attack_success_rate(stream)*100)\n",
    "\n",
    "        mean_fool_rate = np.mean(fool_rate)\n",
    "        std_fool_rate = np.std(fool_rate)\n",
    "        print(\"Fool rate for %s (K=%i): %.2f +/- %.2f\"%(params.online_params.online_type.name, params.online_params.K, mean_fool_rate, std_fool_rate))"
   ]
  },
  {
   "cell_type": "code",
   "execution_count": 11,
   "metadata": {},
   "outputs": [
    {
     "name": "stdout",
     "output_type": "stream",
     "text": [
      "Fool rate for OFFLINE (K=10): 100.00 +/- 0.00\n",
      "Fool rate for STOCHASTIC_VIRTUAL (K=10): 100.00 +/- 0.00\n",
      "Fool rate for STOCHASTIC_OPTIMISTIC (K=10): 100.00 +/- 0.00\n",
      "Fool rate for STOCHASTIC_MODIFIED_VIRTUAL (K=10): 100.00 +/- 0.00\n",
      "Fool rate for RANDOM (K=10): 78.00 +/- 19.39\n",
      "Fool rate for OFFLINE (K=100): 100.00 +/- 0.00\n",
      "Fool rate for STOCHASTIC_VIRTUAL (K=100): 99.39 +/- 0.75\n",
      "Fool rate for STOCHASTIC_OPTIMISTIC (K=100): 99.60 +/- 0.80\n",
      "Fool rate for STOCHASTIC_MODIFIED_VIRTUAL (K=100): 99.40 +/- 0.49\n",
      "Fool rate for RANDOM (K=100): 74.60 +/- 3.44\n",
      "Fool rate for OFFLINE (K=1000): 99.60 +/- 0.00\n",
      "Fool rate for STOCHASTIC_VIRTUAL (K=1000): 98.92 +/- 0.38\n",
      "Fool rate for STOCHASTIC_OPTIMISTIC (K=1000): 99.01 +/- 0.36\n",
      "Fool rate for STOCHASTIC_MODIFIED_VIRTUAL (K=1000): 99.00 +/- 0.29\n",
      "Fool rate for RANDOM (K=1000): 73.02 +/- 1.40\n"
     ]
    }
   ],
   "source": [
    "eval_fool_rate(\"/checkpoint/hberard/OnlineAttack/results\", \"1\")"
   ]
  },
  {
   "cell_type": "code",
   "execution_count": 12,
   "metadata": {},
   "outputs": [
    {
     "name": "stdout",
     "output_type": "stream",
     "text": [
      "Fool rate for OFFLINE (K=10): 40.00 +/- 0.00\n",
      "Fool rate for STOCHASTIC_VIRTUAL (K=10): 35.00 +/- 33.40\n",
      "Fool rate for STOCHASTIC_OPTIMISTIC (K=10): 36.00 +/- 34.41\n",
      "Fool rate for STOCHASTIC_MODIFIED_VIRTUAL (K=10): 38.89 +/- 30.74\n",
      "Fool rate for RANDOM (K=10): 4.00 +/- 4.90\n",
      "Fool rate for OFFLINE (K=100): 24.00 +/- 0.00\n",
      "Fool rate for STOCHASTIC_VIRTUAL (K=100): 22.24 +/- 5.83\n",
      "Fool rate for STOCHASTIC_OPTIMISTIC (K=100): 26.22 +/- 2.68\n",
      "Fool rate for STOCHASTIC_MODIFIED_VIRTUAL (K=100): 25.03 +/- 2.68\n",
      "Fool rate for RANDOM (K=100): 4.20 +/- 1.33\n",
      "Fool rate for OFFLINE (K=1000): 15.76 +/- 0.05\n",
      "Fool rate for STOCHASTIC_VIRTUAL (K=1000): 13.82 +/- 0.60\n",
      "Fool rate for STOCHASTIC_OPTIMISTIC (K=1000): 15.59 +/- 0.41\n",
      "Fool rate for STOCHASTIC_MODIFIED_VIRTUAL (K=1000): 14.00 +/- 0.44\n",
      "Fool rate for RANDOM (K=1000): 4.26 +/- 0.29\n"
     ]
    }
   ],
   "source": [
    "eval_fool_rate(\"/checkpoint/hberard/OnlineAttack/results\", \"PGD_ATTACK_train_0\")"
   ]
  },
  {
   "cell_type": "code",
   "execution_count": 13,
   "metadata": {},
   "outputs": [
    {
     "name": "stdout",
     "output_type": "stream",
     "text": [
      "Fool rate for OFFLINE (K=10): 100.00 +/- 0.00\n",
      "Fool rate for STOCHASTIC_VIRTUAL (K=10): 96.00 +/- 8.00\n",
      "Fool rate for STOCHASTIC_OPTIMISTIC (K=10): 100.00 +/- 0.00\n",
      "Fool rate for STOCHASTIC_MODIFIED_VIRTUAL (K=10): 97.78 +/- 4.44\n",
      "Fool rate for RANDOM (K=10): 20.00 +/- 8.94\n",
      "Fool rate for OFFLINE (K=100): 79.00 +/- 0.00\n",
      "Fool rate for STOCHASTIC_VIRTUAL (K=100): 80.20 +/- 1.04\n",
      "Fool rate for STOCHASTIC_OPTIMISTIC (K=100): 83.49 +/- 3.09\n",
      "Fool rate for STOCHASTIC_MODIFIED_VIRTUAL (K=100): 80.20 +/- 2.40\n",
      "Fool rate for RANDOM (K=100): 23.40 +/- 3.72\n",
      "Fool rate for OFFLINE (K=1000): 64.20 +/- 0.00\n",
      "Fool rate for STOCHASTIC_VIRTUAL (K=1000): 53.93 +/- 1.43\n",
      "Fool rate for STOCHASTIC_OPTIMISTIC (K=1000): 59.61 +/- 1.13\n",
      "Fool rate for STOCHASTIC_MODIFIED_VIRTUAL (K=1000): 55.05 +/- 0.74\n",
      "Fool rate for RANDOM (K=1000): 21.80 +/- 0.99\n"
     ]
    }
   ],
   "source": [
    "eval_fool_rate(\"/checkpoint/hberard/OnlineAttack/results_robust\", \"0\")"
   ]
  },
  {
   "cell_type": "code",
   "execution_count": 14,
   "metadata": {},
   "outputs": [
    {
     "name": "stdout",
     "output_type": "stream",
     "text": [
      "Fool rate for OFFLINE (K=10): 100.00 +/- 0.00\n",
      "Fool rate for STOCHASTIC_VIRTUAL (K=10): 100.00 +/- 0.00\n",
      "Fool rate for STOCHASTIC_OPTIMISTIC (K=10): 100.00 +/- 0.00\n",
      "Fool rate for STOCHASTIC_MODIFIED_VIRTUAL (K=10): 100.00 +/- 0.00\n",
      "Fool rate for RANDOM (K=10): 6.00 +/- 4.90\n",
      "Fool rate for OFFLINE (K=100): 91.00 +/- 0.00\n",
      "Fool rate for STOCHASTIC_VIRTUAL (K=100): 79.02 +/- 4.06\n",
      "Fool rate for STOCHASTIC_OPTIMISTIC (K=100): 83.79 +/- 4.03\n",
      "Fool rate for STOCHASTIC_MODIFIED_VIRTUAL (K=100): 80.60 +/- 0.49\n",
      "Fool rate for RANDOM (K=100): 3.80 +/- 1.94\n",
      "Fool rate for OFFLINE (K=1000): 36.70 +/- 0.00\n",
      "Fool rate for STOCHASTIC_VIRTUAL (K=1000): 21.46 +/- 2.42\n",
      "Fool rate for STOCHASTIC_OPTIMISTIC (K=1000): 34.21 +/- 1.84\n",
      "Fool rate for STOCHASTIC_MODIFIED_VIRTUAL (K=1000): 23.20 +/- 1.35\n",
      "Fool rate for RANDOM (K=1000): 3.94 +/- 0.41\n"
     ]
    }
   ],
   "source": [
    "eval_fool_rate(\"/checkpoint/hberard/OnlineAttack/results_robust\", \"PGD_ATTACK_train_1\")"
   ]
  },
  {
   "cell_type": "code",
   "execution_count": 19,
   "metadata": {},
   "outputs": [
    {
     "name": "stdout",
     "output_type": "stream",
     "text": [
      "Fool rate for OFFLINE (K=10): 92.00 +/- 7.48\n",
      "Fool rate for STOCHASTIC_VIRTUAL (K=10): 77.29 +/- 22.19\n",
      "Fool rate for STOCHASTIC_OPTIMISTIC (K=10): 90.00 +/- 12.25\n",
      "Fool rate for STOCHASTIC_MODIFIED_VIRTUAL (K=10): 90.00 +/- 12.65\n",
      "Fool rate for RANDOM (K=10): 4.00 +/- 4.90\n",
      "Fool rate for OFFLINE (K=100): 52.40 +/- 3.44\n",
      "Fool rate for STOCHASTIC_VIRTUAL (K=100): 40.07 +/- 5.57\n",
      "Fool rate for STOCHASTIC_OPTIMISTIC (K=100): 51.97 +/- 6.56\n",
      "Fool rate for STOCHASTIC_MODIFIED_VIRTUAL (K=100): 41.16 +/- 2.87\n",
      "Fool rate for RANDOM (K=100): 1.80 +/- 1.60\n",
      "Fool rate for OFFLINE (K=1000): 11.76 +/- 0.42\n",
      "Fool rate for STOCHASTIC_VIRTUAL (K=1000): 6.26 +/- 1.03\n",
      "Fool rate for STOCHASTIC_OPTIMISTIC (K=1000): 13.40 +/- 1.63\n",
      "Fool rate for STOCHASTIC_MODIFIED_VIRTUAL (K=1000): 7.25 +/- 0.78\n",
      "Fool rate for RANDOM (K=1000): 1.22 +/- 0.10\n"
     ]
    }
   ],
   "source": [
    "eval_fool_rate(\"/checkpoint/hberard/OnlineAttack/results_pgd\", \"PGD_ATTACK_train_1\")"
   ]
  },
  {
   "cell_type": "code",
   "execution_count": 18,
   "metadata": {},
   "outputs": [
    {
     "name": "stdout",
     "output_type": "stream",
     "text": [
      "Fool rate for OFFLINE (K=10): 82.00 +/- 13.27\n",
      "Fool rate for STOCHASTIC_VIRTUAL (K=10): 69.62 +/- 16.81\n",
      "Fool rate for STOCHASTIC_OPTIMISTIC (K=10): 73.00 +/- 28.21\n",
      "Fool rate for STOCHASTIC_MODIFIED_VIRTUAL (K=10): 81.78 +/- 7.26\n",
      "Fool rate for RANDOM (K=10): 6.00 +/- 4.90\n",
      "Fool rate for OFFLINE (K=100): 58.40 +/- 2.80\n",
      "Fool rate for STOCHASTIC_VIRTUAL (K=100): 52.18 +/- 3.21\n",
      "Fool rate for STOCHASTIC_OPTIMISTIC (K=100): 61.53 +/- 4.58\n",
      "Fool rate for STOCHASTIC_MODIFIED_VIRTUAL (K=100): 55.23 +/- 3.23\n",
      "Fool rate for RANDOM (K=100): 6.80 +/- 0.75\n",
      "Fool rate for OFFLINE (K=1000): 31.68 +/- 0.69\n",
      "Fool rate for STOCHASTIC_VIRTUAL (K=1000): 21.45 +/- 1.30\n",
      "Fool rate for STOCHASTIC_OPTIMISTIC (K=1000): 28.88 +/- 1.67\n",
      "Fool rate for STOCHASTIC_MODIFIED_VIRTUAL (K=1000): 23.66 +/- 1.01\n",
      "Fool rate for RANDOM (K=1000): 6.36 +/- 0.75\n"
     ]
    }
   ],
   "source": [
    "eval_fool_rate(\"/checkpoint/hberard/OnlineAttack/results_pgd\", \"0\")"
   ]
  },
  {
   "cell_type": "markdown",
   "metadata": {},
   "source": []
  },
  {
   "cell_type": "markdown",
   "metadata": {},
   "source": [
    "# New Results"
   ]
  },
  {
   "cell_type": "code",
   "execution_count": 2,
   "metadata": {},
   "outputs": [],
   "source": [
    "from online_attacks.utils.logger import Logger\n",
    "from online_attacks.classifiers import load_dataset, load_classifier, MnistModel, DatasetType, CifarModel\n",
    "from online_attacks.datastream import datastream\n",
    "from online_attacks.attacks import create_attacker, compute_attack_success_rate\n",
    "from online_attacks.online_algorithms import AlgorithmType, create_algorithm, compute_indices, compute_competitive_ratio\n",
    "from online_attacks.scripts.online_attacks_sweep import OnlineAttackExp, Params, CifarParams\n",
    "from omegaconf import OmegaConf\n",
    "import numpy as np\n",
    "import torch\n",
    "from torch.nn import CrossEntropyLoss\n",
    "from collections import defaultdict\n",
    "from typing import Iterable\n",
    "import glob\n",
    "import os\n",
    "os.environ[\"CUDA_VISIBLE_DEVICES\"]=\"1\""
   ]
  },
  {
   "cell_type": "code",
   "execution_count": 3,
   "metadata": {},
   "outputs": [],
   "source": [
    "def eval_classifier(dataset: DatasetType, model_type: MnistModel, model_name: str, model_dir='/checkpoint/hberard/OnlineAttack/pretained_models/'):\n",
    "    device = \"cuda\" if torch.cuda.is_available() else \"cpu\"\n",
    "    classifier = load_classifier(dataset, model_type, name=model_name, model_dir=model_dir, device=device, eval=True)\n",
    "    dataset = load_dataset(dataset, train=False)\n",
    "    transform = datastream.Compose([datastream.ToDevice(device), datastream.ClassifierTransform(classifier)])\n",
    "    stream = datastream.BatchDataStream(dataset, batch_size=1000, transform=transform, return_target=True)\n",
    "    fool_rate, knapsack = compute_attack_success_rate(stream, CrossEntropyLoss(reduction=\"sum\"))\n",
    "    print(fool_rate/len(dataset)*100)\n",
    "    \n",
    "\n",
    "def eval_comp_ratio(path, model_name, dataset_type=DatasetType.MNIST, batch_size=1000, effective=False, filters={}, return_latex=True):\n",
    "    list_records = Logger.list_all_records(path)\n",
    "    device = \"cuda\" if torch.cuda.is_available() else \"cpu\"\n",
    "    for logger in list_records:\n",
    "        params = logger.load_hparams()\n",
    "        ignore_flag = False\n",
    "        for key, values in filters.items():\n",
    "            if not isinstance(values, Iterable):\n",
    "                values = [values]\n",
    "            if OmegaConf.select(params, key) not in values:\n",
    "                ignore_flag = True\n",
    "                break\n",
    "        if ignore_flag:\n",
    "            continue\n",
    "             \n",
    "        record = logger.load_record()\n",
    "        if params.dataset is None:\n",
    "            params.dataset = dataset_type\n",
    "        if params.batch_size is None:\n",
    "            params.batch_size = batch_size\n",
    "            \n",
    "        params = OmegaConf.structured(Params(**params))\n",
    "        params = OnlineAttackExp.create_params(params)\n",
    "        \n",
    "        dataset = load_dataset(params.dataset, train=False)\n",
    "        target_classifier = load_classifier(params.dataset, params.model_type, name=model_name, model_dir=params.model_dir, device=device, eval=True)\n",
    "        source_classifier = load_classifier(params.dataset, params.model_type, name=params.model_name, model_dir=params.model_dir, device=device, eval=True)    \n",
    "        attacker = create_attacker(source_classifier, params.attacker_type, params.attacker_params)\n",
    "        \n",
    "        transform = datastream.Compose([datastream.ToDevice(device), datastream.AttackerTransform(attacker),\n",
    "                                        datastream.ClassifierTransform(target_classifier)])\n",
    "        \n",
    "        target_transform = datastream.Compose([datastream.ToDevice(device), datastream.AttackerTransform(attacker),\n",
    "                                    datastream.ClassifierTransform(target_classifier), datastream.LossTransform(CrossEntropyLoss(reduction=\"none\"))])\n",
    "        algorithm = create_algorithm(AlgorithmType.OFFLINE, params.online_params)\n",
    "        target_stream = datastream.BatchDataStream(dataset, batch_size=params.batch_size, transform=target_transform) \n",
    "        offline_indices = compute_indices(target_stream, algorithm, pbar_flag=False)[algorithm[0].name]\n",
    "        \n",
    "        target_stream = datastream.BatchDataStream(dataset, batch_size=params.batch_size, transform=target_transform) \n",
    "        offline_indices = compute_indices(target_stream, algorithm, pbar_flag=False)[algorithm[0].name]\n",
    "        \n",
    "        indices = [x[1] for x in offline_indices]\n",
    "        target_stream = datastream.BatchDataStream(dataset, batch_size=params.batch_size, transform=transform)\n",
    "        stream = target_stream.subset(indices)\n",
    "        offline_fool_rate, knapsack_offline = compute_attack_success_rate(stream, CrossEntropyLoss(reduction=\"sum\"))        \n",
    "        \n",
    "        fool_rate_dict = defaultdict(list)\n",
    "        comp_ratio_dict = defaultdict(list)\n",
    "        knapsack_ratio_dict = defaultdict(list)\n",
    "        for run in record[\"runs\"]:\n",
    "            permutation = run[\"permutation\"]\n",
    "            for name, indices in run[\"indices\"].items():\n",
    "                permuted_indices = [(x, permutation[index]) for x, index in indices]\n",
    "                comp_ratio = compute_competitive_ratio(permuted_indices, offline_indices)/len(offline_indices)*100\n",
    "                                \n",
    "                indices = [x[1] for x in indices]\n",
    "                target_stream = datastream.BatchDataStream(dataset, batch_size=params.batch_size, transform=transform, permutation=permutation)\n",
    "                stream = target_stream.subset(indices)\n",
    "                fool_rate, knapsack = compute_attack_success_rate(stream, CrossEntropyLoss(reduction=\"sum\"))\n",
    "                num = offline_fool_rate\n",
    "                if effective:\n",
    "                    num = len(indices)\n",
    "                fool_rate = fool_rate/num*100\n",
    "                \n",
    "                fool_rate_dict[name].append(fool_rate)\n",
    "                comp_ratio_dict[name].append(comp_ratio)\n",
    "                \n",
    "                knapsack_ratio_dict[name].append(knapsack/knapsack_offline*100)\n",
    "        \n",
    "        latex_table = \"Algorithm & Fool Rate & Comp Ratio & Knapsack Ratio \\\\\\\\ \\n\"\n",
    "        for name in fool_rate_dict:\n",
    "            fool_rate = fool_rate_dict[name]     \n",
    "            mean_fool_rate = np.mean(fool_rate)\n",
    "            std_fool_rate = np.std(fool_rate)\n",
    "\n",
    "            mean_comp_ratio = np.mean(comp_ratio_dict[name])\n",
    "            std_comp_ratio = np.std(comp_ratio_dict[name])\n",
    "\n",
    "            mean_knapsack_ratio = np.mean(knapsack_ratio_dict[name])\n",
    "            std_knapsack_ratio = np.std(knapsack_ratio_dict[name])\n",
    "\n",
    "            if not return_latex:\n",
    "                print(\"%s (K=%i): fool rate = %.2f +/- %.2f, comp ratio = %.2f +/- %.2f, knapsack ratio = %.2f +/- %.2f\"%(\n",
    "                    name, params.online_params.K, mean_fool_rate, std_fool_rate, mean_comp_ratio, std_comp_ratio,\n",
    "                    mean_knapsack_ratio, std_knapsack_ratio))\n",
    "\n",
    "            latex_table += \"%s & %.2f $\\pm$ %.2f & %.2f $\\pm$ %.2f & %.2f $\\pm$ %.2f \\\\\\\\ \\n\" % (\n",
    "                            name, mean_fool_rate, std_fool_rate, mean_comp_ratio, std_comp_ratio,\n",
    "                            mean_knapsack_ratio, std_knapsack_ratio)\n",
    "\n",
    "        latex_table = \"\\\\begin{table*}[h] \\n \\\\begin{center}\\\\begin{tabular}{ c c c c }\\n %s\\\\end{tabular}\\\\end{center} \\n\\end{table*}\" % latex_table\n",
    "        latex_table = latex_table.replace(\"_\", \" \")\n",
    "        if return_latex:\n",
    "            print(latex_table)\n",
    "            \n",
    "        table = \"\"\n",
    "        for name in fool_rate_dict:\n",
    "            table += name + \"\\t\"\n",
    "        table += \"\\n\"\n",
    "        for name_1, array_1 in fool_rate_dict.items():\n",
    "            for name_2, array_2 in fool_rate_dict.items():\n",
    "                comparison = np.greater(array_1, array_2)\n",
    "                table += str(comparison.sum()) + \"/%.i \\t\"%len(comparison)\n",
    "            table += \"\\n\"\n",
    "        print(table)\n",
    "            \n",
    "            \n",
    "                \n",
    "                \n",
    "            \n",
    "            "
   ]
  },
  {
   "cell_type": "code",
   "execution_count": 4,
   "metadata": {},
   "outputs": [
    {
     "name": "stderr",
     "output_type": "stream",
     "text": [
      "/private/home/hberard/.conda/envs/dev/lib/python3.7/site-packages/tensorflow/python/framework/dtypes.py:516: FutureWarning: Passing (type, 1) or '1type' as a synonym of type is deprecated; in a future version of numpy, it will be understood as (type, (1,)) / '(1,)type'.\n",
      "  _np_qint8 = np.dtype([(\"qint8\", np.int8, 1)])\n",
      "/private/home/hberard/.conda/envs/dev/lib/python3.7/site-packages/tensorflow/python/framework/dtypes.py:517: FutureWarning: Passing (type, 1) or '1type' as a synonym of type is deprecated; in a future version of numpy, it will be understood as (type, (1,)) / '(1,)type'.\n",
      "  _np_quint8 = np.dtype([(\"quint8\", np.uint8, 1)])\n",
      "/private/home/hberard/.conda/envs/dev/lib/python3.7/site-packages/tensorflow/python/framework/dtypes.py:518: FutureWarning: Passing (type, 1) or '1type' as a synonym of type is deprecated; in a future version of numpy, it will be understood as (type, (1,)) / '(1,)type'.\n",
      "  _np_qint16 = np.dtype([(\"qint16\", np.int16, 1)])\n",
      "/private/home/hberard/.conda/envs/dev/lib/python3.7/site-packages/tensorflow/python/framework/dtypes.py:519: FutureWarning: Passing (type, 1) or '1type' as a synonym of type is deprecated; in a future version of numpy, it will be understood as (type, (1,)) / '(1,)type'.\n",
      "  _np_quint16 = np.dtype([(\"quint16\", np.uint16, 1)])\n",
      "/private/home/hberard/.conda/envs/dev/lib/python3.7/site-packages/tensorflow/python/framework/dtypes.py:520: FutureWarning: Passing (type, 1) or '1type' as a synonym of type is deprecated; in a future version of numpy, it will be understood as (type, (1,)) / '(1,)type'.\n",
      "  _np_qint32 = np.dtype([(\"qint32\", np.int32, 1)])\n",
      "/private/home/hberard/.conda/envs/dev/lib/python3.7/site-packages/tensorflow/python/framework/dtypes.py:525: FutureWarning: Passing (type, 1) or '1type' as a synonym of type is deprecated; in a future version of numpy, it will be understood as (type, (1,)) / '(1,)type'.\n",
      "  np_resource = np.dtype([(\"resource\", np.ubyte, 1)])\n"
     ]
    },
    {
     "name": "stdout",
     "output_type": "stream",
     "text": [
      "madry_mnist found and imported\n",
      "WARNING:tensorflow:From /private/home/hberard/Projects/online_adversarial_attacks/online_attacks/classifiers/madry/__init__.py:27: The name tf.ConfigProto is deprecated. Please use tf.compat.v1.ConfigProto instead.\n",
      "\n"
     ]
    },
    {
     "name": "stderr",
     "output_type": "stream",
     "text": [
      "/private/home/hberard/.conda/envs/dev/lib/python3.7/site-packages/tensorboard/compat/tensorflow_stub/dtypes.py:541: FutureWarning: Passing (type, 1) or '1type' as a synonym of type is deprecated; in a future version of numpy, it will be understood as (type, (1,)) / '(1,)type'.\n",
      "  _np_qint8 = np.dtype([(\"qint8\", np.int8, 1)])\n",
      "/private/home/hberard/.conda/envs/dev/lib/python3.7/site-packages/tensorboard/compat/tensorflow_stub/dtypes.py:542: FutureWarning: Passing (type, 1) or '1type' as a synonym of type is deprecated; in a future version of numpy, it will be understood as (type, (1,)) / '(1,)type'.\n",
      "  _np_quint8 = np.dtype([(\"quint8\", np.uint8, 1)])\n",
      "/private/home/hberard/.conda/envs/dev/lib/python3.7/site-packages/tensorboard/compat/tensorflow_stub/dtypes.py:543: FutureWarning: Passing (type, 1) or '1type' as a synonym of type is deprecated; in a future version of numpy, it will be understood as (type, (1,)) / '(1,)type'.\n",
      "  _np_qint16 = np.dtype([(\"qint16\", np.int16, 1)])\n",
      "/private/home/hberard/.conda/envs/dev/lib/python3.7/site-packages/tensorboard/compat/tensorflow_stub/dtypes.py:544: FutureWarning: Passing (type, 1) or '1type' as a synonym of type is deprecated; in a future version of numpy, it will be understood as (type, (1,)) / '(1,)type'.\n",
      "  _np_quint16 = np.dtype([(\"quint16\", np.uint16, 1)])\n",
      "/private/home/hberard/.conda/envs/dev/lib/python3.7/site-packages/tensorboard/compat/tensorflow_stub/dtypes.py:545: FutureWarning: Passing (type, 1) or '1type' as a synonym of type is deprecated; in a future version of numpy, it will be understood as (type, (1,)) / '(1,)type'.\n",
      "  _np_qint32 = np.dtype([(\"qint32\", np.int32, 1)])\n",
      "/private/home/hberard/.conda/envs/dev/lib/python3.7/site-packages/tensorboard/compat/tensorflow_stub/dtypes.py:550: FutureWarning: Passing (type, 1) or '1type' as a synonym of type is deprecated; in a future version of numpy, it will be understood as (type, (1,)) / '(1,)type'.\n",
      "  np_resource = np.dtype([(\"resource\", np.ubyte, 1)])\n"
     ]
    },
    {
     "name": "stdout",
     "output_type": "stream",
     "text": [
      "WARNING:tensorflow:From /private/home/hberard/Projects/online_adversarial_attacks/online_attacks/classifiers/madry/madry_mnist/model.py:13: The name tf.placeholder is deprecated. Please use tf.compat.v1.placeholder instead.\n",
      "\n",
      "WARNING:tensorflow:From /private/home/hberard/Projects/online_adversarial_attacks/online_attacks/classifiers/madry/madry_mnist/model.py:59: The name tf.truncated_normal is deprecated. Please use tf.random.truncated_normal instead.\n",
      "\n",
      "WARNING:tensorflow:From /private/home/hberard/Projects/online_adversarial_attacks/online_attacks/classifiers/madry/madry_mnist/model.py:73: The name tf.nn.max_pool is deprecated. Please use tf.nn.max_pool2d instead.\n",
      "\n",
      "WARNING:tensorflow:From /private/home/hberard/Projects/online_adversarial_attacks/online_attacks/classifiers/madry/__init__.py:34: The name tf.train.Saver is deprecated. Please use tf.compat.v1.train.Saver instead.\n",
      "\n",
      "WARNING:tensorflow:From /private/home/hberard/Projects/online_adversarial_attacks/online_attacks/classifiers/madry/__init__.py:35: The name tf.Session is deprecated. Please use tf.compat.v1.Session instead.\n",
      "\n",
      "WARNING:tensorflow:From /private/home/hberard/.conda/envs/dev/lib/python3.7/site-packages/tensorflow/python/training/saver.py:1276: checkpoint_exists (from tensorflow.python.training.checkpoint_management) is deprecated and will be removed in a future version.\n",
      "Instructions for updating:\n",
      "Use standard file APIs to check for files with this prefix.\n",
      "INFO:tensorflow:Restoring parameters from /checkpoint/hberard/OnlineAttack/pretained_models/mnist/madry/secret/checkpoint-99900\n",
      "1.47\n"
     ]
    }
   ],
   "source": [
    "eval_classifier(DatasetType.MNIST, MnistModel.MADRY_MODEL, 'secret')"
   ]
  },
  {
   "cell_type": "code",
   "execution_count": 84,
   "metadata": {},
   "outputs": [
    {
     "data": {
      "text/plain": [
       "{'a': defaultdict(list, {}), 'b': defaultdict(list, {})}"
      ]
     },
     "execution_count": 84,
     "metadata": {},
     "output_type": "execute_result"
    }
   ],
   "source": [
    "record = {\"a\":1, \"b\":2}\n",
    "{name: defaultdict(list) for name in record}"
   ]
  },
  {
   "cell_type": "code",
   "execution_count": 10,
   "metadata": {},
   "outputs": [
    {
     "name": "stdout",
     "output_type": "stream",
     "text": [
      "Files already downloaded and verified\n",
      "madry_cifar found and imported\n",
      "INFO:tensorflow:Restoring parameters from /checkpoint/hberard/OnlineAttack/pretained_models/cifar/madry/secret/checkpoint-70000\n",
      "madry_cifar found and imported\n"
     ]
    },
    {
     "ename": "KeyboardInterrupt",
     "evalue": "",
     "output_type": "error",
     "traceback": [
      "\u001b[0;31m---------------------------------------------------------------------------\u001b[0m",
      "\u001b[0;31mKeyboardInterrupt\u001b[0m                         Traceback (most recent call last)",
      "\u001b[0;32m<ipython-input-10-d87cac08a0f6>\u001b[0m in \u001b[0;36m<module>\u001b[0;34m\u001b[0m\n\u001b[1;32m      1\u001b[0m \u001b[0mos\u001b[0m\u001b[0;34m.\u001b[0m\u001b[0menviron\u001b[0m\u001b[0;34m[\u001b[0m\u001b[0;34m\"CUDA_VISIBLE_DEVICES\"\u001b[0m\u001b[0;34m]\u001b[0m\u001b[0;34m=\u001b[0m\u001b[0;34m\"1\"\u001b[0m\u001b[0;34m\u001b[0m\u001b[0;34m\u001b[0m\u001b[0m\n\u001b[0;32m----> 2\u001b[0;31m \u001b[0meval_comp_ratio\u001b[0m\u001b[0;34m(\u001b[0m\u001b[0;34m\"/checkpoint/hberard/OnlineAttack/results_icml/default\"\u001b[0m\u001b[0;34m,\u001b[0m \u001b[0;34m\"secret\"\u001b[0m\u001b[0;34m,\u001b[0m \u001b[0mreturn_latex\u001b[0m\u001b[0;34m=\u001b[0m\u001b[0;32mFalse\u001b[0m\u001b[0;34m)\u001b[0m\u001b[0;34m\u001b[0m\u001b[0;34m\u001b[0m\u001b[0m\n\u001b[0m",
      "\u001b[0;32m<ipython-input-2-4127d6a3436b>\u001b[0m in \u001b[0;36meval_comp_ratio\u001b[0;34m(path, model_name, dataset_type, batch_size, effective, filters, return_latex)\u001b[0m\n\u001b[1;32m     35\u001b[0m         \u001b[0mdataset\u001b[0m \u001b[0;34m=\u001b[0m \u001b[0mload_dataset\u001b[0m\u001b[0;34m(\u001b[0m\u001b[0mparams\u001b[0m\u001b[0;34m.\u001b[0m\u001b[0mdataset\u001b[0m\u001b[0;34m,\u001b[0m \u001b[0mtrain\u001b[0m\u001b[0;34m=\u001b[0m\u001b[0;32mFalse\u001b[0m\u001b[0;34m)\u001b[0m\u001b[0;34m\u001b[0m\u001b[0;34m\u001b[0m\u001b[0m\n\u001b[1;32m     36\u001b[0m         \u001b[0mtarget_classifier\u001b[0m \u001b[0;34m=\u001b[0m \u001b[0mload_classifier\u001b[0m\u001b[0;34m(\u001b[0m\u001b[0mparams\u001b[0m\u001b[0;34m.\u001b[0m\u001b[0mdataset\u001b[0m\u001b[0;34m,\u001b[0m \u001b[0mparams\u001b[0m\u001b[0;34m.\u001b[0m\u001b[0mmodel_type\u001b[0m\u001b[0;34m,\u001b[0m \u001b[0mname\u001b[0m\u001b[0;34m=\u001b[0m\u001b[0mmodel_name\u001b[0m\u001b[0;34m,\u001b[0m \u001b[0mmodel_dir\u001b[0m\u001b[0;34m=\u001b[0m\u001b[0mparams\u001b[0m\u001b[0;34m.\u001b[0m\u001b[0mmodel_dir\u001b[0m\u001b[0;34m,\u001b[0m \u001b[0mdevice\u001b[0m\u001b[0;34m=\u001b[0m\u001b[0mdevice\u001b[0m\u001b[0;34m,\u001b[0m \u001b[0meval\u001b[0m\u001b[0;34m=\u001b[0m\u001b[0;32mTrue\u001b[0m\u001b[0;34m)\u001b[0m\u001b[0;34m\u001b[0m\u001b[0;34m\u001b[0m\u001b[0m\n\u001b[0;32m---> 37\u001b[0;31m         \u001b[0msource_classifier\u001b[0m \u001b[0;34m=\u001b[0m \u001b[0mload_classifier\u001b[0m\u001b[0;34m(\u001b[0m\u001b[0mparams\u001b[0m\u001b[0;34m.\u001b[0m\u001b[0mdataset\u001b[0m\u001b[0;34m,\u001b[0m \u001b[0mparams\u001b[0m\u001b[0;34m.\u001b[0m\u001b[0mmodel_type\u001b[0m\u001b[0;34m,\u001b[0m \u001b[0mname\u001b[0m\u001b[0;34m=\u001b[0m\u001b[0mparams\u001b[0m\u001b[0;34m.\u001b[0m\u001b[0mmodel_name\u001b[0m\u001b[0;34m,\u001b[0m \u001b[0mmodel_dir\u001b[0m\u001b[0;34m=\u001b[0m\u001b[0mparams\u001b[0m\u001b[0;34m.\u001b[0m\u001b[0mmodel_dir\u001b[0m\u001b[0;34m,\u001b[0m \u001b[0mdevice\u001b[0m\u001b[0;34m=\u001b[0m\u001b[0mdevice\u001b[0m\u001b[0;34m,\u001b[0m \u001b[0meval\u001b[0m\u001b[0;34m=\u001b[0m\u001b[0;32mTrue\u001b[0m\u001b[0;34m)\u001b[0m\u001b[0;34m\u001b[0m\u001b[0;34m\u001b[0m\u001b[0m\n\u001b[0m\u001b[1;32m     38\u001b[0m         \u001b[0mattacker\u001b[0m \u001b[0;34m=\u001b[0m \u001b[0mcreate_attacker\u001b[0m\u001b[0;34m(\u001b[0m\u001b[0msource_classifier\u001b[0m\u001b[0;34m,\u001b[0m \u001b[0mparams\u001b[0m\u001b[0;34m.\u001b[0m\u001b[0mattacker_type\u001b[0m\u001b[0;34m,\u001b[0m \u001b[0mparams\u001b[0m\u001b[0;34m.\u001b[0m\u001b[0mattacker_params\u001b[0m\u001b[0;34m)\u001b[0m\u001b[0;34m\u001b[0m\u001b[0;34m\u001b[0m\u001b[0m\n\u001b[1;32m     39\u001b[0m \u001b[0;34m\u001b[0m\u001b[0m\n",
      "\u001b[0;32m~/Projects/online_adversarial_attacks/online_attacks/classifiers/__init__.py\u001b[0m in \u001b[0;36mload_classifier\u001b[0;34m(dataset, model_type, name, model_dir, device, eval)\u001b[0m\n\u001b[1;32m     20\u001b[0m     \u001b[0;32melif\u001b[0m \u001b[0mdataset\u001b[0m \u001b[0;34m==\u001b[0m \u001b[0mDatasetType\u001b[0m\u001b[0;34m.\u001b[0m\u001b[0mCIFAR\u001b[0m\u001b[0;34m:\u001b[0m\u001b[0;34m\u001b[0m\u001b[0;34m\u001b[0m\u001b[0m\n\u001b[1;32m     21\u001b[0m         \u001b[0;32massert\u001b[0m \u001b[0misinstance\u001b[0m\u001b[0;34m(\u001b[0m\u001b[0mmodel_type\u001b[0m\u001b[0;34m,\u001b[0m \u001b[0mCifarModel\u001b[0m\u001b[0;34m)\u001b[0m\u001b[0;34m\u001b[0m\u001b[0;34m\u001b[0m\u001b[0m\n\u001b[0;32m---> 22\u001b[0;31m         \u001b[0;32mreturn\u001b[0m \u001b[0mload_cifar_classifier\u001b[0m\u001b[0;34m(\u001b[0m\u001b[0mmodel_type\u001b[0m\u001b[0;34m,\u001b[0m \u001b[0mname\u001b[0m\u001b[0;34m=\u001b[0m\u001b[0mname\u001b[0m\u001b[0;34m,\u001b[0m \u001b[0mmodel_dir\u001b[0m\u001b[0;34m=\u001b[0m\u001b[0mmodel_dir\u001b[0m\u001b[0;34m,\u001b[0m \u001b[0mdevice\u001b[0m\u001b[0;34m=\u001b[0m\u001b[0mdevice\u001b[0m\u001b[0;34m,\u001b[0m \u001b[0meval\u001b[0m\u001b[0;34m=\u001b[0m\u001b[0meval\u001b[0m\u001b[0;34m)\u001b[0m\u001b[0;34m\u001b[0m\u001b[0;34m\u001b[0m\u001b[0m\n\u001b[0m\u001b[1;32m     23\u001b[0m     \u001b[0;32melse\u001b[0m\u001b[0;34m:\u001b[0m\u001b[0;34m\u001b[0m\u001b[0;34m\u001b[0m\u001b[0m\n\u001b[1;32m     24\u001b[0m         \u001b[0;32mraise\u001b[0m \u001b[0mValueError\u001b[0m\u001b[0;34m(\u001b[0m\u001b[0;34m)\u001b[0m\u001b[0;34m\u001b[0m\u001b[0;34m\u001b[0m\u001b[0m\n",
      "\u001b[0;32m~/Projects/online_adversarial_attacks/online_attacks/classifiers/cifar/models/__init__.py\u001b[0m in \u001b[0;36mload_cifar_classifier\u001b[0;34m(model_type, name, model_dir, device, eval)\u001b[0m\n\u001b[1;32m     36\u001b[0m         \u001b[0mfilename\u001b[0m \u001b[0;34m=\u001b[0m \u001b[0mos\u001b[0m\u001b[0;34m.\u001b[0m\u001b[0mpath\u001b[0m\u001b[0;34m.\u001b[0m\u001b[0mjoin\u001b[0m\u001b[0;34m(\u001b[0m\u001b[0mmodel_dir\u001b[0m\u001b[0;34m,\u001b[0m \u001b[0;34m\"cifar\"\u001b[0m\u001b[0;34m,\u001b[0m \u001b[0mmodel_type\u001b[0m\u001b[0;34m.\u001b[0m\u001b[0mvalue\u001b[0m\u001b[0;34m,\u001b[0m \u001b[0;34m\"%s\"\u001b[0m\u001b[0;34m%\u001b[0m\u001b[0mname\u001b[0m\u001b[0;34m)\u001b[0m\u001b[0;34m\u001b[0m\u001b[0;34m\u001b[0m\u001b[0m\n\u001b[1;32m     37\u001b[0m         \u001b[0;32mif\u001b[0m \u001b[0mos\u001b[0m\u001b[0;34m.\u001b[0m\u001b[0mpath\u001b[0m\u001b[0;34m.\u001b[0m\u001b[0mexists\u001b[0m\u001b[0;34m(\u001b[0m\u001b[0mfilename\u001b[0m\u001b[0;34m)\u001b[0m\u001b[0;34m:\u001b[0m\u001b[0;34m\u001b[0m\u001b[0;34m\u001b[0m\u001b[0m\n\u001b[0;32m---> 38\u001b[0;31m             \u001b[0mmodel\u001b[0m \u001b[0;34m=\u001b[0m \u001b[0mload_madry_model\u001b[0m\u001b[0;34m(\u001b[0m\u001b[0;34m\"cifar\"\u001b[0m\u001b[0;34m,\u001b[0m \u001b[0mfilename\u001b[0m\u001b[0;34m)\u001b[0m\u001b[0;34m\u001b[0m\u001b[0;34m\u001b[0m\u001b[0m\n\u001b[0m\u001b[1;32m     39\u001b[0m         \u001b[0;32melse\u001b[0m\u001b[0;34m:\u001b[0m\u001b[0;34m\u001b[0m\u001b[0;34m\u001b[0m\u001b[0m\n\u001b[1;32m     40\u001b[0m             \u001b[0;32mraise\u001b[0m \u001b[0mOSError\u001b[0m\u001b[0;34m(\u001b[0m\u001b[0;34m\"File %s not found !\"\u001b[0m\u001b[0;34m%\u001b[0m\u001b[0mfilename\u001b[0m\u001b[0;34m)\u001b[0m\u001b[0;34m\u001b[0m\u001b[0;34m\u001b[0m\u001b[0m\n",
      "\u001b[0;32m~/Projects/online_adversarial_attacks/online_attacks/classifiers/madry/__init__.py\u001b[0m in \u001b[0;36mload_madry_model\u001b[0;34m(dataname, weights_path, device)\u001b[0m\n\u001b[1;32m    138\u001b[0m \u001b[0;34m\u001b[0m\u001b[0m\n\u001b[1;32m    139\u001b[0m     ptmodel = TorchWrappedModel(\n\u001b[0;32m--> 140\u001b[0;31m         WrappedTfModel(weights_path, Model), device)\n\u001b[0m\u001b[1;32m    141\u001b[0m     model = BPDAWrapper(\n\u001b[1;32m    142\u001b[0m         \u001b[0mforward\u001b[0m\u001b[0;34m=\u001b[0m\u001b[0m_wrap_forward\u001b[0m\u001b[0;34m(\u001b[0m\u001b[0mptmodel\u001b[0m\u001b[0;34m.\u001b[0m\u001b[0mforward\u001b[0m\u001b[0;34m)\u001b[0m\u001b[0;34m,\u001b[0m\u001b[0;34m\u001b[0m\u001b[0;34m\u001b[0m\u001b[0m\n",
      "\u001b[0;32m~/Projects/online_adversarial_attacks/online_attacks/classifiers/madry/__init__.py\u001b[0m in \u001b[0;36m__init__\u001b[0;34m(self, weights_path, model_class, scope)\u001b[0m\n\u001b[1;32m     31\u001b[0m         \u001b[0mg\u001b[0m \u001b[0;34m=\u001b[0m \u001b[0mtf\u001b[0m\u001b[0;34m.\u001b[0m\u001b[0mGraph\u001b[0m\u001b[0;34m(\u001b[0m\u001b[0;34m)\u001b[0m\u001b[0;34m\u001b[0m\u001b[0;34m\u001b[0m\u001b[0m\n\u001b[1;32m     32\u001b[0m         \u001b[0;32mwith\u001b[0m \u001b[0mg\u001b[0m\u001b[0;34m.\u001b[0m\u001b[0mas_default\u001b[0m\u001b[0;34m(\u001b[0m\u001b[0;34m)\u001b[0m\u001b[0;34m:\u001b[0m\u001b[0;34m\u001b[0m\u001b[0;34m\u001b[0m\u001b[0m\n\u001b[0;32m---> 33\u001b[0;31m             \u001b[0mmodel\u001b[0m \u001b[0;34m=\u001b[0m \u001b[0mmodel_class\u001b[0m\u001b[0;34m(\u001b[0m\u001b[0;34m)\u001b[0m \u001b[0;31m# load model ops/vars in new graph\u001b[0m\u001b[0;34m\u001b[0m\u001b[0;34m\u001b[0m\u001b[0m\n\u001b[0m\u001b[1;32m     34\u001b[0m             \u001b[0msaver\u001b[0m \u001b[0;34m=\u001b[0m \u001b[0mtf\u001b[0m\u001b[0;34m.\u001b[0m\u001b[0mtrain\u001b[0m\u001b[0;34m.\u001b[0m\u001b[0mSaver\u001b[0m\u001b[0;34m(\u001b[0m\u001b[0;34m)\u001b[0m \u001b[0;31m# grab vars from default graph\u001b[0m\u001b[0;34m\u001b[0m\u001b[0;34m\u001b[0m\u001b[0m\n\u001b[1;32m     35\u001b[0m         \u001b[0msess\u001b[0m \u001b[0;34m=\u001b[0m \u001b[0mtf\u001b[0m\u001b[0;34m.\u001b[0m\u001b[0mSession\u001b[0m\u001b[0;34m(\u001b[0m\u001b[0mgraph\u001b[0m\u001b[0;34m=\u001b[0m\u001b[0mg\u001b[0m\u001b[0;34m,\u001b[0m\u001b[0mconfig\u001b[0m\u001b[0;34m=\u001b[0m\u001b[0mconfig\u001b[0m\u001b[0;34m)\u001b[0m\u001b[0;34m.\u001b[0m\u001b[0m__enter__\u001b[0m\u001b[0;34m(\u001b[0m\u001b[0;34m)\u001b[0m\u001b[0;34m\u001b[0m\u001b[0;34m\u001b[0m\u001b[0m\n",
      "\u001b[0;32m~/Projects/online_adversarial_attacks/online_attacks/classifiers/madry/madry_cifar/model.py\u001b[0m in \u001b[0;36m__init__\u001b[0;34m(self, mode)\u001b[0m\n\u001b[1;32m     17\u001b[0m     \"\"\"\n\u001b[1;32m     18\u001b[0m     \u001b[0mself\u001b[0m\u001b[0;34m.\u001b[0m\u001b[0mmode\u001b[0m \u001b[0;34m=\u001b[0m \u001b[0mmode\u001b[0m\u001b[0;34m\u001b[0m\u001b[0;34m\u001b[0m\u001b[0m\n\u001b[0;32m---> 19\u001b[0;31m     \u001b[0mself\u001b[0m\u001b[0;34m.\u001b[0m\u001b[0m_build_model\u001b[0m\u001b[0;34m(\u001b[0m\u001b[0;34m)\u001b[0m\u001b[0;34m\u001b[0m\u001b[0;34m\u001b[0m\u001b[0m\n\u001b[0m\u001b[1;32m     20\u001b[0m \u001b[0;34m\u001b[0m\u001b[0m\n\u001b[1;32m     21\u001b[0m   \u001b[0;32mdef\u001b[0m \u001b[0madd_internal_summaries\u001b[0m\u001b[0;34m(\u001b[0m\u001b[0mself\u001b[0m\u001b[0;34m)\u001b[0m\u001b[0;34m:\u001b[0m\u001b[0;34m\u001b[0m\u001b[0;34m\u001b[0m\u001b[0m\n",
      "\u001b[0;32m~/Projects/online_adversarial_attacks/online_attacks/classifiers/madry/madry_cifar/model.py\u001b[0m in \u001b[0;36m_build_model\u001b[0;34m(self)\u001b[0m\n\u001b[1;32m     60\u001b[0m     \u001b[0;32mfor\u001b[0m \u001b[0mi\u001b[0m \u001b[0;32min\u001b[0m \u001b[0mrange\u001b[0m\u001b[0;34m(\u001b[0m\u001b[0;36m1\u001b[0m\u001b[0;34m,\u001b[0m \u001b[0;36m5\u001b[0m\u001b[0;34m)\u001b[0m\u001b[0;34m:\u001b[0m\u001b[0;34m\u001b[0m\u001b[0;34m\u001b[0m\u001b[0m\n\u001b[1;32m     61\u001b[0m       \u001b[0;32mwith\u001b[0m \u001b[0mtf\u001b[0m\u001b[0;34m.\u001b[0m\u001b[0mvariable_scope\u001b[0m\u001b[0;34m(\u001b[0m\u001b[0;34m'unit_1_%d'\u001b[0m \u001b[0;34m%\u001b[0m \u001b[0mi\u001b[0m\u001b[0;34m)\u001b[0m\u001b[0;34m:\u001b[0m\u001b[0;34m\u001b[0m\u001b[0;34m\u001b[0m\u001b[0m\n\u001b[0;32m---> 62\u001b[0;31m         \u001b[0mx\u001b[0m \u001b[0;34m=\u001b[0m \u001b[0mres_func\u001b[0m\u001b[0;34m(\u001b[0m\u001b[0mx\u001b[0m\u001b[0;34m,\u001b[0m \u001b[0mfilters\u001b[0m\u001b[0;34m[\u001b[0m\u001b[0;36m1\u001b[0m\u001b[0;34m]\u001b[0m\u001b[0;34m,\u001b[0m \u001b[0mfilters\u001b[0m\u001b[0;34m[\u001b[0m\u001b[0;36m1\u001b[0m\u001b[0;34m]\u001b[0m\u001b[0;34m,\u001b[0m \u001b[0mself\u001b[0m\u001b[0;34m.\u001b[0m\u001b[0m_stride_arr\u001b[0m\u001b[0;34m(\u001b[0m\u001b[0;36m1\u001b[0m\u001b[0;34m)\u001b[0m\u001b[0;34m,\u001b[0m \u001b[0;32mFalse\u001b[0m\u001b[0;34m)\u001b[0m\u001b[0;34m\u001b[0m\u001b[0;34m\u001b[0m\u001b[0m\n\u001b[0m\u001b[1;32m     63\u001b[0m \u001b[0;34m\u001b[0m\u001b[0m\n\u001b[1;32m     64\u001b[0m     \u001b[0;32mwith\u001b[0m \u001b[0mtf\u001b[0m\u001b[0;34m.\u001b[0m\u001b[0mvariable_scope\u001b[0m\u001b[0;34m(\u001b[0m\u001b[0;34m'unit_2_0'\u001b[0m\u001b[0;34m)\u001b[0m\u001b[0;34m:\u001b[0m\u001b[0;34m\u001b[0m\u001b[0;34m\u001b[0m\u001b[0m\n",
      "\u001b[0;32m~/Projects/online_adversarial_attacks/online_attacks/classifiers/madry/madry_cifar/model.py\u001b[0m in \u001b[0;36m_residual\u001b[0;34m(self, x, in_filter, out_filter, stride, activate_before_residual)\u001b[0m\n\u001b[1;32m    125\u001b[0m \u001b[0;34m\u001b[0m\u001b[0m\n\u001b[1;32m    126\u001b[0m     \u001b[0;32mwith\u001b[0m \u001b[0mtf\u001b[0m\u001b[0;34m.\u001b[0m\u001b[0mvariable_scope\u001b[0m\u001b[0;34m(\u001b[0m\u001b[0;34m'sub1'\u001b[0m\u001b[0;34m)\u001b[0m\u001b[0;34m:\u001b[0m\u001b[0;34m\u001b[0m\u001b[0;34m\u001b[0m\u001b[0m\n\u001b[0;32m--> 127\u001b[0;31m       \u001b[0mx\u001b[0m \u001b[0;34m=\u001b[0m \u001b[0mself\u001b[0m\u001b[0;34m.\u001b[0m\u001b[0m_conv\u001b[0m\u001b[0;34m(\u001b[0m\u001b[0;34m'conv1'\u001b[0m\u001b[0;34m,\u001b[0m \u001b[0mx\u001b[0m\u001b[0;34m,\u001b[0m \u001b[0;36m3\u001b[0m\u001b[0;34m,\u001b[0m \u001b[0min_filter\u001b[0m\u001b[0;34m,\u001b[0m \u001b[0mout_filter\u001b[0m\u001b[0;34m,\u001b[0m \u001b[0mstride\u001b[0m\u001b[0;34m)\u001b[0m\u001b[0;34m\u001b[0m\u001b[0;34m\u001b[0m\u001b[0m\n\u001b[0m\u001b[1;32m    128\u001b[0m \u001b[0;34m\u001b[0m\u001b[0m\n\u001b[1;32m    129\u001b[0m     \u001b[0;32mwith\u001b[0m \u001b[0mtf\u001b[0m\u001b[0;34m.\u001b[0m\u001b[0mvariable_scope\u001b[0m\u001b[0;34m(\u001b[0m\u001b[0;34m'sub2'\u001b[0m\u001b[0;34m)\u001b[0m\u001b[0;34m:\u001b[0m\u001b[0;34m\u001b[0m\u001b[0;34m\u001b[0m\u001b[0m\n",
      "\u001b[0;32m~/Projects/online_adversarial_attacks/online_attacks/classifiers/madry/madry_cifar/model.py\u001b[0m in \u001b[0;36m_conv\u001b[0;34m(self, name, x, filter_size, in_filters, out_filters, strides)\u001b[0m\n\u001b[1;32m    153\u001b[0m   \u001b[0;32mdef\u001b[0m \u001b[0m_conv\u001b[0m\u001b[0;34m(\u001b[0m\u001b[0mself\u001b[0m\u001b[0;34m,\u001b[0m \u001b[0mname\u001b[0m\u001b[0;34m,\u001b[0m \u001b[0mx\u001b[0m\u001b[0;34m,\u001b[0m \u001b[0mfilter_size\u001b[0m\u001b[0;34m,\u001b[0m \u001b[0min_filters\u001b[0m\u001b[0;34m,\u001b[0m \u001b[0mout_filters\u001b[0m\u001b[0;34m,\u001b[0m \u001b[0mstrides\u001b[0m\u001b[0;34m)\u001b[0m\u001b[0;34m:\u001b[0m\u001b[0;34m\u001b[0m\u001b[0;34m\u001b[0m\u001b[0m\n\u001b[1;32m    154\u001b[0m     \u001b[0;34m\"\"\"Convolution.\"\"\"\u001b[0m\u001b[0;34m\u001b[0m\u001b[0;34m\u001b[0m\u001b[0m\n\u001b[0;32m--> 155\u001b[0;31m     \u001b[0;32mwith\u001b[0m \u001b[0mtf\u001b[0m\u001b[0;34m.\u001b[0m\u001b[0mvariable_scope\u001b[0m\u001b[0;34m(\u001b[0m\u001b[0mname\u001b[0m\u001b[0;34m)\u001b[0m\u001b[0;34m:\u001b[0m\u001b[0;34m\u001b[0m\u001b[0;34m\u001b[0m\u001b[0m\n\u001b[0m\u001b[1;32m    156\u001b[0m       \u001b[0mn\u001b[0m \u001b[0;34m=\u001b[0m \u001b[0mfilter_size\u001b[0m \u001b[0;34m*\u001b[0m \u001b[0mfilter_size\u001b[0m \u001b[0;34m*\u001b[0m \u001b[0mout_filters\u001b[0m\u001b[0;34m\u001b[0m\u001b[0;34m\u001b[0m\u001b[0m\n\u001b[1;32m    157\u001b[0m       kernel = tf.get_variable(\n",
      "\u001b[0;32m~/.conda/envs/dev/lib/python3.7/site-packages/tensorflow/python/ops/variable_scope.py\u001b[0m in \u001b[0;36m__enter__\u001b[0;34m(self)\u001b[0m\n\u001b[1;32m   2220\u001b[0m \u001b[0;34m\u001b[0m\u001b[0m\n\u001b[1;32m   2221\u001b[0m     \u001b[0;32mtry\u001b[0m\u001b[0;34m:\u001b[0m\u001b[0;34m\u001b[0m\u001b[0;34m\u001b[0m\u001b[0m\n\u001b[0;32m-> 2222\u001b[0;31m       \u001b[0;32mreturn\u001b[0m \u001b[0mself\u001b[0m\u001b[0;34m.\u001b[0m\u001b[0m_enter_scope_uncached\u001b[0m\u001b[0;34m(\u001b[0m\u001b[0;34m)\u001b[0m\u001b[0;34m\u001b[0m\u001b[0;34m\u001b[0m\u001b[0m\n\u001b[0m\u001b[1;32m   2223\u001b[0m     \u001b[0;32mfinally\u001b[0m\u001b[0;34m:\u001b[0m\u001b[0;34m\u001b[0m\u001b[0;34m\u001b[0m\u001b[0m\n\u001b[1;32m   2224\u001b[0m       if (self._in_graph_mode and not self._building_function and\n",
      "\u001b[0;32m~/.conda/envs/dev/lib/python3.7/site-packages/tensorflow/python/ops/variable_scope.py\u001b[0m in \u001b[0;36m_enter_scope_uncached\u001b[0;34m(self)\u001b[0m\n\u001b[1;32m   2264\u001b[0m         \u001b[0mcurrent_name_scope\u001b[0m \u001b[0;34m=\u001b[0m \u001b[0mcurrent_name_scope\u001b[0m \u001b[0;32mor\u001b[0m \u001b[0mops\u001b[0m\u001b[0;34m.\u001b[0m\u001b[0mname_scope\u001b[0m\u001b[0;34m(\u001b[0m\u001b[0mname_scope\u001b[0m\u001b[0;34m)\u001b[0m\u001b[0;34m\u001b[0m\u001b[0;34m\u001b[0m\u001b[0m\n\u001b[1;32m   2265\u001b[0m         \u001b[0;32mtry\u001b[0m\u001b[0;34m:\u001b[0m\u001b[0;34m\u001b[0m\u001b[0;34m\u001b[0m\u001b[0m\n\u001b[0;32m-> 2266\u001b[0;31m           \u001b[0mcurrent_name_scope_name\u001b[0m \u001b[0;34m=\u001b[0m \u001b[0mcurrent_name_scope\u001b[0m\u001b[0;34m.\u001b[0m\u001b[0m__enter__\u001b[0m\u001b[0;34m(\u001b[0m\u001b[0;34m)\u001b[0m\u001b[0;34m\u001b[0m\u001b[0;34m\u001b[0m\u001b[0m\n\u001b[0m\u001b[1;32m   2267\u001b[0m         \u001b[0;32mexcept\u001b[0m\u001b[0;34m:\u001b[0m\u001b[0;34m\u001b[0m\u001b[0;34m\u001b[0m\u001b[0m\n\u001b[1;32m   2268\u001b[0m           \u001b[0mcurrent_name_scope\u001b[0m\u001b[0;34m.\u001b[0m\u001b[0m__exit__\u001b[0m\u001b[0;34m(\u001b[0m\u001b[0;34m*\u001b[0m\u001b[0msys\u001b[0m\u001b[0;34m.\u001b[0m\u001b[0mexc_info\u001b[0m\u001b[0;34m(\u001b[0m\u001b[0;34m)\u001b[0m\u001b[0;34m)\u001b[0m\u001b[0;34m\u001b[0m\u001b[0;34m\u001b[0m\u001b[0m\n",
      "\u001b[0;32m~/.conda/envs/dev/lib/python3.7/site-packages/tensorflow/python/framework/ops.py\u001b[0m in \u001b[0;36m__enter__\u001b[0;34m(self)\u001b[0m\n\u001b[1;32m   6511\u001b[0m       \u001b[0;32mtry\u001b[0m\u001b[0;34m:\u001b[0m\u001b[0;34m\u001b[0m\u001b[0;34m\u001b[0m\u001b[0m\n\u001b[1;32m   6512\u001b[0m         \u001b[0mself\u001b[0m\u001b[0;34m.\u001b[0m\u001b[0m_name_scope\u001b[0m \u001b[0;34m=\u001b[0m \u001b[0mg\u001b[0m\u001b[0;34m.\u001b[0m\u001b[0mname_scope\u001b[0m\u001b[0;34m(\u001b[0m\u001b[0mself\u001b[0m\u001b[0;34m.\u001b[0m\u001b[0m_name\u001b[0m\u001b[0;34m)\u001b[0m\u001b[0;34m\u001b[0m\u001b[0;34m\u001b[0m\u001b[0m\n\u001b[0;32m-> 6513\u001b[0;31m         \u001b[0;32mreturn\u001b[0m \u001b[0mself\u001b[0m\u001b[0;34m.\u001b[0m\u001b[0m_name_scope\u001b[0m\u001b[0;34m.\u001b[0m\u001b[0m__enter__\u001b[0m\u001b[0;34m(\u001b[0m\u001b[0;34m)\u001b[0m\u001b[0;34m\u001b[0m\u001b[0;34m\u001b[0m\u001b[0m\n\u001b[0m\u001b[1;32m   6514\u001b[0m       \u001b[0;32mexcept\u001b[0m\u001b[0;34m:\u001b[0m\u001b[0;34m\u001b[0m\u001b[0;34m\u001b[0m\u001b[0m\n\u001b[1;32m   6515\u001b[0m         \u001b[0mself\u001b[0m\u001b[0;34m.\u001b[0m\u001b[0m_g_manager\u001b[0m\u001b[0;34m.\u001b[0m\u001b[0m__exit__\u001b[0m\u001b[0;34m(\u001b[0m\u001b[0;34m*\u001b[0m\u001b[0msys\u001b[0m\u001b[0;34m.\u001b[0m\u001b[0mexc_info\u001b[0m\u001b[0;34m(\u001b[0m\u001b[0;34m)\u001b[0m\u001b[0;34m)\u001b[0m\u001b[0;34m\u001b[0m\u001b[0;34m\u001b[0m\u001b[0m\n",
      "\u001b[0;32m~/.conda/envs/dev/lib/python3.7/contextlib.py\u001b[0m in \u001b[0;36m__enter__\u001b[0;34m(self)\u001b[0m\n\u001b[1;32m    110\u001b[0m         \u001b[0;32mdel\u001b[0m \u001b[0mself\u001b[0m\u001b[0;34m.\u001b[0m\u001b[0margs\u001b[0m\u001b[0;34m,\u001b[0m \u001b[0mself\u001b[0m\u001b[0;34m.\u001b[0m\u001b[0mkwds\u001b[0m\u001b[0;34m,\u001b[0m \u001b[0mself\u001b[0m\u001b[0;34m.\u001b[0m\u001b[0mfunc\u001b[0m\u001b[0;34m\u001b[0m\u001b[0;34m\u001b[0m\u001b[0m\n\u001b[1;32m    111\u001b[0m         \u001b[0;32mtry\u001b[0m\u001b[0;34m:\u001b[0m\u001b[0;34m\u001b[0m\u001b[0;34m\u001b[0m\u001b[0m\n\u001b[0;32m--> 112\u001b[0;31m             \u001b[0;32mreturn\u001b[0m \u001b[0mnext\u001b[0m\u001b[0;34m(\u001b[0m\u001b[0mself\u001b[0m\u001b[0;34m.\u001b[0m\u001b[0mgen\u001b[0m\u001b[0;34m)\u001b[0m\u001b[0;34m\u001b[0m\u001b[0;34m\u001b[0m\u001b[0m\n\u001b[0m\u001b[1;32m    113\u001b[0m         \u001b[0;32mexcept\u001b[0m \u001b[0mStopIteration\u001b[0m\u001b[0;34m:\u001b[0m\u001b[0;34m\u001b[0m\u001b[0;34m\u001b[0m\u001b[0m\n\u001b[1;32m    114\u001b[0m             \u001b[0;32mraise\u001b[0m \u001b[0mRuntimeError\u001b[0m\u001b[0;34m(\u001b[0m\u001b[0;34m\"generator didn't yield\"\u001b[0m\u001b[0;34m)\u001b[0m \u001b[0;32mfrom\u001b[0m \u001b[0;32mNone\u001b[0m\u001b[0;34m\u001b[0m\u001b[0;34m\u001b[0m\u001b[0m\n",
      "\u001b[0;32m~/.conda/envs/dev/lib/python3.7/site-packages/tensorflow/python/framework/ops.py\u001b[0m in \u001b[0;36mname_scope\u001b[0;34m(self, name)\u001b[0m\n\u001b[1;32m   4319\u001b[0m       \u001b[0mnew_stack\u001b[0m \u001b[0;34m=\u001b[0m \u001b[0mself\u001b[0m\u001b[0;34m.\u001b[0m\u001b[0munique_name\u001b[0m\u001b[0;34m(\u001b[0m\u001b[0mname\u001b[0m\u001b[0;34m)\u001b[0m\u001b[0;34m\u001b[0m\u001b[0;34m\u001b[0m\u001b[0m\n\u001b[1;32m   4320\u001b[0m     \u001b[0mself\u001b[0m\u001b[0;34m.\u001b[0m\u001b[0m_name_stack\u001b[0m \u001b[0;34m=\u001b[0m \u001b[0mnew_stack\u001b[0m\u001b[0;34m\u001b[0m\u001b[0;34m\u001b[0m\u001b[0m\n\u001b[0;32m-> 4321\u001b[0;31m     \u001b[0;32mtry\u001b[0m\u001b[0;34m:\u001b[0m\u001b[0;34m\u001b[0m\u001b[0;34m\u001b[0m\u001b[0m\n\u001b[0m\u001b[1;32m   4322\u001b[0m       \u001b[0;32myield\u001b[0m \u001b[0;34m\"\"\u001b[0m \u001b[0;32mif\u001b[0m \u001b[0mnew_stack\u001b[0m \u001b[0;32mis\u001b[0m \u001b[0;32mNone\u001b[0m \u001b[0;32melse\u001b[0m \u001b[0mnew_stack\u001b[0m \u001b[0;34m+\u001b[0m \u001b[0;34m\"/\"\u001b[0m\u001b[0;34m\u001b[0m\u001b[0;34m\u001b[0m\u001b[0m\n\u001b[1;32m   4323\u001b[0m     \u001b[0;32mfinally\u001b[0m\u001b[0;34m:\u001b[0m\u001b[0;34m\u001b[0m\u001b[0;34m\u001b[0m\u001b[0m\n",
      "\u001b[0;31mKeyboardInterrupt\u001b[0m: "
     ]
    }
   ],
   "source": [
    "\n",
    "eval_comp_ratio(\"/checkpoint/hberard/OnlineAttack/results_icml/default\", \"secret\", return_latex=False)"
   ]
  },
  {
   "cell_type": "code",
   "execution_count": 68,
   "metadata": {},
   "outputs": [
    {
     "name": "stdout",
     "output_type": "stream",
     "text": [
      "\\begin{table*}[h] \n",
      " \\begin{center}\\begin{tabular}{ c c c c }\n",
      " Algorithm & Fool Rate & Comp Ratio & Knapsack Ratio \\\\ \n",
      "OFFLINE & 100.00 $\\pm$ 0.00 & 37.00 $\\pm$ 0.00 & 80.82 $\\pm$ 0.02 \\\\ \n",
      "STOCHASTIC VIRTUAL & 92.20 $\\pm$ 1.17 & 15.60 $\\pm$ 3.44 & 52.28 $\\pm$ 4.35 \\\\ \n",
      "STOCHASTIC OPTIMISTIC & 82.20 $\\pm$ 16.10 & 18.40 $\\pm$ 2.58 & 48.19 $\\pm$ 4.57 \\\\ \n",
      "STOCHASTIC MODIFIED VIRTUAL & 91.80 $\\pm$ 6.11 & 26.20 $\\pm$ 3.06 & 67.57 $\\pm$ 5.46 \\\\ \n",
      "RANDOM & 72.80 $\\pm$ 2.99 & 1.00 $\\pm$ 0.00 & 22.20 $\\pm$ 1.95 \\\\ \n",
      "\\end{tabular}\\end{center} \n",
      "\\end{table*}\n",
      "OFFLINE\tSTOCHASTIC_VIRTUAL\tSTOCHASTIC_OPTIMISTIC\tSTOCHASTIC_MODIFIED_VIRTUAL\tRANDOM\t\n",
      "0/5 \t5/5 \t5/5 \t5/5 \t5/5 \t\n",
      "0/5 \t0/5 \t5/5 \t2/5 \t5/5 \t\n",
      "0/5 \t0/5 \t0/5 \t2/5 \t4/5 \t\n",
      "0/5 \t3/5 \t3/5 \t0/5 \t5/5 \t\n",
      "0/5 \t0/5 \t1/5 \t0/5 \t0/5 \t\n",
      "\n"
     ]
    }
   ],
   "source": [
    "eval_comp_ratio(\"/checkpoint/hberard/OnlineAttack/new_results/fgsm_not_robust/\", \"1\", filters={\"online_params.K\": 100})"
   ]
  },
  {
   "cell_type": "code",
   "execution_count": 95,
   "metadata": {},
   "outputs": [
    {
     "ename": "NameError",
     "evalue": "name 'eval_fool_rate' is not defined",
     "output_type": "error",
     "traceback": [
      "\u001b[0;31m---------------------------------------------------------------------------\u001b[0m",
      "\u001b[0;31mNameError\u001b[0m                                 Traceback (most recent call last)",
      "\u001b[0;32m<ipython-input-95-5e9a404023fa>\u001b[0m in \u001b[0;36m<module>\u001b[0;34m\u001b[0m\n\u001b[0;32m----> 1\u001b[0;31m \u001b[0meval_fool_rate\u001b[0m\u001b[0;34m(\u001b[0m\u001b[0;34m\"/checkpoint/hberard/OnlineAttack/new_results/fgsm_not_robust_no_exhaust/\"\u001b[0m\u001b[0;34m,\u001b[0m \u001b[0;34m\"1\"\u001b[0m\u001b[0;34m)\u001b[0m\u001b[0;34m\u001b[0m\u001b[0;34m\u001b[0m\u001b[0m\n\u001b[0m",
      "\u001b[0;31mNameError\u001b[0m: name 'eval_fool_rate' is not defined"
     ]
    }
   ],
   "source": [
    "eval_fool_rate(\"/checkpoint/hberard/OnlineAttack/new_results/fgsm_not_robust_no_exhaust/\", \"1\")"
   ]
  },
  {
   "cell_type": "code",
   "execution_count": 12,
   "metadata": {},
   "outputs": [
    {
     "name": "stdout",
     "output_type": "stream",
     "text": [
      "OFFLINE (K=10): fool rate = 100.00 +/- 0.00, comp ratio = 70.00 +/- 0.00, knapsack ratio = 94.23 +/- 0.00\n",
      "STOCHASTIC_VIRTUAL (K=10): fool rate = 82.00 +/- 9.80, comp ratio = 20.00 +/- 10.95, knapsack ratio = 45.89 +/- 10.87\n",
      "STOCHASTIC_OPTIMISTIC (K=10): fool rate = 64.00 +/- 14.97, comp ratio = 20.00 +/- 10.95, knapsack ratio = 38.54 +/- 7.64\n",
      "STOCHASTIC_MODIFIED_VIRTUAL (K=10): fool rate = 76.00 +/- 30.07, comp ratio = 34.00 +/- 17.44, knapsack ratio = 61.01 +/- 24.21\n",
      "RANDOM (K=10): fool rate = 60.00 +/- 10.95, comp ratio = 0.00 +/- 0.00, knapsack ratio = 13.72 +/- 4.37\n",
      "OFFLINE (K=100): fool rate = 100.00 +/- 0.00, comp ratio = 37.00 +/- 0.00, knapsack ratio = 80.89 +/- 0.02\n",
      "STOCHASTIC_VIRTUAL (K=100): fool rate = 92.20 +/- 1.17, comp ratio = 15.60 +/- 3.44, knapsack ratio = 52.34 +/- 4.37\n",
      "STOCHASTIC_OPTIMISTIC (K=100): fool rate = 82.20 +/- 16.10, comp ratio = 18.40 +/- 2.58, knapsack ratio = 48.22 +/- 4.59\n",
      "STOCHASTIC_MODIFIED_VIRTUAL (K=100): fool rate = 91.80 +/- 6.11, comp ratio = 26.20 +/- 3.06, knapsack ratio = 67.67 +/- 5.45\n",
      "RANDOM (K=100): fool rate = 72.60 +/- 2.87, comp ratio = 1.00 +/- 0.00, knapsack ratio = 22.20 +/- 1.97\n",
      "OFFLINE (K=1000): fool rate = 99.60 +/- 0.00, comp ratio = 51.80 +/- 0.00, knapsack ratio = 81.32 +/- 0.00\n",
      "STOCHASTIC_VIRTUAL (K=1000): fool rate = 89.12 +/- 1.29, comp ratio = 27.86 +/- 2.10, knapsack ratio = 56.53 +/- 1.90\n",
      "STOCHASTIC_OPTIMISTIC (K=1000): fool rate = 85.66 +/- 1.09, comp ratio = 28.08 +/- 1.09, knapsack ratio = 54.37 +/- 1.20\n",
      "STOCHASTIC_MODIFIED_VIRTUAL (K=1000): fool rate = 98.88 +/- 0.16, comp ratio = 41.54 +/- 0.68, knapsack ratio = 73.10 +/- 0.62\n",
      "RANDOM (K=1000): fool rate = 73.86 +/- 0.80, comp ratio = 10.76 +/- 0.86, knapsack ratio = 32.03 +/- 0.61\n"
     ]
    }
   ],
   "source": [
    "eval_comp_ratio(\"/checkpoint/hberard/OnlineAttack/new_results/fgsm_not_robust/\", \"1\", return_latex=False)"
   ]
  },
  {
   "cell_type": "code",
   "execution_count": 10,
   "metadata": {},
   "outputs": [
    {
     "name": "stdout",
     "output_type": "stream",
     "text": [
      "OFFLINE 10\n",
      "STOCHASTIC_VIRTUAL 10\n",
      "STOCHASTIC_OPTIMISTIC 10\n",
      "STOCHASTIC_MODIFIED_VIRTUAL 2\n",
      "STOCHASTIC_SINGLE_REF 10\n",
      "RANDOM 10\n",
      "OFFLINE 10\n",
      "STOCHASTIC_VIRTUAL 10\n",
      "STOCHASTIC_OPTIMISTIC 10\n",
      "STOCHASTIC_MODIFIED_VIRTUAL 7\n",
      "STOCHASTIC_SINGLE_REF 10\n",
      "RANDOM 10\n",
      "OFFLINE 10\n",
      "STOCHASTIC_VIRTUAL 10\n",
      "STOCHASTIC_OPTIMISTIC 5\n",
      "STOCHASTIC_MODIFIED_VIRTUAL 10\n",
      "STOCHASTIC_SINGLE_REF 10\n",
      "RANDOM 10\n",
      "OFFLINE 10\n",
      "STOCHASTIC_VIRTUAL 10\n",
      "STOCHASTIC_OPTIMISTIC 5\n",
      "STOCHASTIC_MODIFIED_VIRTUAL 9\n",
      "STOCHASTIC_SINGLE_REF 10\n",
      "RANDOM 10\n",
      "OFFLINE 10\n",
      "STOCHASTIC_VIRTUAL 10\n",
      "STOCHASTIC_OPTIMISTIC 10\n",
      "STOCHASTIC_MODIFIED_VIRTUAL 10\n",
      "STOCHASTIC_SINGLE_REF 10\n",
      "RANDOM 10\n",
      "OFFLINE 10\n",
      "STOCHASTIC_VIRTUAL 10\n",
      "STOCHASTIC_OPTIMISTIC 10\n",
      "STOCHASTIC_MODIFIED_VIRTUAL 6\n",
      "STOCHASTIC_SINGLE_REF 10\n",
      "RANDOM 10\n",
      "OFFLINE 10\n",
      "STOCHASTIC_VIRTUAL 10\n",
      "STOCHASTIC_OPTIMISTIC 10\n",
      "STOCHASTIC_MODIFIED_VIRTUAL 4\n",
      "STOCHASTIC_SINGLE_REF 10\n",
      "RANDOM 10\n",
      "OFFLINE 10\n",
      "STOCHASTIC_VIRTUAL 10\n",
      "STOCHASTIC_OPTIMISTIC 5\n",
      "STOCHASTIC_MODIFIED_VIRTUAL 10\n",
      "STOCHASTIC_SINGLE_REF 10\n",
      "RANDOM 10\n",
      "OFFLINE 10\n",
      "STOCHASTIC_VIRTUAL 10\n",
      "STOCHASTIC_OPTIMISTIC 5\n",
      "STOCHASTIC_MODIFIED_VIRTUAL 9\n",
      "STOCHASTIC_SINGLE_REF 10\n",
      "RANDOM 10\n",
      "OFFLINE 10\n",
      "STOCHASTIC_VIRTUAL 10\n",
      "STOCHASTIC_OPTIMISTIC 10\n",
      "STOCHASTIC_MODIFIED_VIRTUAL 7\n",
      "STOCHASTIC_SINGLE_REF 10\n",
      "RANDOM 10\n",
      "OFFLINE (K=10): fool rate = 100.00 +/- 0.00, comp ratio = 70.00 +/- 0.00, knapsack ratio = 94.23 +/- 0.00\n",
      "STOCHASTIC_VIRTUAL (K=10): fool rate = 87.00 +/- 10.05, comp ratio = 21.00 +/- 11.36, knapsack ratio = 49.88 +/- 13.27\n",
      "STOCHASTIC_OPTIMISTIC (K=10): fool rate = 69.00 +/- 18.68, comp ratio = 21.00 +/- 9.43, knapsack ratio = 41.42 +/- 9.22\n",
      "STOCHASTIC_MODIFIED_VIRTUAL (K=10): fool rate = 74.00 +/- 26.15, comp ratio = 34.00 +/- 14.28, knapsack ratio = 59.96 +/- 20.82\n",
      "STOCHASTIC_SINGLE_REF (K=10): fool rate = 85.00 +/- 13.60, comp ratio = 23.00 +/- 22.83, knapsack ratio = 40.85 +/- 25.23\n",
      "RANDOM (K=10): fool rate = 62.00 +/- 11.66, comp ratio = 0.00 +/- 0.00, knapsack ratio = 13.37 +/- 5.52\n",
      "OFFLINE 100\n",
      "STOCHASTIC_VIRTUAL 100\n",
      "STOCHASTIC_OPTIMISTIC 100\n",
      "STOCHASTIC_MODIFIED_VIRTUAL 84\n",
      "STOCHASTIC_SINGLE_REF 100\n",
      "RANDOM 100\n",
      "OFFLINE 100\n",
      "STOCHASTIC_VIRTUAL 100\n",
      "STOCHASTIC_OPTIMISTIC 100\n",
      "STOCHASTIC_MODIFIED_VIRTUAL 85\n",
      "STOCHASTIC_SINGLE_REF 100\n",
      "RANDOM 100\n",
      "OFFLINE 100\n",
      "STOCHASTIC_VIRTUAL 100\n",
      "STOCHASTIC_OPTIMISTIC 50\n",
      "STOCHASTIC_MODIFIED_VIRTUAL 96\n",
      "STOCHASTIC_SINGLE_REF 100\n",
      "RANDOM 100\n",
      "OFFLINE 100\n",
      "STOCHASTIC_VIRTUAL 100\n",
      "STOCHASTIC_OPTIMISTIC 100\n",
      "STOCHASTIC_MODIFIED_VIRTUAL 96\n",
      "STOCHASTIC_SINGLE_REF 100\n",
      "RANDOM 100\n",
      "OFFLINE 100\n",
      "STOCHASTIC_VIRTUAL 100\n",
      "STOCHASTIC_OPTIMISTIC 100\n",
      "STOCHASTIC_MODIFIED_VIRTUAL 100\n",
      "STOCHASTIC_SINGLE_REF 100\n",
      "RANDOM 100\n",
      "OFFLINE 100\n",
      "STOCHASTIC_VIRTUAL 100\n",
      "STOCHASTIC_OPTIMISTIC 100\n",
      "STOCHASTIC_MODIFIED_VIRTUAL 95\n",
      "STOCHASTIC_SINGLE_REF 100\n",
      "RANDOM 100\n",
      "OFFLINE 100\n",
      "STOCHASTIC_VIRTUAL 100\n",
      "STOCHASTIC_OPTIMISTIC 100\n",
      "STOCHASTIC_MODIFIED_VIRTUAL 74\n",
      "STOCHASTIC_SINGLE_REF 100\n",
      "RANDOM 100\n",
      "OFFLINE 100\n",
      "STOCHASTIC_VIRTUAL 100\n",
      "STOCHASTIC_OPTIMISTIC 100\n",
      "STOCHASTIC_MODIFIED_VIRTUAL 98\n",
      "STOCHASTIC_SINGLE_REF 100\n",
      "RANDOM 100\n",
      "OFFLINE 100\n",
      "STOCHASTIC_VIRTUAL 100\n",
      "STOCHASTIC_OPTIMISTIC 100\n",
      "STOCHASTIC_MODIFIED_VIRTUAL 100\n",
      "STOCHASTIC_SINGLE_REF 100\n",
      "RANDOM 100\n",
      "OFFLINE 100\n",
      "STOCHASTIC_VIRTUAL 100\n",
      "STOCHASTIC_OPTIMISTIC 100\n",
      "STOCHASTIC_MODIFIED_VIRTUAL 98\n",
      "STOCHASTIC_SINGLE_REF 100\n",
      "RANDOM 100\n",
      "OFFLINE (K=100): fool rate = 100.00 +/- 0.00, comp ratio = 37.00 +/- 0.00, knapsack ratio = 80.87 +/- 0.03\n",
      "STOCHASTIC_VIRTUAL (K=100): fool rate = 90.50 +/- 2.66, comp ratio = 15.90 +/- 3.88, knapsack ratio = 52.50 +/- 3.94\n",
      "STOCHASTIC_OPTIMISTIC (K=100): fool rate = 83.50 +/- 11.72, comp ratio = 18.30 +/- 2.79, knapsack ratio = 48.46 +/- 3.62\n",
      "STOCHASTIC_MODIFIED_VIRTUAL (K=100): fool rate = 92.20 +/- 8.00, comp ratio = 26.00 +/- 3.26, knapsack ratio = 67.97 +/- 6.03\n",
      "STOCHASTIC_SINGLE_REF (K=100): fool rate = 75.40 +/- 3.56, comp ratio = 3.20 +/- 2.82, knapsack ratio = 25.39 +/- 3.78\n",
      "RANDOM (K=100): fool rate = 71.60 +/- 3.20, comp ratio = 0.70 +/- 0.46, knapsack ratio = 21.75 +/- 1.82\n",
      "OFFLINE 1000\n",
      "STOCHASTIC_VIRTUAL 1000\n",
      "STOCHASTIC_OPTIMISTIC 1000\n",
      "STOCHASTIC_MODIFIED_VIRTUAL 997\n",
      "STOCHASTIC_SINGLE_REF 1000\n",
      "RANDOM 1000\n",
      "OFFLINE 1000\n",
      "STOCHASTIC_VIRTUAL 1000\n",
      "STOCHASTIC_OPTIMISTIC 1000\n",
      "STOCHASTIC_MODIFIED_VIRTUAL 999\n",
      "STOCHASTIC_SINGLE_REF 1000\n",
      "RANDOM 1000\n",
      "OFFLINE 1000\n",
      "STOCHASTIC_VIRTUAL 1000\n",
      "STOCHASTIC_OPTIMISTIC 1000\n",
      "STOCHASTIC_MODIFIED_VIRTUAL 1000\n",
      "STOCHASTIC_SINGLE_REF 1000\n",
      "RANDOM 1000\n",
      "OFFLINE 1000\n",
      "STOCHASTIC_VIRTUAL 1000\n",
      "STOCHASTIC_OPTIMISTIC 1000\n",
      "STOCHASTIC_MODIFIED_VIRTUAL 1000\n",
      "STOCHASTIC_SINGLE_REF 1000\n",
      "RANDOM 1000\n",
      "OFFLINE 1000\n",
      "STOCHASTIC_VIRTUAL 1000\n",
      "STOCHASTIC_OPTIMISTIC 1000\n",
      "STOCHASTIC_MODIFIED_VIRTUAL 1000\n",
      "STOCHASTIC_SINGLE_REF 1000\n",
      "RANDOM 1000\n",
      "OFFLINE 1000\n",
      "STOCHASTIC_VIRTUAL 1000\n",
      "STOCHASTIC_OPTIMISTIC 1000\n",
      "STOCHASTIC_MODIFIED_VIRTUAL 1000\n",
      "STOCHASTIC_SINGLE_REF 1000\n",
      "RANDOM 1000\n",
      "OFFLINE 1000\n",
      "STOCHASTIC_VIRTUAL 1000\n",
      "STOCHASTIC_OPTIMISTIC 1000\n",
      "STOCHASTIC_MODIFIED_VIRTUAL 951\n",
      "STOCHASTIC_SINGLE_REF 1000\n",
      "RANDOM 1000\n",
      "OFFLINE 1000\n",
      "STOCHASTIC_VIRTUAL 1000\n",
      "STOCHASTIC_OPTIMISTIC 1000\n",
      "STOCHASTIC_MODIFIED_VIRTUAL 1000\n",
      "STOCHASTIC_SINGLE_REF 1000\n",
      "RANDOM 1000\n",
      "OFFLINE 1000\n",
      "STOCHASTIC_VIRTUAL 1000\n",
      "STOCHASTIC_OPTIMISTIC 1000\n",
      "STOCHASTIC_MODIFIED_VIRTUAL 1000\n",
      "STOCHASTIC_SINGLE_REF 1000\n",
      "RANDOM 1000\n",
      "OFFLINE 1000\n",
      "STOCHASTIC_VIRTUAL 1000\n",
      "STOCHASTIC_OPTIMISTIC 1000\n",
      "STOCHASTIC_MODIFIED_VIRTUAL 1000\n",
      "STOCHASTIC_SINGLE_REF 1000\n",
      "RANDOM 1000\n",
      "OFFLINE (K=1000): fool rate = 99.60 +/- 0.00, comp ratio = 51.90 +/- 0.00, knapsack ratio = 81.28 +/- 0.02\n",
      "STOCHASTIC_VIRTUAL (K=1000): fool rate = 88.85 +/- 0.96, comp ratio = 28.03 +/- 1.58, knapsack ratio = 56.33 +/- 1.46\n",
      "STOCHASTIC_OPTIMISTIC (K=1000): fool rate = 85.60 +/- 0.84, comp ratio = 28.09 +/- 0.93, knapsack ratio = 54.28 +/- 0.96\n",
      "STOCHASTIC_MODIFIED_VIRTUAL (K=1000): fool rate = 98.54 +/- 1.42, comp ratio = 41.45 +/- 0.75, knapsack ratio = 72.94 +/- 1.14\n",
      "STOCHASTIC_SINGLE_REF (K=1000): fool rate = 72.83 +/- 1.15, comp ratio = 10.06 +/- 1.11, knapsack ratio = 32.05 +/- 1.21\n",
      "RANDOM (K=1000): fool rate = 73.33 +/- 1.27, comp ratio = 10.54 +/- 1.52, knapsack ratio = 31.91 +/- 0.81\n"
     ]
    }
   ],
   "source": [
    "eval_comp_ratio(\"/checkpoint/hberard/OnlineAttack/results_runs=10/fgsm/\", \"1\", return_latex=False)"
   ]
  },
  {
   "cell_type": "code",
   "execution_count": 9,
   "metadata": {},
   "outputs": [
    {
     "name": "stdout",
     "output_type": "stream",
     "text": [
      "OFFLINE (K=10): fool rate = 100.00 +/- 0.00, comp ratio = 70.00 +/- 0.00, knapsack ratio = 94.23 +/- 0.00\n",
      "STOCHASTIC_VIRTUAL (K=10): fool rate = 87.00 +/- 10.05, comp ratio = 21.00 +/- 11.36, knapsack ratio = 49.88 +/- 13.27\n",
      "STOCHASTIC_OPTIMISTIC (K=10): fool rate = 87.00 +/- 12.69, comp ratio = 29.00 +/- 19.21, knapsack ratio = 52.68 +/- 19.91\n",
      "STOCHASTIC_MODIFIED_VIRTUAL (K=10): fool rate = 92.00 +/- 10.77, comp ratio = 34.00 +/- 14.28, knapsack ratio = 64.01 +/- 17.22\n",
      "STOCHASTIC_SINGLE_REF (K=10): fool rate = 91.00 +/- 10.44, comp ratio = 36.00 +/- 19.08, knapsack ratio = 62.52 +/- 23.80\n",
      "RANDOM (K=10): fool rate = 62.00 +/- 11.66, comp ratio = 0.00 +/- 0.00, knapsack ratio = 13.37 +/- 5.52\n",
      "OFFLINE (K=100): fool rate = 100.00 +/- 0.00, comp ratio = 37.00 +/- 0.00, knapsack ratio = 80.81 +/- 0.02\n",
      "STOCHASTIC_VIRTUAL (K=100): fool rate = 90.50 +/- 2.66, comp ratio = 15.90 +/- 3.88, knapsack ratio = 52.45 +/- 3.93\n",
      "STOCHASTIC_OPTIMISTIC (K=100): fool rate = 87.40 +/- 3.44, comp ratio = 18.30 +/- 2.79, knapsack ratio = 49.33 +/- 2.34\n",
      "STOCHASTIC_MODIFIED_VIRTUAL (K=100): fool rate = 97.70 +/- 1.90, comp ratio = 26.00 +/- 3.26, knapsack ratio = 69.55 +/- 4.57\n",
      "STOCHASTIC_SINGLE_REF (K=100): fool rate = 96.90 +/- 3.56, comp ratio = 28.90 +/- 2.21, knapsack ratio = 70.00 +/- 6.92\n",
      "RANDOM (K=100): fool rate = 71.90 +/- 3.30, comp ratio = 0.70 +/- 0.46, knapsack ratio = 21.74 +/- 1.82\n",
      "OFFLINE (K=1000): fool rate = 99.60 +/- 0.00, comp ratio = 51.90 +/- 0.00, knapsack ratio = 81.33 +/- 0.01\n",
      "STOCHASTIC_VIRTUAL (K=1000): fool rate = 88.81 +/- 0.98, comp ratio = 28.03 +/- 1.58, knapsack ratio = 56.37 +/- 1.46\n",
      "STOCHASTIC_OPTIMISTIC (K=1000): fool rate = 85.55 +/- 0.86, comp ratio = 28.09 +/- 0.93, knapsack ratio = 54.31 +/- 0.95\n",
      "STOCHASTIC_MODIFIED_VIRTUAL (K=1000): fool rate = 98.89 +/- 0.45, comp ratio = 41.46 +/- 0.74, knapsack ratio = 73.10 +/- 0.87\n",
      "STOCHASTIC_SINGLE_REF (K=1000): fool rate = 78.69 +/- 1.08, comp ratio = 22.43 +/- 1.83, knapsack ratio = 45.46 +/- 1.75\n",
      "RANDOM (K=1000): fool rate = 73.37 +/- 1.31, comp ratio = 10.54 +/- 1.52, knapsack ratio = 31.93 +/- 0.81\n"
     ]
    }
   ],
   "source": [
    "eval_comp_ratio(\"/checkpoint/hberard/OnlineAttack/results_runs=10/fgsm_fixed/\", \"1\", return_latex=False)"
   ]
  },
  {
   "cell_type": "code",
   "execution_count": 22,
   "metadata": {},
   "outputs": [
    {
     "name": "stdout",
     "output_type": "stream",
     "text": [
      "OFFLINE (K=10): fool rate = 100.00 +/- 0.00, comp ratio = 70.00 +/- 0.00, knapsack ratio = 94.23 +/- 0.00\n",
      "STOCHASTIC_VIRTUAL (K=10): fool rate = 89.50 +/- 9.21, comp ratio = 23.50 +/- 10.14, knapsack ratio = 52.65 +/- 11.45\n",
      "STOCHASTIC_OPTIMISTIC (K=10): fool rate = 66.00 +/- 19.85, comp ratio = 21.00 +/- 8.31, knapsack ratio = 40.71 +/- 7.33\n",
      "STOCHASTIC_MODIFIED_VIRTUAL (K=10): fool rate = 83.50 +/- 22.20, comp ratio = 36.00 +/- 11.58, knapsack ratio = 66.23 +/- 17.09\n",
      "STOCHASTIC_SINGLE_REF (K=10): fool rate = 83.50 +/- 12.76, comp ratio = 24.00 +/- 19.34, knapsack ratio = 40.97 +/- 22.34\n",
      "RANDOM (K=10): fool rate = 67.50 +/- 14.45, comp ratio = 0.00 +/- 0.00, knapsack ratio = 15.84 +/- 5.44\n",
      "OFFLINE (K=100): fool rate = 100.00 +/- 0.00, comp ratio = 37.00 +/- 0.00, knapsack ratio = 80.84 +/- 0.03\n",
      "STOCHASTIC_VIRTUAL (K=100): fool rate = 90.70 +/- 3.12, comp ratio = 16.75 +/- 3.92, knapsack ratio = 53.38 +/- 4.78\n",
      "STOCHASTIC_OPTIMISTIC (K=100): fool rate = 79.35 +/- 14.89, comp ratio = 17.95 +/- 2.91, knapsack ratio = 47.00 +/- 4.03\n",
      "STOCHASTIC_MODIFIED_VIRTUAL (K=100): fool rate = 94.85 +/- 6.73, comp ratio = 26.15 +/- 3.89, knapsack ratio = 69.85 +/- 5.24\n",
      "STOCHASTIC_SINGLE_REF (K=100): fool rate = 74.60 +/- 3.41, comp ratio = 3.80 +/- 2.89, knapsack ratio = 25.17 +/- 3.22\n",
      "RANDOM (K=100): fool rate = 71.45 +/- 3.35, comp ratio = 1.00 +/- 0.89, knapsack ratio = 21.45 +/- 1.63\n",
      "OFFLINE (K=1000): fool rate = 99.60 +/- 0.00, comp ratio = 51.90 +/- 0.00, knapsack ratio = 81.35 +/- 0.02\n",
      "STOCHASTIC_VIRTUAL (K=1000): fool rate = 88.86 +/- 1.05, comp ratio = 28.60 +/- 1.64, knapsack ratio = 56.61 +/- 1.24\n",
      "STOCHASTIC_OPTIMISTIC (K=1000): fool rate = 85.45 +/- 0.97, comp ratio = 28.74 +/- 1.34, knapsack ratio = 54.59 +/- 0.93\n",
      "STOCHASTIC_MODIFIED_VIRTUAL (K=1000): fool rate = 98.47 +/- 1.44, comp ratio = 41.89 +/- 0.99, knapsack ratio = 73.17 +/- 1.14\n",
      "STOCHASTIC_SINGLE_REF (K=1000): fool rate = 72.66 +/- 1.28, comp ratio = 10.36 +/- 1.02, knapsack ratio = 32.10 +/- 1.00\n",
      "RANDOM (K=1000): fool rate = 72.92 +/- 1.24, comp ratio = 10.26 +/- 1.17, knapsack ratio = 31.89 +/- 0.86\n"
     ]
    }
   ],
   "source": [
    "eval_comp_ratio(\"/checkpoint/hberard/OnlineAttack/results_runs=20/fgsm/\", \"1\", return_latex=False)"
   ]
  },
  {
   "cell_type": "code",
   "execution_count": 21,
   "metadata": {},
   "outputs": [
    {
     "name": "stdout",
     "output_type": "stream",
     "text": [
      "OFFLINE (K=10): fool rate = 100.00 +/- 0.00, comp ratio = 70.00 +/- 0.00, knapsack ratio = 94.23 +/- 0.00\n",
      "STOCHASTIC_VIRTUAL (K=10): fool rate = 90.60 +/- 8.81, comp ratio = 27.20 +/- 11.50, knapsack ratio = 56.27 +/- 11.11\n",
      "STOCHASTIC_OPTIMISTIC (K=10): fool rate = 62.40 +/- 17.95, comp ratio = 22.60 +/- 9.55, knapsack ratio = 41.02 +/- 6.49\n",
      "STOCHASTIC_MODIFIED_VIRTUAL (K=10): fool rate = 87.60 +/- 19.35, comp ratio = 37.60 +/- 11.24, knapsack ratio = 69.85 +/- 14.41\n",
      "STOCHASTIC_SINGLE_REF (K=10): fool rate = 81.80 +/- 13.52, comp ratio = 25.00 +/- 18.89, knapsack ratio = 41.72 +/- 21.92\n",
      "RANDOM (K=10): fool rate = 69.60 +/- 14.83, comp ratio = 0.00 +/- 0.00, knapsack ratio = 15.17 +/- 4.57\n",
      "OFFLINE (K=100): fool rate = 100.00 +/- 0.00, comp ratio = 37.00 +/- 0.00, knapsack ratio = 80.86 +/- 0.04\n",
      "STOCHASTIC_VIRTUAL (K=100): fool rate = 90.12 +/- 3.34, comp ratio = 17.32 +/- 3.31, knapsack ratio = 54.54 +/- 4.15\n",
      "STOCHASTIC_OPTIMISTIC (K=100): fool rate = 78.60 +/- 14.64, comp ratio = 17.76 +/- 2.59, knapsack ratio = 47.13 +/- 4.26\n",
      "STOCHASTIC_MODIFIED_VIRTUAL (K=100): fool rate = 95.62 +/- 5.78, comp ratio = 27.04 +/- 3.19, knapsack ratio = 71.22 +/- 4.38\n",
      "STOCHASTIC_SINGLE_REF (K=100): fool rate = 73.66 +/- 4.57, comp ratio = 3.76 +/- 2.73, knapsack ratio = 24.87 +/- 3.15\n",
      "RANDOM (K=100): fool rate = 72.28 +/- 4.20, comp ratio = 0.96 +/- 0.89, knapsack ratio = 21.24 +/- 2.00\n",
      "OFFLINE (K=1000): fool rate = 99.60 +/- 0.00, comp ratio = 51.90 +/- 0.00, knapsack ratio = 81.33 +/- 0.02\n",
      "STOCHASTIC_VIRTUAL (K=1000): fool rate = 88.92 +/- 1.04, comp ratio = 28.75 +/- 1.34, knapsack ratio = 56.61 +/- 1.11\n",
      "STOCHASTIC_OPTIMISTIC (K=1000): fool rate = 85.51 +/- 0.98, comp ratio = 28.52 +/- 1.26, knapsack ratio = 54.37 +/- 0.98\n",
      "STOCHASTIC_MODIFIED_VIRTUAL (K=1000): fool rate = 98.02 +/- 1.78, comp ratio = 41.70 +/- 1.02, knapsack ratio = 72.76 +/- 1.26\n",
      "STOCHASTIC_SINGLE_REF (K=1000): fool rate = 72.89 +/- 1.26, comp ratio = 10.27 +/- 0.93, knapsack ratio = 32.03 +/- 1.02\n",
      "RANDOM (K=1000): fool rate = 72.73 +/- 1.18, comp ratio = 10.11 +/- 1.02, knapsack ratio = 31.67 +/- 0.86\n"
     ]
    }
   ],
   "source": [
    "eval_comp_ratio(\"/checkpoint/hberard/OnlineAttack/results_runs=50/fgsm/\", \"1\", return_latex=False)"
   ]
  },
  {
   "cell_type": "code",
   "execution_count": 23,
   "metadata": {},
   "outputs": [
    {
     "name": "stdout",
     "output_type": "stream",
     "text": [
      "OFFLINE (K=10): fool rate = 100.00 +/- 0.00, comp ratio = 70.00 +/- 0.00, knapsack ratio = 94.23 +/- 0.00\n",
      "STOCHASTIC_VIRTUAL (K=10): fool rate = 90.00 +/- 9.70, comp ratio = 26.90 +/- 12.62, knapsack ratio = 56.43 +/- 11.77\n",
      "STOCHASTIC_OPTIMISTIC (K=10): fool rate = 62.00 +/- 17.44, comp ratio = 23.10 +/- 9.87, knapsack ratio = 41.23 +/- 6.25\n",
      "STOCHASTIC_MODIFIED_VIRTUAL (K=10): fool rate = 87.80 +/- 17.92, comp ratio = 37.90 +/- 11.60, knapsack ratio = 70.43 +/- 13.33\n",
      "STOCHASTIC_SINGLE_REF (K=10): fool rate = 81.60 +/- 13.98, comp ratio = 25.20 +/- 18.19, knapsack ratio = 41.80 +/- 21.14\n",
      "RANDOM (K=10): fool rate = 70.00 +/- 14.42, comp ratio = 0.00 +/- 0.00, knapsack ratio = 15.30 +/- 4.27\n",
      "OFFLINE (K=100): fool rate = 100.00 +/- 0.00, comp ratio = 37.00 +/- 0.00, knapsack ratio = 80.83 +/- 0.03\n",
      "STOCHASTIC_VIRTUAL (K=100): fool rate = 90.18 +/- 3.22, comp ratio = 17.55 +/- 3.00, knapsack ratio = 54.50 +/- 3.46\n",
      "STOCHASTIC_OPTIMISTIC (K=100): fool rate = 78.78 +/- 14.76, comp ratio = 17.60 +/- 2.58, knapsack ratio = 47.08 +/- 4.33\n",
      "STOCHASTIC_MODIFIED_VIRTUAL (K=100): fool rate = 95.79 +/- 5.68, comp ratio = 26.71 +/- 2.88, knapsack ratio = 71.08 +/- 3.92\n",
      "STOCHASTIC_SINGLE_REF (K=100): fool rate = 73.77 +/- 4.69, comp ratio = 3.80 +/- 2.63, knapsack ratio = 25.09 +/- 3.28\n",
      "RANDOM (K=100): fool rate = 73.16 +/- 4.23, comp ratio = 1.05 +/- 0.91, knapsack ratio = 21.56 +/- 2.23\n",
      "OFFLINE (K=1000): fool rate = 99.60 +/- 0.00, comp ratio = 51.90 +/- 0.00, knapsack ratio = 81.31 +/- 0.02\n",
      "STOCHASTIC_VIRTUAL (K=1000): fool rate = 88.89 +/- 0.97, comp ratio = 28.83 +/- 1.21, knapsack ratio = 56.55 +/- 1.04\n",
      "STOCHASTIC_OPTIMISTIC (K=1000): fool rate = 85.46 +/- 0.96, comp ratio = 28.51 +/- 1.25, knapsack ratio = 54.35 +/- 1.01\n",
      "STOCHASTIC_MODIFIED_VIRTUAL (K=1000): fool rate = 97.95 +/- 1.92, comp ratio = 41.75 +/- 1.08, knapsack ratio = 72.71 +/- 1.30\n",
      "STOCHASTIC_SINGLE_REF (K=1000): fool rate = 72.78 +/- 1.27, comp ratio = 10.29 +/- 0.90, knapsack ratio = 32.02 +/- 1.01\n",
      "RANDOM (K=1000): fool rate = 72.79 +/- 1.26, comp ratio = 10.02 +/- 0.95, knapsack ratio = 31.65 +/- 0.89\n"
     ]
    }
   ],
   "source": [
    "eval_comp_ratio(\"/checkpoint/hberard/OnlineAttack/results_runs=100/fgsm/\", \"1\", return_latex=False)"
   ]
  },
  {
   "cell_type": "code",
   "execution_count": 9,
   "metadata": {},
   "outputs": [
    {
     "name": "stdout",
     "output_type": "stream",
     "text": [
      "madry_mnist found and imported\n",
      "INFO:tensorflow:Restoring parameters from /checkpoint/hberard/OnlineAttack/pretained_models/mnist/madry/secret/checkpoint-99900\n",
      "madry_mnist found and imported\n",
      "INFO:tensorflow:Restoring parameters from /checkpoint/hberard/OnlineAttack/pretained_models/mnist/madry/natural/checkpoint-24900\n",
      "\\begin{table*}[h] \n",
      " \\begin{center}\\begin{tabular}{ c c c c }\n",
      " Algorithm & Fool Rate & Comp Ratio & Knapsack Ratio \\\\ \n",
      "OFFLINE & 40.00 $\\pm$ 0.00 & 0.00 $\\pm$ 0.00 & 15.87 $\\pm$ 0.00 \\\\ \n",
      "STOCHASTIC VIRTUAL & 19.00 $\\pm$ 10.44 & 0.00 $\\pm$ 0.00 & 6.36 $\\pm$ 3.18 \\\\ \n",
      "STOCHASTIC OPTIMISTIC & 18.00 $\\pm$ 7.48 & 0.00 $\\pm$ 0.00 & 6.62 $\\pm$ 3.15 \\\\ \n",
      "STOCHASTIC MODIFIED VIRTUAL & 28.00 $\\pm$ 11.66 & 0.00 $\\pm$ 0.00 & 10.89 $\\pm$ 4.48 \\\\ \n",
      "STOCHASTIC SINGLE REF & 23.00 $\\pm$ 14.87 & 0.00 $\\pm$ 0.00 & 8.25 $\\pm$ 5.73 \\\\ \n",
      "RANDOM & 3.00 $\\pm$ 4.58 & 0.00 $\\pm$ 0.00 & 1.87 $\\pm$ 2.53 \\\\ \n",
      "\\end{tabular}\\end{center} \n",
      "\\end{table*}\n",
      "madry_mnist found and imported\n",
      "INFO:tensorflow:Restoring parameters from /checkpoint/hberard/OnlineAttack/pretained_models/mnist/madry/secret/checkpoint-99900\n",
      "madry_mnist found and imported\n",
      "INFO:tensorflow:Restoring parameters from /checkpoint/hberard/OnlineAttack/pretained_models/mnist/madry/natural/checkpoint-24900\n",
      "\\begin{table*}[h] \n",
      " \\begin{center}\\begin{tabular}{ c c c c }\n",
      " Algorithm & Fool Rate & Comp Ratio & Knapsack Ratio \\\\ \n",
      "OFFLINE & 24.00 $\\pm$ 0.00 & 8.00 $\\pm$ 0.00 & 19.49 $\\pm$ 0.00 \\\\ \n",
      "STOCHASTIC VIRTUAL & 15.10 $\\pm$ 3.42 & 5.00 $\\pm$ 1.61 & 12.12 $\\pm$ 2.90 \\\\ \n",
      "STOCHASTIC OPTIMISTIC & 13.70 $\\pm$ 2.28 & 4.10 $\\pm$ 1.51 & 10.81 $\\pm$ 2.18 \\\\ \n",
      "STOCHASTIC MODIFIED VIRTUAL & 22.30 $\\pm$ 3.80 & 7.30 $\\pm$ 1.73 & 18.02 $\\pm$ 3.37 \\\\ \n",
      "STOCHASTIC SINGLE REF & 23.50 $\\pm$ 2.87 & 8.00 $\\pm$ 1.67 & 19.70 $\\pm$ 2.98 \\\\ \n",
      "RANDOM & 3.80 $\\pm$ 1.78 & 1.10 $\\pm$ 1.04 & 2.66 $\\pm$ 1.07 \\\\ \n",
      "\\end{tabular}\\end{center} \n",
      "\\end{table*}\n",
      "madry_mnist found and imported\n",
      "INFO:tensorflow:Restoring parameters from /checkpoint/hberard/OnlineAttack/pretained_models/mnist/madry/secret/checkpoint-99900\n",
      "madry_mnist found and imported\n",
      "INFO:tensorflow:Restoring parameters from /checkpoint/hberard/OnlineAttack/pretained_models/mnist/madry/natural/checkpoint-24900\n",
      "\\begin{table*}[h] \n",
      " \\begin{center}\\begin{tabular}{ c c c c }\n",
      " Algorithm & Fool Rate & Comp Ratio & Knapsack Ratio \\\\ \n",
      "OFFLINE & 43.70 $\\pm$ 0.00 & 36.20 $\\pm$ 0.00 & 44.89 $\\pm$ 0.00 \\\\ \n",
      "STOCHASTIC VIRTUAL & 26.25 $\\pm$ 1.44 & 23.13 $\\pm$ 0.84 & 27.00 $\\pm$ 1.32 \\\\ \n",
      "STOCHASTIC OPTIMISTIC & 25.66 $\\pm$ 1.83 & 21.83 $\\pm$ 1.39 & 27.07 $\\pm$ 1.35 \\\\ \n",
      "STOCHASTIC MODIFIED VIRTUAL & 36.39 $\\pm$ 2.45 & 31.59 $\\pm$ 0.86 & 37.71 $\\pm$ 1.65 \\\\ \n",
      "STOCHASTIC SINGLE REF & 20.23 $\\pm$ 1.49 & 17.47 $\\pm$ 1.12 & 21.43 $\\pm$ 1.48 \\\\ \n",
      "RANDOM & 10.65 $\\pm$ 2.39 & 10.28 $\\pm$ 0.98 & 10.77 $\\pm$ 1.40 \\\\ \n",
      "\\end{tabular}\\end{center} \n",
      "\\end{table*}\n"
     ]
    }
   ],
   "source": [
    "import os\n",
    "os.environ[\"CUDA_VISIBLE_DEVICES\"]=\"1\"\n",
    "eval_comp_ratio(\"/checkpoint/hberard/OnlineAttack/test/madry/\", \"secret\", return_latex=True)"
   ]
  },
  {
   "cell_type": "code",
   "execution_count": 4,
   "metadata": {},
   "outputs": [
    {
     "data": {
      "text/plain": [
       "['/checkpoint/hberard/OnlineAttack/results_icml/fgsm/mnist/modelA/3/9a9aa531-55aa-4c3d-8078-d03840b5c23a',\n",
       " '/checkpoint/hberard/OnlineAttack/results_icml/fgsm/mnist/modelA/3/99193a82-cbdd-44ee-a55c-fdcf9458491d',\n",
       " '/checkpoint/hberard/OnlineAttack/results_icml/fgsm/mnist/modelA/3/b495c5a9-f9a1-4a31-b255-5fda15b194bc',\n",
       " '/checkpoint/hberard/OnlineAttack/results_icml/fgsm/mnist/modelA/PGD_ATTACK_train_0/0136e627-b197-4e3c-9a63-0802162e4096',\n",
       " '/checkpoint/hberard/OnlineAttack/results_icml/fgsm/mnist/modelA/PGD_ATTACK_train_0/4bd82eac-53e0-4103-bd5a-1c3ead40cf9d',\n",
       " '/checkpoint/hberard/OnlineAttack/results_icml/fgsm/mnist/modelA/PGD_ATTACK_train_0/96866021-1eef-4f40-a0e1-1c210b302cb5',\n",
       " '/checkpoint/hberard/OnlineAttack/results_icml/fgsm/mnist/modelA/1/d48aa57e-7664-4cc8-96cb-48dc94fe8e74',\n",
       " '/checkpoint/hberard/OnlineAttack/results_icml/fgsm/mnist/modelA/1/7c9193e2-f800-40be-b61c-6dd9a0e777b4',\n",
       " '/checkpoint/hberard/OnlineAttack/results_icml/fgsm/mnist/modelA/1/bce8229d-c47c-4d16-95e4-6f12ebfd649f',\n",
       " '/checkpoint/hberard/OnlineAttack/results_icml/fgsm/mnist/modelA/4/23842585-cb0e-4502-bbfb-b5a0d50e8426',\n",
       " '/checkpoint/hberard/OnlineAttack/results_icml/fgsm/mnist/modelA/4/70d3212c-391b-4c30-93c2-102021b59248',\n",
       " '/checkpoint/hberard/OnlineAttack/results_icml/fgsm/mnist/modelA/4/6bd87524-8fc8-44da-9dd0-29e59cea87f5',\n",
       " '/checkpoint/hberard/OnlineAttack/results_icml/fgsm/mnist/modelA/PGD_ATTACK_train_2/59cc495c-1b0a-4a00-a6ec-3184c369bd9b',\n",
       " '/checkpoint/hberard/OnlineAttack/results_icml/fgsm/mnist/modelA/PGD_ATTACK_train_2/34e7a766-468a-4130-b135-5f15391516e6',\n",
       " '/checkpoint/hberard/OnlineAttack/results_icml/fgsm/mnist/modelA/PGD_ATTACK_train_2/1df325cf-eb5d-4b76-9adb-32936453313b',\n",
       " '/checkpoint/hberard/OnlineAttack/results_icml/fgsm/mnist/modelA/0/9f091fa2-ad6a-498e-a7d9-c1af32c174aa',\n",
       " '/checkpoint/hberard/OnlineAttack/results_icml/fgsm/mnist/modelA/0/86d8f174-1c46-45d5-a6fd-2be9507d41ef',\n",
       " '/checkpoint/hberard/OnlineAttack/results_icml/fgsm/mnist/modelA/0/0593d050-8db2-47a1-88a8-d535b2e62e7c',\n",
       " '/checkpoint/hberard/OnlineAttack/results_icml/fgsm/mnist/modelA/PGD_ATTACK_train_4/4f97d05c-632a-441b-94bd-61df55564fc7',\n",
       " '/checkpoint/hberard/OnlineAttack/results_icml/fgsm/mnist/modelA/PGD_ATTACK_train_4/e07daedd-a124-4ac9-b6f0-f8580db8d982',\n",
       " '/checkpoint/hberard/OnlineAttack/results_icml/fgsm/mnist/modelA/PGD_ATTACK_train_4/0aa91332-5716-44f7-9886-3436a81598a3',\n",
       " '/checkpoint/hberard/OnlineAttack/results_icml/fgsm/mnist/modelA/PGD_ATTACK_train_1/756e76f8-4970-46e8-844c-12963324e5d9',\n",
       " '/checkpoint/hberard/OnlineAttack/results_icml/fgsm/mnist/modelA/PGD_ATTACK_train_1/3aff72d3-b4da-4697-8fed-d2d1fcb8501c',\n",
       " '/checkpoint/hberard/OnlineAttack/results_icml/fgsm/mnist/modelA/PGD_ATTACK_train_1/b44bcbb2-6ff0-4ecc-8646-28275264a50b',\n",
       " '/checkpoint/hberard/OnlineAttack/results_icml/fgsm/mnist/modelA/2/a06c8e21-ae63-4cb5-b41b-83f3a0835d44',\n",
       " '/checkpoint/hberard/OnlineAttack/results_icml/fgsm/mnist/modelA/2/c64db7e3-eefb-485d-935f-3dc97f371ab1',\n",
       " '/checkpoint/hberard/OnlineAttack/results_icml/fgsm/mnist/modelA/2/b2912e11-7879-4486-ab78-1cbfc0e2f2b8',\n",
       " '/checkpoint/hberard/OnlineAttack/results_icml/fgsm/mnist/modelA/PGD_ATTACK_train_3/eaa3e0cc-fe10-4073-be86-0593ba7464b0',\n",
       " '/checkpoint/hberard/OnlineAttack/results_icml/fgsm/mnist/modelA/PGD_ATTACK_train_3/3df626d7-4ac9-4bc9-95e4-7a2d4e54782a',\n",
       " '/checkpoint/hberard/OnlineAttack/results_icml/fgsm/mnist/modelA/PGD_ATTACK_train_3/75316858-fadc-4ba0-874a-5665da19bdee',\n",
       " '/checkpoint/hberard/OnlineAttack/results_icml/fgsm/mnist/modelC/4/1eb0545d-6f96-4628-a7b7-3722cc132640',\n",
       " '/checkpoint/hberard/OnlineAttack/results_icml/fgsm/mnist/modelC/4/044bb4ee-8f96-479c-8a4f-0f47b2b4be1f',\n",
       " '/checkpoint/hberard/OnlineAttack/results_icml/fgsm/mnist/modelC/4/06368fac-b53c-4889-84a3-012af99f7ab4',\n",
       " '/checkpoint/hberard/OnlineAttack/results_icml/fgsm/mnist/modelC/0/e12dc63d-843d-41fd-b5e2-2c8972f84745',\n",
       " '/checkpoint/hberard/OnlineAttack/results_icml/fgsm/mnist/modelC/0/7aa25391-1d94-47cb-8a7f-80c4e0a12093',\n",
       " '/checkpoint/hberard/OnlineAttack/results_icml/fgsm/mnist/modelC/0/e922474e-72db-41e6-9dbf-d7d9195da684',\n",
       " '/checkpoint/hberard/OnlineAttack/results_icml/fgsm/mnist/modelC/1/bd03e138-a639-4752-bc04-ce55472c7ade',\n",
       " '/checkpoint/hberard/OnlineAttack/results_icml/fgsm/mnist/modelC/1/97d46a5e-7109-4656-ac8b-eded56ad35c6',\n",
       " '/checkpoint/hberard/OnlineAttack/results_icml/fgsm/mnist/modelC/1/93010b20-23ca-49f6-8b2b-618e59f161b6',\n",
       " '/checkpoint/hberard/OnlineAttack/results_icml/fgsm/mnist/modelC/3/b611848b-aeaa-43a4-afb8-27e8e3698b21',\n",
       " '/checkpoint/hberard/OnlineAttack/results_icml/fgsm/mnist/modelC/3/907ca6b3-a652-4379-9e8b-510a6d2af12b',\n",
       " '/checkpoint/hberard/OnlineAttack/results_icml/fgsm/mnist/modelC/3/a80edf61-1fbe-4395-a257-59f6f1332e76',\n",
       " '/checkpoint/hberard/OnlineAttack/results_icml/fgsm/mnist/modelC/2/e06fe123-99e3-4b9c-bf56-372ac74453eb',\n",
       " '/checkpoint/hberard/OnlineAttack/results_icml/fgsm/mnist/modelC/2/0ce16a06-2d8b-4e0b-b3fe-17c587b1ac86',\n",
       " '/checkpoint/hberard/OnlineAttack/results_icml/fgsm/mnist/modelC/2/f2c3d6b1-7d96-4f0d-ae49-dbe331334da5',\n",
       " '/checkpoint/hberard/OnlineAttack/results_icml/fgsm/mnist/modelD/4/22f973d8-5c95-4db3-aa69-bf0f503b59b8',\n",
       " '/checkpoint/hberard/OnlineAttack/results_icml/fgsm/mnist/modelD/4/3b01dce4-d005-4eda-8eff-f0fde1e27cd5',\n",
       " '/checkpoint/hberard/OnlineAttack/results_icml/fgsm/mnist/modelD/4/4b44c9d5-d82c-4fe2-9570-b64d552531eb',\n",
       " '/checkpoint/hberard/OnlineAttack/results_icml/fgsm/mnist/modelD/1/b0e0c3cc-eacd-4fe3-b5c5-a100264934bd',\n",
       " '/checkpoint/hberard/OnlineAttack/results_icml/fgsm/mnist/modelD/1/7042310d-3c4d-4cbe-803c-693bb247d0cd',\n",
       " '/checkpoint/hberard/OnlineAttack/results_icml/fgsm/mnist/modelD/1/0885e7fc-a95d-4d3c-bace-66081cb9d43a',\n",
       " '/checkpoint/hberard/OnlineAttack/results_icml/fgsm/mnist/modelD/0/84ef2c8d-43df-4caf-89b5-2a2fc08e7934',\n",
       " '/checkpoint/hberard/OnlineAttack/results_icml/fgsm/mnist/modelD/0/29cdf228-54dd-4840-8671-6fd5d1772a9e',\n",
       " '/checkpoint/hberard/OnlineAttack/results_icml/fgsm/mnist/modelD/0/b0bc46c8-0b15-43ef-ac1d-15e55c5ebd6d',\n",
       " '/checkpoint/hberard/OnlineAttack/results_icml/fgsm/mnist/modelD/2/7eb86e7e-ddde-4856-ae94-72b064e46d13',\n",
       " '/checkpoint/hberard/OnlineAttack/results_icml/fgsm/mnist/modelD/2/1b0f21ae-252d-4745-bf94-d6ba64419a9b',\n",
       " '/checkpoint/hberard/OnlineAttack/results_icml/fgsm/mnist/modelD/2/b732ff3a-7deb-46d4-aa48-e79b8a4db692',\n",
       " '/checkpoint/hberard/OnlineAttack/results_icml/fgsm/mnist/modelD/3/fd959e64-fdb9-4f2d-b134-920f4672ffdc',\n",
       " '/checkpoint/hberard/OnlineAttack/results_icml/fgsm/mnist/modelD/3/a08ca2c3-7cfa-4209-bf55-e2247d084f29',\n",
       " '/checkpoint/hberard/OnlineAttack/results_icml/fgsm/mnist/modelD/3/a8c1a626-4fd6-4a94-97f7-8e9e8c542f9e',\n",
       " '/checkpoint/hberard/OnlineAttack/results_icml/fgsm/mnist/modelB/1/acecb182-ff2e-498c-8ef4-7ed7486affd2',\n",
       " '/checkpoint/hberard/OnlineAttack/results_icml/fgsm/mnist/modelB/1/352fbb1d-9f56-4ad5-8216-f66e6ba26165',\n",
       " '/checkpoint/hberard/OnlineAttack/results_icml/fgsm/mnist/modelB/1/4fdcfb31-a86a-42f1-9c60-af283e56cb31',\n",
       " '/checkpoint/hberard/OnlineAttack/results_icml/fgsm/mnist/modelB/3/7bb9b6ac-0464-4aa5-ab9e-f1b05c989eb6',\n",
       " '/checkpoint/hberard/OnlineAttack/results_icml/fgsm/mnist/modelB/3/4ba9de07-eb12-49ad-ac76-18b706cdfe6a',\n",
       " '/checkpoint/hberard/OnlineAttack/results_icml/fgsm/mnist/modelB/3/4098ec13-829b-47a1-962d-18e9576412c4',\n",
       " '/checkpoint/hberard/OnlineAttack/results_icml/fgsm/mnist/modelB/4/62fa8e95-6104-413c-880e-1853910943e5',\n",
       " '/checkpoint/hberard/OnlineAttack/results_icml/fgsm/mnist/modelB/4/633abe84-4cd4-4a78-940e-31fcc540f56d',\n",
       " '/checkpoint/hberard/OnlineAttack/results_icml/fgsm/mnist/modelB/4/6d9408c0-8b0e-4571-af96-5fc8b0396e05',\n",
       " '/checkpoint/hberard/OnlineAttack/results_icml/fgsm/mnist/modelB/0/256d0a3a-6011-4d63-bde1-33922bc60523',\n",
       " '/checkpoint/hberard/OnlineAttack/results_icml/fgsm/mnist/modelB/0/a0e637cb-1c0e-4646-b997-bfa226b3751b',\n",
       " '/checkpoint/hberard/OnlineAttack/results_icml/fgsm/mnist/modelB/0/1d119e6a-556a-42c4-aa47-2655760fd49f',\n",
       " '/checkpoint/hberard/OnlineAttack/results_icml/fgsm/mnist/modelB/2/5aae0f3a-37fe-4ece-9b13-43a904a56f5e',\n",
       " '/checkpoint/hberard/OnlineAttack/results_icml/fgsm/mnist/modelB/2/742ff646-ba42-4a7c-bfb9-bce983c16e30',\n",
       " '/checkpoint/hberard/OnlineAttack/results_icml/fgsm/mnist/modelB/2/0b5c607b-7b30-4935-88f5-399536222dff',\n",
       " '/checkpoint/hberard/OnlineAttack/results_icml/fgsm/mnist/madry/adv_trained/12b6d0bf-d183-4d2f-8404-a045db60e162',\n",
       " '/checkpoint/hberard/OnlineAttack/results_icml/fgsm/mnist/madry/adv_trained/b555815f-8707-4bbb-948e-aa169640aa5b',\n",
       " '/checkpoint/hberard/OnlineAttack/results_icml/fgsm/mnist/madry/adv_trained/7bca4beb-f948-4884-aa96-ffb21fc45f59',\n",
       " '/checkpoint/hberard/OnlineAttack/results_icml/fgsm/mnist/madry/secret/237ebf15-63a6-4172-8b41-624613a5213a',\n",
       " '/checkpoint/hberard/OnlineAttack/results_icml/fgsm/mnist/madry/secret/f24f185a-e9da-4562-8490-0003c275433c',\n",
       " '/checkpoint/hberard/OnlineAttack/results_icml/fgsm/mnist/madry/secret/2d4a5d01-4a7f-4ffa-96b1-c620c7963872',\n",
       " '/checkpoint/hberard/OnlineAttack/results_icml/fgsm/mnist/madry/natural/17edc158-6677-41a5-badd-d2e27f421d9c',\n",
       " '/checkpoint/hberard/OnlineAttack/results_icml/fgsm/mnist/madry/natural/ed76928e-8907-4a58-840c-cc2633052902',\n",
       " '/checkpoint/hberard/OnlineAttack/results_icml/fgsm/mnist/madry/natural/cb3dc54c-263e-44d2-b869-44da5a67d196',\n",
       " '/checkpoint/hberard/OnlineAttack/results_icml/pgd/mnist/modelD/4/3d9f688f-3a6c-4903-883f-0bc774bfee14',\n",
       " '/checkpoint/hberard/OnlineAttack/results_icml/pgd/mnist/modelD/4/a55e2110-38de-4f1f-bb14-83f916db8212',\n",
       " '/checkpoint/hberard/OnlineAttack/results_icml/pgd/mnist/modelD/4/37924e53-0c71-444d-a87d-75e4eba74226',\n",
       " '/checkpoint/hberard/OnlineAttack/results_icml/pgd/mnist/modelD/1/e0abbffa-48fa-4ed4-b474-cf3c2c7154d0',\n",
       " '/checkpoint/hberard/OnlineAttack/results_icml/pgd/mnist/modelD/1/99fedb98-bfe2-446d-b732-38ea44da2735',\n",
       " '/checkpoint/hberard/OnlineAttack/results_icml/pgd/mnist/modelD/1/45fbdcc2-fb9c-4980-95fa-b735cef27534',\n",
       " '/checkpoint/hberard/OnlineAttack/results_icml/pgd/mnist/modelD/0/ab042cd8-abb6-4960-9e5e-835d1262291c',\n",
       " '/checkpoint/hberard/OnlineAttack/results_icml/pgd/mnist/modelD/0/a7c47e97-14fc-4ac7-832f-f21d23ea2777',\n",
       " '/checkpoint/hberard/OnlineAttack/results_icml/pgd/mnist/modelD/0/6c6b684d-b60d-4b53-984a-a30be2ec4bed',\n",
       " '/checkpoint/hberard/OnlineAttack/results_icml/pgd/mnist/modelD/3/ba8d69cc-1f9b-4d5a-b9f3-d170451af9e0',\n",
       " '/checkpoint/hberard/OnlineAttack/results_icml/pgd/mnist/modelD/3/80181dd0-1d3d-4cb2-aba9-a35dac1bd780',\n",
       " '/checkpoint/hberard/OnlineAttack/results_icml/pgd/mnist/modelD/3/75002dbe-ff2b-433e-ba4f-886a58d30e20',\n",
       " '/checkpoint/hberard/OnlineAttack/results_icml/pgd/mnist/modelD/2/bb1530fa-1523-4a0f-bff9-ab77a84f7c68',\n",
       " '/checkpoint/hberard/OnlineAttack/results_icml/pgd/mnist/modelD/2/0deb11b8-1f0c-4958-91c2-223b782c671d',\n",
       " '/checkpoint/hberard/OnlineAttack/results_icml/pgd/mnist/modelD/2/2abe547d-f2a6-4026-8b05-009edc5e17bb',\n",
       " '/checkpoint/hberard/OnlineAttack/results_icml/pgd/mnist/madry/natural/a2579f2c-750b-4ed0-bdad-5f6783bc7f45',\n",
       " '/checkpoint/hberard/OnlineAttack/results_icml/pgd/mnist/madry/natural/0008641e-643d-40f8-ab56-f5a7bdb06975',\n",
       " '/checkpoint/hberard/OnlineAttack/results_icml/pgd/mnist/madry/natural/4480cd64-afe3-45e1-8080-6bd9275cfb1a',\n",
       " '/checkpoint/hberard/OnlineAttack/results_icml/pgd/mnist/madry/adv_trained/aa4be89f-e9f8-48ae-8f6c-90ef665d601c',\n",
       " '/checkpoint/hberard/OnlineAttack/results_icml/pgd/mnist/madry/adv_trained/77268f8c-19ea-46b8-9e62-769ace237091',\n",
       " '/checkpoint/hberard/OnlineAttack/results_icml/pgd/mnist/madry/adv_trained/c0c8877e-2df4-4787-bbd8-384bb01fcba4',\n",
       " '/checkpoint/hberard/OnlineAttack/results_icml/pgd/mnist/madry/secret/4b922e18-6d6f-445e-a60e-5d12ff205515',\n",
       " '/checkpoint/hberard/OnlineAttack/results_icml/pgd/mnist/madry/secret/b9389290-8017-4b10-8817-3d7bab856692',\n",
       " '/checkpoint/hberard/OnlineAttack/results_icml/pgd/mnist/madry/secret/6499b429-88e5-454a-8271-7325227b5b55',\n",
       " '/checkpoint/hberard/OnlineAttack/results_icml/pgd/mnist/modelC/0/7e36982c-a393-44ed-a8ed-441794f4e929',\n",
       " '/checkpoint/hberard/OnlineAttack/results_icml/pgd/mnist/modelC/0/83232b79-e294-4d2d-b226-5b032f5ff78c',\n",
       " '/checkpoint/hberard/OnlineAttack/results_icml/pgd/mnist/modelC/0/53a5a38c-6535-4cf7-9a3d-f889e938f8a2',\n",
       " '/checkpoint/hberard/OnlineAttack/results_icml/pgd/mnist/modelC/2/d5ab5a2f-a4d7-4cce-be8a-126a7fcfabfe',\n",
       " '/checkpoint/hberard/OnlineAttack/results_icml/pgd/mnist/modelC/2/51d723b7-fcde-4f5a-a16a-19f4384a3fb1',\n",
       " '/checkpoint/hberard/OnlineAttack/results_icml/pgd/mnist/modelC/2/49d3c9b0-3f68-462b-9dae-5dbaf874ecdc',\n",
       " '/checkpoint/hberard/OnlineAttack/results_icml/pgd/mnist/modelC/4/8f9926e1-2354-432a-8b31-0dbead2bae91',\n",
       " '/checkpoint/hberard/OnlineAttack/results_icml/pgd/mnist/modelC/4/220aedc2-85ec-4900-87b4-0ce042634431',\n",
       " '/checkpoint/hberard/OnlineAttack/results_icml/pgd/mnist/modelC/4/1f90c238-5b6b-4a44-94b8-d3c9dabff681',\n",
       " '/checkpoint/hberard/OnlineAttack/results_icml/pgd/mnist/modelC/3/7deb10c3-2473-4327-b1db-485be67950b5',\n",
       " '/checkpoint/hberard/OnlineAttack/results_icml/pgd/mnist/modelC/3/e4a7188f-767c-4506-8058-1ca93fc68303',\n",
       " '/checkpoint/hberard/OnlineAttack/results_icml/pgd/mnist/modelC/3/e413dc56-8350-447a-a266-ceb184c6ee3a',\n",
       " '/checkpoint/hberard/OnlineAttack/results_icml/pgd/mnist/modelC/1/23998bcf-1b30-4929-b1ae-4ce636c884da',\n",
       " '/checkpoint/hberard/OnlineAttack/results_icml/pgd/mnist/modelC/1/15eed31c-4ae5-4e00-90a5-db515c4cc407',\n",
       " '/checkpoint/hberard/OnlineAttack/results_icml/pgd/mnist/modelC/1/1e0df481-bef6-4e7a-b230-59d807fddade']"
      ]
     },
     "execution_count": 4,
     "metadata": {},
     "output_type": "execute_result"
    }
   ],
   "source": [
    "glob.glob(\"/checkpoint/hberard/OnlineAttack/results_icml/*/mnist/*/*/*\")"
   ]
  },
  {
   "cell_type": "code",
   "execution_count": 9,
   "metadata": {},
   "outputs": [
    {
     "name": "stderr",
     "output_type": "stream",
     "text": [
      "/private/home/hberard/.conda/envs/dev/lib/python3.7/site-packages/tensorflow/python/framework/dtypes.py:516: FutureWarning: Passing (type, 1) or '1type' as a synonym of type is deprecated; in a future version of numpy, it will be understood as (type, (1,)) / '(1,)type'.\n",
      "  _np_qint8 = np.dtype([(\"qint8\", np.int8, 1)])\n",
      "/private/home/hberard/.conda/envs/dev/lib/python3.7/site-packages/tensorflow/python/framework/dtypes.py:517: FutureWarning: Passing (type, 1) or '1type' as a synonym of type is deprecated; in a future version of numpy, it will be understood as (type, (1,)) / '(1,)type'.\n",
      "  _np_quint8 = np.dtype([(\"quint8\", np.uint8, 1)])\n",
      "/private/home/hberard/.conda/envs/dev/lib/python3.7/site-packages/tensorflow/python/framework/dtypes.py:518: FutureWarning: Passing (type, 1) or '1type' as a synonym of type is deprecated; in a future version of numpy, it will be understood as (type, (1,)) / '(1,)type'.\n",
      "  _np_qint16 = np.dtype([(\"qint16\", np.int16, 1)])\n",
      "/private/home/hberard/.conda/envs/dev/lib/python3.7/site-packages/tensorflow/python/framework/dtypes.py:519: FutureWarning: Passing (type, 1) or '1type' as a synonym of type is deprecated; in a future version of numpy, it will be understood as (type, (1,)) / '(1,)type'.\n",
      "  _np_quint16 = np.dtype([(\"quint16\", np.uint16, 1)])\n",
      "/private/home/hberard/.conda/envs/dev/lib/python3.7/site-packages/tensorflow/python/framework/dtypes.py:520: FutureWarning: Passing (type, 1) or '1type' as a synonym of type is deprecated; in a future version of numpy, it will be understood as (type, (1,)) / '(1,)type'.\n",
      "  _np_qint32 = np.dtype([(\"qint32\", np.int32, 1)])\n",
      "/private/home/hberard/.conda/envs/dev/lib/python3.7/site-packages/tensorflow/python/framework/dtypes.py:525: FutureWarning: Passing (type, 1) or '1type' as a synonym of type is deprecated; in a future version of numpy, it will be understood as (type, (1,)) / '(1,)type'.\n",
      "  np_resource = np.dtype([(\"resource\", np.ubyte, 1)])\n",
      "/private/home/hberard/.conda/envs/dev/lib/python3.7/site-packages/tensorboard/compat/tensorflow_stub/dtypes.py:541: FutureWarning: Passing (type, 1) or '1type' as a synonym of type is deprecated; in a future version of numpy, it will be understood as (type, (1,)) / '(1,)type'.\n",
      "  _np_qint8 = np.dtype([(\"qint8\", np.int8, 1)])\n",
      "/private/home/hberard/.conda/envs/dev/lib/python3.7/site-packages/tensorboard/compat/tensorflow_stub/dtypes.py:542: FutureWarning: Passing (type, 1) or '1type' as a synonym of type is deprecated; in a future version of numpy, it will be understood as (type, (1,)) / '(1,)type'.\n",
      "  _np_quint8 = np.dtype([(\"quint8\", np.uint8, 1)])\n",
      "/private/home/hberard/.conda/envs/dev/lib/python3.7/site-packages/tensorboard/compat/tensorflow_stub/dtypes.py:543: FutureWarning: Passing (type, 1) or '1type' as a synonym of type is deprecated; in a future version of numpy, it will be understood as (type, (1,)) / '(1,)type'.\n",
      "  _np_qint16 = np.dtype([(\"qint16\", np.int16, 1)])\n",
      "/private/home/hberard/.conda/envs/dev/lib/python3.7/site-packages/tensorboard/compat/tensorflow_stub/dtypes.py:544: FutureWarning: Passing (type, 1) or '1type' as a synonym of type is deprecated; in a future version of numpy, it will be understood as (type, (1,)) / '(1,)type'.\n",
      "  _np_quint16 = np.dtype([(\"quint16\", np.uint16, 1)])\n",
      "/private/home/hberard/.conda/envs/dev/lib/python3.7/site-packages/tensorboard/compat/tensorflow_stub/dtypes.py:545: FutureWarning: Passing (type, 1) or '1type' as a synonym of type is deprecated; in a future version of numpy, it will be understood as (type, (1,)) / '(1,)type'.\n",
      "  _np_qint32 = np.dtype([(\"qint32\", np.int32, 1)])\n",
      "/private/home/hberard/.conda/envs/dev/lib/python3.7/site-packages/tensorboard/compat/tensorflow_stub/dtypes.py:550: FutureWarning: Passing (type, 1) or '1type' as a synonym of type is deprecated; in a future version of numpy, it will be understood as (type, (1,)) / '(1,)type'.\n",
      "  np_resource = np.dtype([(\"resource\", np.ubyte, 1)])\n"
     ]
    },
    {
     "name": "stdout",
     "output_type": "stream",
     "text": [
      "madry_mnist found and imported\n",
      "WARNING:tensorflow:From /private/home/hberard/Projects/online_adversarial_attacks/online_attacks/classifiers/madry/__init__.py:27: The name tf.ConfigProto is deprecated. Please use tf.compat.v1.ConfigProto instead.\n",
      "\n",
      "WARNING:tensorflow:From /private/home/hberard/Projects/online_adversarial_attacks/online_attacks/classifiers/madry/madry_mnist/model.py:13: The name tf.placeholder is deprecated. Please use tf.compat.v1.placeholder instead.\n",
      "\n",
      "WARNING:tensorflow:From /private/home/hberard/Projects/online_adversarial_attacks/online_attacks/classifiers/madry/madry_mnist/model.py:59: The name tf.truncated_normal is deprecated. Please use tf.random.truncated_normal instead.\n",
      "\n",
      "WARNING:tensorflow:From /private/home/hberard/Projects/online_adversarial_attacks/online_attacks/classifiers/madry/madry_mnist/model.py:73: The name tf.nn.max_pool is deprecated. Please use tf.nn.max_pool2d instead.\n",
      "\n",
      "WARNING:tensorflow:From /private/home/hberard/Projects/online_adversarial_attacks/online_attacks/classifiers/madry/__init__.py:34: The name tf.train.Saver is deprecated. Please use tf.compat.v1.train.Saver instead.\n",
      "\n",
      "WARNING:tensorflow:From /private/home/hberard/Projects/online_adversarial_attacks/online_attacks/classifiers/madry/__init__.py:35: The name tf.Session is deprecated. Please use tf.compat.v1.Session instead.\n",
      "\n",
      "WARNING:tensorflow:From /private/home/hberard/.conda/envs/dev/lib/python3.7/site-packages/tensorflow/python/training/saver.py:1276: checkpoint_exists (from tensorflow.python.training.checkpoint_management) is deprecated and will be removed in a future version.\n",
      "Instructions for updating:\n",
      "Use standard file APIs to check for files with this prefix.\n",
      "INFO:tensorflow:Restoring parameters from /checkpoint/hberard/OnlineAttack/pretained_models/mnist/madry/secret/checkpoint-99900\n",
      "madry_mnist found and imported\n",
      "INFO:tensorflow:Restoring parameters from /checkpoint/hberard/OnlineAttack/pretained_models/mnist/madry/natural/checkpoint-24900\n",
      "OFFLINE (K=10): fool rate = 40.00 +/- 0.00, comp ratio = 0.00 +/- 0.00, knapsack ratio = 14.55 +/- 0.00\n",
      "STOCHASTIC_VIRTUAL (K=10): fool rate = 25.80 +/- 12.10, comp ratio = 1.10 +/- 3.13, knapsack ratio = 9.93 +/- 5.02\n",
      "STOCHASTIC_OPTIMISTIC (K=10): fool rate = 25.60 +/- 11.43, comp ratio = 0.70 +/- 2.55, knapsack ratio = 9.42 +/- 4.67\n",
      "STOCHASTIC_MODIFIED_VIRTUAL (K=10): fool rate = 36.60 +/- 12.59, comp ratio = 1.60 +/- 3.67, knapsack ratio = 13.67 +/- 4.87\n",
      "STOCHASTIC_SINGLE_REF (K=10): fool rate = 30.20 +/- 13.26, comp ratio = 0.70 +/- 2.55, knapsack ratio = 11.47 +/- 5.05\n",
      "RANDOM (K=10): fool rate = 3.40 +/- 6.36, comp ratio = 0.20 +/- 1.40, knapsack ratio = 1.78 +/- 2.76\n",
      "madry_mnist found and imported\n",
      "INFO:tensorflow:Restoring parameters from /checkpoint/hberard/OnlineAttack/pretained_models/mnist/madry/secret/checkpoint-99900\n",
      "madry_mnist found and imported\n",
      "INFO:tensorflow:Restoring parameters from /checkpoint/hberard/OnlineAttack/pretained_models/mnist/madry/natural/checkpoint-24900\n",
      "OFFLINE (K=100): fool rate = 24.00 +/- 0.00, comp ratio = 9.00 +/- 0.00, knapsack ratio = 21.06 +/- 0.00\n",
      "STOCHASTIC_VIRTUAL (K=100): fool rate = 15.56 +/- 3.27, comp ratio = 5.13 +/- 1.95, knapsack ratio = 12.49 +/- 2.72\n",
      "STOCHASTIC_OPTIMISTIC (K=100): fool rate = 13.69 +/- 2.70, comp ratio = 4.04 +/- 1.57, knapsack ratio = 10.49 +/- 2.31\n",
      "STOCHASTIC_MODIFIED_VIRTUAL (K=100): fool rate = 21.74 +/- 2.92, comp ratio = 7.35 +/- 1.86, knapsack ratio = 17.85 +/- 2.56\n",
      "STOCHASTIC_SINGLE_REF (K=100): fool rate = 21.09 +/- 3.23, comp ratio = 7.33 +/- 1.76, knapsack ratio = 17.75 +/- 2.97\n",
      "RANDOM (K=100): fool rate = 3.52 +/- 2.02, comp ratio = 1.14 +/- 1.13, knapsack ratio = 2.81 +/- 1.35\n",
      "madry_mnist found and imported\n",
      "INFO:tensorflow:Restoring parameters from /checkpoint/hberard/OnlineAttack/pretained_models/mnist/madry/secret/checkpoint-99900\n",
      "madry_mnist found and imported\n",
      "INFO:tensorflow:Restoring parameters from /checkpoint/hberard/OnlineAttack/pretained_models/mnist/madry/natural/checkpoint-24900\n",
      "OFFLINE (K=1000): fool rate = 43.70 +/- 0.00, comp ratio = 36.20 +/- 0.00, knapsack ratio = 44.61 +/- 0.00\n",
      "STOCHASTIC_VIRTUAL (K=1000): fool rate = 25.22 +/- 1.96, comp ratio = 22.54 +/- 1.08, knapsack ratio = 26.12 +/- 1.89\n",
      "STOCHASTIC_OPTIMISTIC (K=1000): fool rate = 24.94 +/- 1.99, comp ratio = 21.51 +/- 0.98, knapsack ratio = 26.18 +/- 1.77\n",
      "STOCHASTIC_MODIFIED_VIRTUAL (K=1000): fool rate = 36.14 +/- 1.99, comp ratio = 31.09 +/- 0.97, knapsack ratio = 37.37 +/- 1.70\n",
      "STOCHASTIC_SINGLE_REF (K=1000): fool rate = 20.20 +/- 1.86, comp ratio = 17.35 +/- 1.06, knapsack ratio = 21.49 +/- 1.83\n",
      "RANDOM (K=1000): fool rate = 10.09 +/- 1.70, comp ratio = 10.04 +/- 0.79, knapsack ratio = 10.62 +/- 1.40\n"
     ]
    }
   ],
   "source": [
    "eval_comp_ratio(\"/checkpoint/hberard/OnlineAttack/results_icml/fgsm/mnist/madry/natural\", \"secret\", return_latex=False)"
   ]
  },
  {
   "cell_type": "code",
   "execution_count": 6,
   "metadata": {},
   "outputs": [
    {
     "name": "stdout",
     "output_type": "stream",
     "text": [
      "Files already downloaded and verified\n",
      "13.87\n"
     ]
    }
   ],
   "source": [
    "eval_classifier(DatasetType.CIFAR, CifarModel.VGG_16, 'train_1')"
   ]
  },
  {
   "cell_type": "code",
   "execution_count": 10,
   "metadata": {},
   "outputs": [
    {
     "name": "stdout",
     "output_type": "stream",
     "text": [
      "madry_mnist found and imported\n",
      "INFO:tensorflow:Restoring parameters from /checkpoint/hberard/OnlineAttack/pretained_models/mnist/madry/secret/checkpoint-99900\n",
      "madry_mnist found and imported\n",
      "INFO:tensorflow:Restoring parameters from /checkpoint/hberard/OnlineAttack/pretained_models/mnist/madry/natural/checkpoint-24900\n",
      "OFFLINE (K=10): fool rate = 33.70 +/- 11.10, comp ratio = 0.20 +/- 1.40, knapsack ratio = 19.21 +/- 7.33\n",
      "STOCHASTIC_VIRTUAL (K=10): fool rate = 17.70 +/- 11.56, comp ratio = 0.30 +/- 1.71, knapsack ratio = 10.13 +/- 6.68\n",
      "STOCHASTIC_OPTIMISTIC (K=10): fool rate = 18.00 +/- 12.17, comp ratio = 0.20 +/- 1.40, knapsack ratio = 10.24 +/- 7.73\n",
      "STOCHASTIC_MODIFIED_VIRTUAL (K=10): fool rate = 24.90 +/- 12.92, comp ratio = 0.30 +/- 1.71, knapsack ratio = 14.08 +/- 7.89\n",
      "STOCHASTIC_SINGLE_REF (K=10): fool rate = 25.20 +/- 13.08, comp ratio = 0.30 +/- 1.71, knapsack ratio = 13.39 +/- 7.77\n",
      "RANDOM (K=10): fool rate = 2.70 +/- 5.63, comp ratio = 0.30 +/- 1.71, knapsack ratio = 1.78 +/- 2.93\n",
      "madry_mnist found and imported\n",
      "INFO:tensorflow:Restoring parameters from /checkpoint/hberard/OnlineAttack/pretained_models/mnist/madry/secret/checkpoint-99900\n",
      "madry_mnist found and imported\n",
      "INFO:tensorflow:Restoring parameters from /checkpoint/hberard/OnlineAttack/pretained_models/mnist/madry/natural/checkpoint-24900\n",
      "OFFLINE (K=100): fool rate = 19.78 +/- 2.86, comp ratio = 7.98 +/- 1.26, knapsack ratio = 16.49 +/- 1.86\n",
      "STOCHASTIC_VIRTUAL (K=100): fool rate = 11.36 +/- 3.10, comp ratio = 4.34 +/- 1.78, knapsack ratio = 9.49 +/- 2.24\n",
      "STOCHASTIC_OPTIMISTIC (K=100): fool rate = 10.57 +/- 2.89, comp ratio = 4.18 +/- 1.65, knapsack ratio = 8.87 +/- 2.14\n",
      "STOCHASTIC_MODIFIED_VIRTUAL (K=100): fool rate = 16.04 +/- 3.24, comp ratio = 6.02 +/- 1.91, knapsack ratio = 13.43 +/- 2.58\n",
      "STOCHASTIC_SINGLE_REF (K=100): fool rate = 16.92 +/- 2.80, comp ratio = 6.87 +/- 1.83, knapsack ratio = 14.16 +/- 2.31\n",
      "RANDOM (K=100): fool rate = 2.99 +/- 1.60, comp ratio = 1.08 +/- 1.04, knapsack ratio = 2.68 +/- 1.40\n",
      "madry_mnist found and imported\n",
      "INFO:tensorflow:Restoring parameters from /checkpoint/hberard/OnlineAttack/pretained_models/mnist/madry/secret/checkpoint-99900\n",
      "madry_mnist found and imported\n",
      "INFO:tensorflow:Restoring parameters from /checkpoint/hberard/OnlineAttack/pretained_models/mnist/madry/natural/checkpoint-24900\n",
      "OFFLINE (K=1000): fool rate = 32.74 +/- 2.05, comp ratio = 28.10 +/- 0.73, knapsack ratio = 35.83 +/- 1.58\n",
      "STOCHASTIC_VIRTUAL (K=1000): fool rate = 20.70 +/- 2.23, comp ratio = 18.88 +/- 1.00, knapsack ratio = 22.32 +/- 2.20\n",
      "STOCHASTIC_OPTIMISTIC (K=1000): fool rate = 20.39 +/- 2.20, comp ratio = 18.24 +/- 1.01, knapsack ratio = 22.07 +/- 2.10\n",
      "STOCHASTIC_MODIFIED_VIRTUAL (K=1000): fool rate = 27.75 +/- 2.18, comp ratio = 24.78 +/- 0.86, knapsack ratio = 30.34 +/- 2.08\n",
      "STOCHASTIC_SINGLE_REF (K=1000): fool rate = 16.74 +/- 1.83, comp ratio = 15.33 +/- 0.97, knapsack ratio = 18.14 +/- 1.86\n",
      "RANDOM (K=1000): fool rate = 9.94 +/- 1.72, comp ratio = 10.01 +/- 0.88, knapsack ratio = 10.91 +/- 1.45\n"
     ]
    }
   ],
   "source": [
    "eval_comp_ratio(\"/checkpoint/hberard/OnlineAttack/results_icml/pgd/mnist/madry/natural\", \"secret\", return_latex=False)"
   ]
  },
  {
   "cell_type": "code",
   "execution_count": 19,
   "metadata": {},
   "outputs": [
    {
     "name": "stdout",
     "output_type": "stream",
     "text": [
      "madry_mnist found and imported\n",
      "INFO:tensorflow:Restoring parameters from /checkpoint/hberard/OnlineAttack/pretained_models/mnist/madry/natural/checkpoint-24900\n",
      "madry_mnist found and imported\n",
      "INFO:tensorflow:Restoring parameters from /checkpoint/hberard/OnlineAttack/pretained_models/mnist/madry/natural/checkpoint-24900\n",
      "OFFLINE (K=10): fool rate = 100.00 +/- 0.00, comp ratio = 100.00 +/- 0.00, knapsack ratio = 100.00 +/- 0.00\n",
      "STOCHASTIC_VIRTUAL (K=10): fool rate = 60.00 +/- 17.89, comp ratio = 36.00 +/- 12.00, knapsack ratio = 51.41 +/- 12.73\n",
      "STOCHASTIC_OPTIMISTIC (K=10): fool rate = 54.00 +/- 17.44, comp ratio = 42.00 +/- 12.49, knapsack ratio = 51.08 +/- 15.77\n",
      "STOCHASTIC_MODIFIED_VIRTUAL (K=10): fool rate = 80.00 +/- 25.69, comp ratio = 50.00 +/- 14.14, knapsack ratio = 69.90 +/- 19.13\n",
      "STOCHASTIC_SINGLE_REF (K=10): fool rate = 70.00 +/- 32.25, comp ratio = 50.00 +/- 24.08, knapsack ratio = 64.46 +/- 28.17\n",
      "RANDOM (K=10): fool rate = 1.00 +/- 3.00, comp ratio = 0.00 +/- 0.00, knapsack ratio = 0.66 +/- 1.71\n",
      "madry_mnist found and imported\n",
      "INFO:tensorflow:Restoring parameters from /checkpoint/hberard/OnlineAttack/pretained_models/mnist/madry/natural/checkpoint-24900\n",
      "madry_mnist found and imported\n",
      "INFO:tensorflow:Restoring parameters from /checkpoint/hberard/OnlineAttack/pretained_models/mnist/madry/natural/checkpoint-24900\n",
      "OFFLINE (K=100): fool rate = 83.00 +/- 0.00, comp ratio = 100.00 +/- 0.00, knapsack ratio = 100.00 +/- 0.00\n",
      "STOCHASTIC_VIRTUAL (K=100): fool rate = 28.20 +/- 3.06, comp ratio = 34.50 +/- 3.98, knapsack ratio = 35.20 +/- 5.10\n",
      "STOCHASTIC_OPTIMISTIC (K=100): fool rate = 31.10 +/- 2.70, comp ratio = 33.70 +/- 2.28, knapsack ratio = 47.51 +/- 6.13\n",
      "STOCHASTIC_MODIFIED_VIRTUAL (K=100): fool rate = 49.60 +/- 3.20, comp ratio = 59.70 +/- 3.41, knapsack ratio = 60.84 +/- 4.69\n",
      "STOCHASTIC_SINGLE_REF (K=100): fool rate = 64.90 +/- 8.79, comp ratio = 75.20 +/- 12.06, knapsack ratio = 79.29 +/- 9.04\n",
      "RANDOM (K=100): fool rate = 0.40 +/- 0.66, comp ratio = 0.70 +/- 0.78, knapsack ratio = 0.53 +/- 0.89\n",
      "madry_mnist found and imported\n",
      "INFO:tensorflow:Restoring parameters from /checkpoint/hberard/OnlineAttack/pretained_models/mnist/madry/natural/checkpoint-24900\n",
      "madry_mnist found and imported\n",
      "INFO:tensorflow:Restoring parameters from /checkpoint/hberard/OnlineAttack/pretained_models/mnist/madry/natural/checkpoint-24900\n",
      "OFFLINE (K=1000): fool rate = 8.30 +/- 0.00, comp ratio = 100.00 +/- 0.00, knapsack ratio = 100.00 +/- 0.00\n",
      "STOCHASTIC_VIRTUAL (K=1000): fool rate = 3.24 +/- 0.42, comp ratio = 39.17 +/- 1.75, knapsack ratio = 38.39 +/- 4.96\n",
      "STOCHASTIC_OPTIMISTIC (K=1000): fool rate = 5.08 +/- 0.38, comp ratio = 39.79 +/- 1.26, knapsack ratio = 59.91 +/- 5.14\n",
      "STOCHASTIC_MODIFIED_VIRTUAL (K=1000): fool rate = 5.00 +/- 0.36, comp ratio = 62.54 +/- 1.42, knapsack ratio = 59.13 +/- 4.91\n",
      "STOCHASTIC_SINGLE_REF (K=1000): fool rate = 5.08 +/- 0.38, comp ratio = 30.74 +/- 2.24, knapsack ratio = 60.08 +/- 5.15\n",
      "RANDOM (K=1000): fool rate = 0.78 +/- 0.39, comp ratio = 9.78 +/- 0.98, knapsack ratio = 9.01 +/- 4.55\n"
     ]
    }
   ],
   "source": [
    "eval_comp_ratio(\"/checkpoint/hberard/OnlineAttack/results_icml/test-mnist/madry_no_attack/\", \"natural\", return_latex=False, effective=True)"
   ]
  },
  {
   "cell_type": "code",
   "execution_count": 20,
   "metadata": {},
   "outputs": [
    {
     "name": "stdout",
     "output_type": "stream",
     "text": [
      "madry_mnist found and imported\n",
      "INFO:tensorflow:Restoring parameters from /checkpoint/hberard/OnlineAttack/pretained_models/mnist/madry/natural/checkpoint-24900\n",
      "madry_mnist found and imported\n",
      "INFO:tensorflow:Restoring parameters from /checkpoint/hberard/OnlineAttack/pretained_models/mnist/madry/natural/checkpoint-24900\n",
      "OFFLINE (K=10): fool rate = 100.00 +/- 0.00, comp ratio = 100.00 +/- 0.00, knapsack ratio = 100.00 +/- 0.00\n",
      "STOCHASTIC_VIRTUAL (K=10): fool rate = 97.00 +/- 4.58, comp ratio = 35.00 +/- 13.60, knapsack ratio = 71.14 +/- 7.88\n",
      "STOCHASTIC_OPTIMISTIC (K=10): fool rate = 97.00 +/- 4.58, comp ratio = 38.00 +/- 17.78, knapsack ratio = 67.20 +/- 11.05\n",
      "STOCHASTIC_MODIFIED_VIRTUAL (K=10): fool rate = 100.00 +/- 0.00, comp ratio = 51.00 +/- 8.31, knapsack ratio = 88.37 +/- 8.77\n",
      "STOCHASTIC_SINGLE_REF (K=10): fool rate = 100.00 +/- 0.00, comp ratio = 52.00 +/- 29.26, knapsack ratio = 74.03 +/- 21.52\n",
      "RANDOM (K=10): fool rate = 91.00 +/- 9.43, comp ratio = 0.00 +/- 0.00, knapsack ratio = 27.80 +/- 6.63\n",
      "madry_mnist found and imported\n",
      "INFO:tensorflow:Restoring parameters from /checkpoint/hberard/OnlineAttack/pretained_models/mnist/madry/natural/checkpoint-24900\n",
      "madry_mnist found and imported\n",
      "INFO:tensorflow:Restoring parameters from /checkpoint/hberard/OnlineAttack/pretained_models/mnist/madry/natural/checkpoint-24900\n",
      "OFFLINE (K=100): fool rate = 100.00 +/- 0.00, comp ratio = 100.00 +/- 0.00, knapsack ratio = 100.00 +/- 0.00\n",
      "STOCHASTIC_VIRTUAL (K=100): fool rate = 97.60 +/- 1.50, comp ratio = 37.40 +/- 5.00, knapsack ratio = 74.22 +/- 2.89\n",
      "STOCHASTIC_OPTIMISTIC (K=100): fool rate = 96.70 +/- 1.42, comp ratio = 35.10 +/- 2.26, knapsack ratio = 65.49 +/- 2.23\n",
      "STOCHASTIC_MODIFIED_VIRTUAL (K=100): fool rate = 99.80 +/- 0.40, comp ratio = 57.50 +/- 4.15, knapsack ratio = 93.92 +/- 3.97\n",
      "STOCHASTIC_SINGLE_REF (K=100): fool rate = 99.80 +/- 0.40, comp ratio = 76.40 +/- 8.75, knapsack ratio = 95.18 +/- 5.62\n",
      "RANDOM (K=100): fool rate = 92.10 +/- 3.05, comp ratio = 1.00 +/- 0.63, knapsack ratio = 34.79 +/- 1.59\n",
      "madry_mnist found and imported\n",
      "INFO:tensorflow:Restoring parameters from /checkpoint/hberard/OnlineAttack/pretained_models/mnist/madry/natural/checkpoint-24900\n",
      "madry_mnist found and imported\n",
      "INFO:tensorflow:Restoring parameters from /checkpoint/hberard/OnlineAttack/pretained_models/mnist/madry/natural/checkpoint-24900\n",
      "OFFLINE (K=1000): fool rate = 100.00 +/- 0.00, comp ratio = 100.00 +/- 0.00, knapsack ratio = 100.00 +/- 0.00\n",
      "STOCHASTIC_VIRTUAL (K=1000): fool rate = 97.28 +/- 0.67, comp ratio = 39.61 +/- 0.88, knapsack ratio = 72.51 +/- 0.73\n",
      "STOCHASTIC_OPTIMISTIC (K=1000): fool rate = 96.19 +/- 0.60, comp ratio = 40.12 +/- 1.14, knapsack ratio = 69.29 +/- 0.36\n",
      "STOCHASTIC_MODIFIED_VIRTUAL (K=1000): fool rate = 99.95 +/- 0.08, comp ratio = 62.10 +/- 1.62, knapsack ratio = 90.86 +/- 0.71\n",
      "STOCHASTIC_SINGLE_REF (K=1000): fool rate = 94.58 +/- 0.69, comp ratio = 31.45 +/- 1.81, knapsack ratio = 60.10 +/- 1.07\n",
      "RANDOM (K=1000): fool rate = 92.54 +/- 0.83, comp ratio = 10.20 +/- 1.08, knapsack ratio = 43.72 +/- 0.77\n"
     ]
    }
   ],
   "source": [
    "eval_comp_ratio(\"/checkpoint/hberard/OnlineAttack/results_icml/test-mnist/madry_fgsm/\", \"natural\", return_latex=False, effective=True)"
   ]
  },
  {
   "cell_type": "code",
   "execution_count": 21,
   "metadata": {},
   "outputs": [
    {
     "name": "stdout",
     "output_type": "stream",
     "text": [
      "madry_mnist found and imported\n",
      "INFO:tensorflow:Restoring parameters from /checkpoint/hberard/OnlineAttack/pretained_models/mnist/madry/natural/checkpoint-24900\n",
      "madry_mnist found and imported\n",
      "INFO:tensorflow:Restoring parameters from /checkpoint/hberard/OnlineAttack/pretained_models/mnist/madry/natural/checkpoint-24900\n",
      "OFFLINE (K=10): fool rate = 100.00 +/- 0.00, comp ratio = 52.00 +/- 7.48, knapsack ratio = 98.92 +/- 2.45\n",
      "STOCHASTIC_VIRTUAL (K=10): fool rate = 100.00 +/- 0.00, comp ratio = 24.00 +/- 13.56, knapsack ratio = 87.75 +/- 3.77\n",
      "STOCHASTIC_OPTIMISTIC (K=10): fool rate = 100.00 +/- 0.00, comp ratio = 26.00 +/- 9.17, knapsack ratio = 87.06 +/- 3.12\n",
      "STOCHASTIC_MODIFIED_VIRTUAL (K=10): fool rate = 100.00 +/- 0.00, comp ratio = 38.00 +/- 11.66, knapsack ratio = 95.72 +/- 3.38\n",
      "STOCHASTIC_SINGLE_REF (K=10): fool rate = 100.00 +/- 0.00, comp ratio = 33.00 +/- 14.18, knapsack ratio = 91.95 +/- 7.81\n",
      "RANDOM (K=10): fool rate = 100.00 +/- 0.00, comp ratio = 0.00 +/- 0.00, knapsack ratio = 70.38 +/- 2.96\n",
      "madry_mnist found and imported\n",
      "INFO:tensorflow:Restoring parameters from /checkpoint/hberard/OnlineAttack/pretained_models/mnist/madry/natural/checkpoint-24900\n",
      "madry_mnist found and imported\n",
      "INFO:tensorflow:Restoring parameters from /checkpoint/hberard/OnlineAttack/pretained_models/mnist/madry/natural/checkpoint-24900\n",
      "OFFLINE (K=100): fool rate = 100.00 +/- 0.00, comp ratio = 55.90 +/- 2.70, knapsack ratio = 100.17 +/- 0.53\n",
      "STOCHASTIC_VIRTUAL (K=100): fool rate = 99.80 +/- 0.40, comp ratio = 26.70 +/- 3.44, knapsack ratio = 89.57 +/- 0.94\n",
      "STOCHASTIC_OPTIMISTIC (K=100): fool rate = 99.80 +/- 0.40, comp ratio = 24.70 +/- 3.32, knapsack ratio = 86.78 +/- 0.89\n",
      "STOCHASTIC_MODIFIED_VIRTUAL (K=100): fool rate = 100.00 +/- 0.00, comp ratio = 41.30 +/- 4.38, knapsack ratio = 97.41 +/- 1.19\n",
      "STOCHASTIC_SINGLE_REF (K=100): fool rate = 100.00 +/- 0.00, comp ratio = 47.10 +/- 5.41, knapsack ratio = 98.33 +/- 1.96\n",
      "RANDOM (K=100): fool rate = 99.70 +/- 0.46, comp ratio = 1.00 +/- 1.18, knapsack ratio = 74.95 +/- 1.01\n",
      "madry_mnist found and imported\n",
      "INFO:tensorflow:Restoring parameters from /checkpoint/hberard/OnlineAttack/pretained_models/mnist/madry/natural/checkpoint-24900\n",
      "madry_mnist found and imported\n",
      "INFO:tensorflow:Restoring parameters from /checkpoint/hberard/OnlineAttack/pretained_models/mnist/madry/natural/checkpoint-24900\n",
      "OFFLINE (K=1000): fool rate = 100.00 +/- 0.00, comp ratio = 66.08 +/- 1.26, knapsack ratio = 100.30 +/- 0.16\n",
      "STOCHASTIC_VIRTUAL (K=1000): fool rate = 99.80 +/- 0.11, comp ratio = 32.03 +/- 0.70, knapsack ratio = 91.40 +/- 0.26\n",
      "STOCHASTIC_OPTIMISTIC (K=1000): fool rate = 99.68 +/- 0.16, comp ratio = 32.49 +/- 1.18, knapsack ratio = 90.31 +/- 0.26\n",
      "STOCHASTIC_MODIFIED_VIRTUAL (K=1000): fool rate = 100.00 +/- 0.00, comp ratio = 48.39 +/- 0.63, knapsack ratio = 97.45 +/- 0.28\n",
      "STOCHASTIC_SINGLE_REF (K=1000): fool rate = 99.52 +/- 0.20, comp ratio = 26.61 +/- 1.63, knapsack ratio = 87.08 +/- 0.65\n",
      "RANDOM (K=1000): fool rate = 99.40 +/- 0.33, comp ratio = 10.24 +/- 0.66, knapsack ratio = 81.78 +/- 0.38\n"
     ]
    }
   ],
   "source": [
    "eval_comp_ratio(\"/checkpoint/hberard/OnlineAttack/results_icml/test-mnist/madry_pgd/\", \"natural\", return_latex=False, effective=True)"
   ]
  },
  {
   "cell_type": "code",
   "execution_count": 22,
   "metadata": {},
   "outputs": [
    {
     "name": "stdout",
     "output_type": "stream",
     "text": [
      "madry_mnist found and imported\n",
      "INFO:tensorflow:Restoring parameters from /checkpoint/hberard/OnlineAttack/pretained_models/mnist/madry/secret/checkpoint-99900\n",
      "madry_mnist found and imported\n",
      "INFO:tensorflow:Restoring parameters from /checkpoint/hberard/OnlineAttack/pretained_models/mnist/madry/adv_trained/checkpoint-99900\n",
      "OFFLINE (K=10): fool rate = 70.00 +/- 0.00, comp ratio = 20.00 +/- 0.00, knapsack ratio = 51.33 +/- 0.00\n",
      "STOCHASTIC_VIRTUAL (K=10): fool rate = 46.00 +/- 14.28, comp ratio = 17.00 +/- 9.00, knapsack ratio = 35.17 +/- 10.52\n",
      "STOCHASTIC_OPTIMISTIC (K=10): fool rate = 47.00 +/- 16.76, comp ratio = 18.00 +/- 7.48, knapsack ratio = 37.21 +/- 12.59\n",
      "STOCHASTIC_MODIFIED_VIRTUAL (K=10): fool rate = 70.00 +/- 18.97, comp ratio = 26.00 +/- 10.20, knapsack ratio = 54.31 +/- 14.50\n",
      "STOCHASTIC_SINGLE_REF (K=10): fool rate = 57.00 +/- 20.52, comp ratio = 18.00 +/- 6.00, knapsack ratio = 43.83 +/- 14.39\n",
      "RANDOM (K=10): fool rate = 2.00 +/- 4.00, comp ratio = 1.00 +/- 3.00, knapsack ratio = 1.31 +/- 2.82\n",
      "madry_mnist found and imported\n",
      "INFO:tensorflow:Restoring parameters from /checkpoint/hberard/OnlineAttack/pretained_models/mnist/madry/secret/checkpoint-99900\n",
      "madry_mnist found and imported\n",
      "INFO:tensorflow:Restoring parameters from /checkpoint/hberard/OnlineAttack/pretained_models/mnist/madry/adv_trained/checkpoint-99900\n",
      "OFFLINE (K=100): fool rate = 64.00 +/- 0.00, comp ratio = 51.00 +/- 0.00, knapsack ratio = 70.55 +/- 0.00\n",
      "STOCHASTIC_VIRTUAL (K=100): fool rate = 34.00 +/- 3.52, comp ratio = 24.60 +/- 2.94, knapsack ratio = 34.95 +/- 3.73\n",
      "STOCHASTIC_OPTIMISTIC (K=100): fool rate = 30.30 +/- 3.47, comp ratio = 23.50 +/- 3.26, knapsack ratio = 33.18 +/- 3.21\n",
      "STOCHASTIC_MODIFIED_VIRTUAL (K=100): fool rate = 52.90 +/- 4.25, comp ratio = 39.60 +/- 3.01, knapsack ratio = 55.37 +/- 4.07\n",
      "STOCHASTIC_SINGLE_REF (K=100): fool rate = 55.90 +/- 6.82, comp ratio = 43.00 +/- 5.04, knapsack ratio = 60.64 +/- 7.98\n",
      "RANDOM (K=100): fool rate = 1.20 +/- 1.17, comp ratio = 0.50 +/- 0.67, knapsack ratio = 1.30 +/- 1.12\n",
      "madry_mnist found and imported\n",
      "INFO:tensorflow:Restoring parameters from /checkpoint/hberard/OnlineAttack/pretained_models/mnist/madry/secret/checkpoint-99900\n",
      "madry_mnist found and imported\n",
      "INFO:tensorflow:Restoring parameters from /checkpoint/hberard/OnlineAttack/pretained_models/mnist/madry/adv_trained/checkpoint-99900\n",
      "OFFLINE (K=1000): fool rate = 14.50 +/- 0.00, comp ratio = 68.20 +/- 0.00, knapsack ratio = 93.63 +/- 0.00\n",
      "STOCHASTIC_VIRTUAL (K=1000): fool rate = 5.88 +/- 0.51, comp ratio = 33.77 +/- 0.88, knapsack ratio = 39.21 +/- 1.89\n",
      "STOCHASTIC_OPTIMISTIC (K=1000): fool rate = 8.09 +/- 0.46, comp ratio = 34.17 +/- 1.40, knapsack ratio = 52.30 +/- 2.29\n",
      "STOCHASTIC_MODIFIED_VIRTUAL (K=1000): fool rate = 9.04 +/- 0.54, comp ratio = 50.39 +/- 1.15, knapsack ratio = 60.04 +/- 2.51\n",
      "STOCHASTIC_SINGLE_REF (K=1000): fool rate = 8.21 +/- 0.59, comp ratio = 28.92 +/- 2.47, knapsack ratio = 51.29 +/- 3.27\n",
      "RANDOM (K=1000): fool rate = 1.39 +/- 0.51, comp ratio = 10.36 +/- 1.07, knapsack ratio = 9.77 +/- 2.64\n"
     ]
    }
   ],
   "source": [
    "eval_comp_ratio(\"/checkpoint/hberard/OnlineAttack/results_icml/test-mnist/madry_adv_no_attack/\", \"secret\", return_latex=False, effective=True)"
   ]
  },
  {
   "cell_type": "code",
   "execution_count": 24,
   "metadata": {},
   "outputs": [
    {
     "name": "stdout",
     "output_type": "stream",
     "text": [
      "madry_mnist found and imported\n",
      "INFO:tensorflow:Restoring parameters from /checkpoint/hberard/OnlineAttack/pretained_models/mnist/madry/secret/checkpoint-99900\n",
      "madry_mnist found and imported\n",
      "INFO:tensorflow:Restoring parameters from /checkpoint/hberard/OnlineAttack/pretained_models/mnist/madry/adv_trained/checkpoint-99900\n",
      "OFFLINE (K=10): fool rate = 80.00 +/- 0.00, comp ratio = 40.00 +/- 0.00, knapsack ratio = 62.62 +/- 0.00\n",
      "STOCHASTIC_VIRTUAL (K=10): fool rate = 49.00 +/- 8.31, comp ratio = 20.00 +/- 14.14, knapsack ratio = 36.39 +/- 8.76\n",
      "STOCHASTIC_OPTIMISTIC (K=10): fool rate = 52.00 +/- 17.20, comp ratio = 26.00 +/- 16.25, knapsack ratio = 40.88 +/- 16.99\n",
      "STOCHASTIC_MODIFIED_VIRTUAL (K=10): fool rate = 68.00 +/- 13.27, comp ratio = 27.00 +/- 10.05, knapsack ratio = 50.77 +/- 6.70\n",
      "STOCHASTIC_SINGLE_REF (K=10): fool rate = 53.00 +/- 21.00, comp ratio = 27.00 +/- 10.05, knapsack ratio = 41.64 +/- 14.13\n",
      "RANDOM (K=10): fool rate = 3.00 +/- 4.58, comp ratio = 0.00 +/- 0.00, knapsack ratio = 1.28 +/- 1.70\n",
      "madry_mnist found and imported\n",
      "INFO:tensorflow:Restoring parameters from /checkpoint/hberard/OnlineAttack/pretained_models/mnist/madry/secret/checkpoint-99900\n",
      "madry_mnist found and imported\n",
      "INFO:tensorflow:Restoring parameters from /checkpoint/hberard/OnlineAttack/pretained_models/mnist/madry/adv_trained/checkpoint-99900\n",
      "OFFLINE (K=100): fool rate = 53.00 +/- 0.00, comp ratio = 37.00 +/- 0.00, knapsack ratio = 54.51 +/- 0.00\n",
      "STOCHASTIC_VIRTUAL (K=100): fool rate = 28.20 +/- 4.33, comp ratio = 16.90 +/- 3.83, knapsack ratio = 27.67 +/- 3.59\n",
      "STOCHASTIC_OPTIMISTIC (K=100): fool rate = 24.80 +/- 2.68, comp ratio = 16.50 +/- 2.58, knapsack ratio = 26.59 +/- 2.30\n",
      "STOCHASTIC_MODIFIED_VIRTUAL (K=100): fool rate = 42.60 +/- 4.45, comp ratio = 26.50 +/- 2.94, knapsack ratio = 42.22 +/- 3.05\n",
      "STOCHASTIC_SINGLE_REF (K=100): fool rate = 43.90 +/- 5.15, comp ratio = 29.50 +/- 3.56, knapsack ratio = 45.05 +/- 5.00\n",
      "RANDOM (K=100): fool rate = 1.90 +/- 1.97, comp ratio = 0.70 +/- 0.90, knapsack ratio = 1.88 +/- 1.48\n",
      "madry_mnist found and imported\n",
      "INFO:tensorflow:Restoring parameters from /checkpoint/hberard/OnlineAttack/pretained_models/mnist/madry/secret/checkpoint-99900\n",
      "madry_mnist found and imported\n",
      "INFO:tensorflow:Restoring parameters from /checkpoint/hberard/OnlineAttack/pretained_models/mnist/madry/adv_trained/checkpoint-99900\n",
      "OFFLINE (K=1000): fool rate = 19.00 +/- 0.00, comp ratio = 65.00 +/- 0.00, knapsack ratio = 85.51 +/- 0.00\n",
      "STOCHASTIC_VIRTUAL (K=1000): fool rate = 8.24 +/- 0.62, comp ratio = 32.90 +/- 1.49, knapsack ratio = 38.06 +/- 2.29\n",
      "STOCHASTIC_OPTIMISTIC (K=1000): fool rate = 10.19 +/- 0.50, comp ratio = 33.49 +/- 1.42, knapsack ratio = 45.63 +/- 2.53\n",
      "STOCHASTIC_MODIFIED_VIRTUAL (K=1000): fool rate = 12.84 +/- 0.53, comp ratio = 49.21 +/- 1.37, knapsack ratio = 58.58 +/- 2.61\n",
      "STOCHASTIC_SINGLE_REF (K=1000): fool rate = 9.57 +/- 0.68, comp ratio = 27.60 +/- 2.13, knapsack ratio = 42.54 +/- 3.18\n",
      "RANDOM (K=1000): fool rate = 2.10 +/- 0.41, comp ratio = 10.04 +/- 0.87, knapsack ratio = 10.26 +/- 1.30\n"
     ]
    }
   ],
   "source": [
    "eval_comp_ratio(\"/checkpoint/hberard/OnlineAttack/results_icml/test-mnist/madry_adv_fgsm/\", \"secret\", return_latex=False, effective=True)"
   ]
  },
  {
   "cell_type": "code",
   "execution_count": 26,
   "metadata": {},
   "outputs": [
    {
     "name": "stdout",
     "output_type": "stream",
     "text": [
      "madry_mnist found and imported\n",
      "INFO:tensorflow:Restoring parameters from /checkpoint/hberard/OnlineAttack/pretained_models/mnist/madry/secret/checkpoint-99900\n",
      "madry_mnist found and imported\n",
      "INFO:tensorflow:Restoring parameters from /checkpoint/hberard/OnlineAttack/pretained_models/mnist/madry/adv_trained/checkpoint-99900\n",
      "OFFLINE (K=10): fool rate = 64.00 +/- 10.20, comp ratio = 34.00 +/- 9.17, knapsack ratio = 67.38 +/- 10.53\n",
      "STOCHASTIC_VIRTUAL (K=10): fool rate = 34.00 +/- 12.81, comp ratio = 17.00 +/- 10.05, knapsack ratio = 35.97 +/- 12.53\n",
      "STOCHASTIC_OPTIMISTIC (K=10): fool rate = 38.00 +/- 11.66, comp ratio = 22.00 +/- 15.36, knapsack ratio = 41.44 +/- 16.85\n",
      "STOCHASTIC_MODIFIED_VIRTUAL (K=10): fool rate = 52.00 +/- 14.70, comp ratio = 26.00 +/- 11.14, knapsack ratio = 51.15 +/- 10.12\n",
      "STOCHASTIC_SINGLE_REF (K=10): fool rate = 43.00 +/- 21.00, comp ratio = 25.00 +/- 15.00, knapsack ratio = 44.53 +/- 19.21\n",
      "RANDOM (K=10): fool rate = 3.00 +/- 4.58, comp ratio = 0.00 +/- 0.00, knapsack ratio = 2.51 +/- 3.28\n",
      "madry_mnist found and imported\n",
      "INFO:tensorflow:Restoring parameters from /checkpoint/hberard/OnlineAttack/pretained_models/mnist/madry/secret/checkpoint-99900\n",
      "madry_mnist found and imported\n",
      "INFO:tensorflow:Restoring parameters from /checkpoint/hberard/OnlineAttack/pretained_models/mnist/madry/adv_trained/checkpoint-99900\n",
      "OFFLINE (K=100): fool rate = 39.80 +/- 3.31, comp ratio = 27.00 +/- 1.48, knapsack ratio = 49.70 +/- 3.23\n",
      "STOCHASTIC_VIRTUAL (K=100): fool rate = 21.90 +/- 4.53, comp ratio = 14.00 +/- 3.44, knapsack ratio = 26.44 +/- 5.01\n",
      "STOCHASTIC_OPTIMISTIC (K=100): fool rate = 19.60 +/- 3.47, comp ratio = 14.30 +/- 3.72, knapsack ratio = 25.34 +/- 4.00\n",
      "STOCHASTIC_MODIFIED_VIRTUAL (K=100): fool rate = 34.00 +/- 3.44, comp ratio = 22.40 +/- 3.35, knapsack ratio = 41.23 +/- 3.91\n",
      "STOCHASTIC_SINGLE_REF (K=100): fool rate = 37.10 +/- 3.27, comp ratio = 24.80 +/- 1.66, knapsack ratio = 44.54 +/- 2.25\n",
      "RANDOM (K=100): fool rate = 1.80 +/- 1.40, comp ratio = 0.80 +/- 0.98, knapsack ratio = 1.98 +/- 1.37\n",
      "madry_mnist found and imported\n",
      "INFO:tensorflow:Restoring parameters from /checkpoint/hberard/OnlineAttack/pretained_models/mnist/madry/secret/checkpoint-99900\n",
      "madry_mnist found and imported\n",
      "INFO:tensorflow:Restoring parameters from /checkpoint/hberard/OnlineAttack/pretained_models/mnist/madry/adv_trained/checkpoint-99900\n",
      "OFFLINE (K=1000): fool rate = 16.09 +/- 0.74, comp ratio = 62.03 +/- 0.61, knapsack ratio = 84.03 +/- 2.39\n",
      "STOCHASTIC_VIRTUAL (K=1000): fool rate = 7.67 +/- 0.77, comp ratio = 32.85 +/- 1.68, knapsack ratio = 39.73 +/- 4.47\n",
      "STOCHASTIC_OPTIMISTIC (K=1000): fool rate = 8.67 +/- 0.43, comp ratio = 32.10 +/- 1.04, knapsack ratio = 44.47 +/- 2.70\n",
      "STOCHASTIC_MODIFIED_VIRTUAL (K=1000): fool rate = 11.10 +/- 0.84, comp ratio = 48.40 +/- 1.53, knapsack ratio = 59.24 +/- 3.36\n",
      "STOCHASTIC_SINGLE_REF (K=1000): fool rate = 7.32 +/- 0.48, comp ratio = 26.23 +/- 1.94, knapsack ratio = 38.72 +/- 3.13\n",
      "RANDOM (K=1000): fool rate = 1.90 +/- 0.44, comp ratio = 10.19 +/- 1.13, knapsack ratio = 10.60 +/- 1.64\n"
     ]
    }
   ],
   "source": [
    "eval_comp_ratio(\"/checkpoint/hberard/OnlineAttack/results_icml/test-mnist/madry_adv_pgd/\", \"secret\", return_latex=False, effective=True)"
   ]
  },
  {
   "cell_type": "code",
   "execution_count": 34,
   "metadata": {},
   "outputs": [
    {
     "name": "stdout",
     "output_type": "stream",
     "text": [
      "OFFLINE (K=10): fool rate = 80.00 +/- 0.00, comp ratio = 30.00 +/- 0.00, knapsack ratio = 64.65 +/- 0.00\n",
      "STOCHASTIC_VIRTUAL (K=10): fool rate = 49.00 +/- 14.46, comp ratio = 12.00 +/- 10.77, knapsack ratio = 30.44 +/- 11.50\n",
      "STOCHASTIC_OPTIMISTIC (K=10): fool rate = 45.00 +/- 14.32, comp ratio = 13.00 +/- 10.05, knapsack ratio = 31.25 +/- 13.31\n",
      "STOCHASTIC_MODIFIED_VIRTUAL (K=10): fool rate = 74.00 +/- 12.00, comp ratio = 16.00 +/- 11.14, knapsack ratio = 47.21 +/- 11.85\n",
      "STOCHASTIC_SINGLE_REF (K=10): fool rate = 75.00 +/- 14.32, comp ratio = 20.00 +/- 10.00, knapsack ratio = 51.44 +/- 9.62\n",
      "RANDOM (K=10): fool rate = 2.00 +/- 4.00, comp ratio = 1.00 +/- 3.00, knapsack ratio = 1.53 +/- 3.08\n",
      "OFFLINE (K=100): fool rate = 41.00 +/- 0.00, comp ratio = 61.00 +/- 0.00, knapsack ratio = 83.16 +/- 0.00\n",
      "STOCHASTIC_VIRTUAL (K=100): fool rate = 17.30 +/- 2.57, comp ratio = 27.20 +/- 3.40, knapsack ratio = 30.90 +/- 6.37\n",
      "STOCHASTIC_OPTIMISTIC (K=100): fool rate = 17.90 +/- 2.39, comp ratio = 26.90 +/- 3.45, knapsack ratio = 37.25 +/- 6.34\n",
      "STOCHASTIC_MODIFIED_VIRTUAL (K=100): fool rate = 27.60 +/- 2.33, comp ratio = 43.60 +/- 2.73, knapsack ratio = 49.89 +/- 5.22\n",
      "STOCHASTIC_SINGLE_REF (K=100): fool rate = 35.30 +/- 2.65, comp ratio = 53.80 +/- 3.82, knapsack ratio = 70.36 +/- 5.55\n",
      "RANDOM (K=100): fool rate = 0.60 +/- 0.49, comp ratio = 0.70 +/- 0.46, knapsack ratio = 1.50 +/- 1.33\n",
      "OFFLINE (K=1000): fool rate = 6.00 +/- 0.00, comp ratio = 31.61 +/- 0.64, knapsack ratio = 99.15 +/- 0.01\n",
      "STOCHASTIC_VIRTUAL (K=1000): fool rate = 3.66 +/- 0.22, comp ratio = 22.53 +/- 0.83, knapsack ratio = 58.11 +/- 4.85\n",
      "STOCHASTIC_OPTIMISTIC (K=1000): fool rate = 3.66 +/- 0.22, comp ratio = 22.53 +/- 0.83, knapsack ratio = 58.11 +/- 4.85\n",
      "STOCHASTIC_MODIFIED_VIRTUAL (K=1000): fool rate = 3.66 +/- 0.22, comp ratio = 22.53 +/- 0.83, knapsack ratio = 58.11 +/- 4.85\n",
      "STOCHASTIC_SINGLE_REF (K=1000): fool rate = 3.66 +/- 0.22, comp ratio = 22.53 +/- 0.83, knapsack ratio = 58.11 +/- 4.85\n",
      "RANDOM (K=1000): fool rate = 0.59 +/- 0.10, comp ratio = 10.00 +/- 1.33, knapsack ratio = 9.09 +/- 3.84\n"
     ]
    }
   ],
   "source": [
    "eval_comp_ratio(\"/checkpoint/hberard/OnlineAttack/results_icml/test-mnist/modelA_0_no_attack/\", \"1\", return_latex=False, effective=True)"
   ]
  },
  {
   "cell_type": "code",
   "execution_count": 33,
   "metadata": {},
   "outputs": [
    {
     "name": "stdout",
     "output_type": "stream",
     "text": [
      "OFFLINE (K=10): fool rate = 100.00 +/- 0.00, comp ratio = 39.00 +/- 10.44, knapsack ratio = 97.55 +/- 6.95\n",
      "STOCHASTIC_VIRTUAL (K=10): fool rate = 97.00 +/- 6.40, comp ratio = 16.00 +/- 6.63, knapsack ratio = 68.38 +/- 10.67\n",
      "STOCHASTIC_OPTIMISTIC (K=10): fool rate = 97.00 +/- 6.40, comp ratio = 16.00 +/- 12.00, knapsack ratio = 69.05 +/- 12.98\n",
      "STOCHASTIC_MODIFIED_VIRTUAL (K=10): fool rate = 98.00 +/- 4.00, comp ratio = 22.00 +/- 8.72, knapsack ratio = 79.21 +/- 13.74\n",
      "STOCHASTIC_SINGLE_REF (K=10): fool rate = 98.00 +/- 4.00, comp ratio = 24.00 +/- 11.14, knapsack ratio = 77.14 +/- 15.31\n",
      "RANDOM (K=10): fool rate = 94.00 +/- 6.63, comp ratio = 0.00 +/- 0.00, knapsack ratio = 35.31 +/- 6.45\n",
      "OFFLINE (K=100): fool rate = 99.90 +/- 0.30, comp ratio = 41.90 +/- 2.12, knapsack ratio = 88.69 +/- 1.34\n",
      "STOCHASTIC_VIRTUAL (K=100): fool rate = 98.70 +/- 1.27, comp ratio = 18.50 +/- 3.56, knapsack ratio = 66.18 +/- 2.88\n",
      "STOCHASTIC_OPTIMISTIC (K=100): fool rate = 98.40 +/- 1.02, comp ratio = 18.00 +/- 2.90, knapsack ratio = 62.68 +/- 2.08\n",
      "STOCHASTIC_MODIFIED_VIRTUAL (K=100): fool rate = 99.80 +/- 0.40, comp ratio = 29.60 +/- 3.61, knapsack ratio = 81.25 +/- 3.65\n",
      "STOCHASTIC_SINGLE_REF (K=100): fool rate = 99.40 +/- 0.66, comp ratio = 33.90 +/- 5.50, knapsack ratio = 78.44 +/- 6.15\n",
      "RANDOM (K=100): fool rate = 96.50 +/- 1.63, comp ratio = 0.70 +/- 0.78, knapsack ratio = 39.80 +/- 1.72\n",
      "OFFLINE (K=1000): fool rate = 99.86 +/- 0.05, comp ratio = 37.78 +/- 0.59, knapsack ratio = 89.71 +/- 0.99\n",
      "STOCHASTIC_VIRTUAL (K=1000): fool rate = 98.59 +/- 0.38, comp ratio = 21.89 +/- 1.28, knapsack ratio = 72.41 +/- 1.05\n",
      "STOCHASTIC_OPTIMISTIC (K=1000): fool rate = 98.08 +/- 0.46, comp ratio = 23.25 +/- 1.16, knapsack ratio = 72.29 +/- 1.07\n",
      "STOCHASTIC_MODIFIED_VIRTUAL (K=1000): fool rate = 99.73 +/- 0.14, comp ratio = 30.19 +/- 1.25, knapsack ratio = 83.07 +/- 0.53\n",
      "STOCHASTIC_SINGLE_REF (K=1000): fool rate = 97.40 +/- 0.38, comp ratio = 19.59 +/- 1.10, knapsack ratio = 66.62 +/- 1.03\n",
      "RANDOM (K=1000): fool rate = 97.10 +/- 0.41, comp ratio = 10.28 +/- 1.15, knapsack ratio = 57.21 +/- 0.74\n"
     ]
    }
   ],
   "source": [
    "eval_comp_ratio(\"/checkpoint/hberard/OnlineAttack/results_icml/test-mnist/modelA_0_pgd/\", \"1\", return_latex=False, effective=True)"
   ]
  },
  {
   "cell_type": "code",
   "execution_count": 69,
   "metadata": {},
   "outputs": [
    {
     "name": "stdout",
     "output_type": "stream",
     "text": [
      "OFFLINE (K=10): fool rate = 100.00 +/- 0.00, comp ratio = 70.00 +/- 0.00, knapsack ratio = 94.23 +/- 0.00\n",
      "STOCHASTIC_VIRTUAL (K=10): fool rate = 87.00 +/- 10.05, comp ratio = 21.00 +/- 11.36, knapsack ratio = 49.88 +/- 13.27\n",
      "STOCHASTIC_OPTIMISTIC (K=10): fool rate = 87.00 +/- 12.69, comp ratio = 29.00 +/- 19.21, knapsack ratio = 52.68 +/- 19.91\n",
      "STOCHASTIC_MODIFIED_VIRTUAL (K=10): fool rate = 92.00 +/- 10.77, comp ratio = 34.00 +/- 14.28, knapsack ratio = 64.01 +/- 17.22\n",
      "STOCHASTIC_SINGLE_REF (K=10): fool rate = 91.00 +/- 10.44, comp ratio = 36.00 +/- 19.08, knapsack ratio = 62.52 +/- 23.80\n",
      "RANDOM (K=10): fool rate = 62.00 +/- 11.66, comp ratio = 0.00 +/- 0.00, knapsack ratio = 13.37 +/- 5.52\n",
      "OFFLINE\tSTOCHASTIC_VIRTUAL\tSTOCHASTIC_OPTIMISTIC\tSTOCHASTIC_MODIFIED_VIRTUAL\tSTOCHASTIC_SINGLE_REF\tRANDOM\t\n",
      "0/10 \t8/10 \t7/10 \t4/10 \t5/10 \t10/10 \t\n",
      "0/10 \t0/10 \t1/10 \t0/10 \t1/10 \t9/10 \t\n",
      "0/10 \t1/10 \t0/10 \t0/10 \t1/10 \t9/10 \t\n",
      "0/10 \t5/10 \t4/10 \t0/10 \t2/10 \t10/10 \t\n",
      "0/10 \t3/10 \t2/10 \t1/10 \t0/10 \t10/10 \t\n",
      "0/10 \t0/10 \t1/10 \t0/10 \t0/10 \t0/10 \t\n",
      "\n",
      "OFFLINE (K=100): fool rate = 100.00 +/- 0.00, comp ratio = 37.00 +/- 0.00, knapsack ratio = 80.82 +/- 0.01\n",
      "STOCHASTIC_VIRTUAL (K=100): fool rate = 90.60 +/- 2.58, comp ratio = 15.90 +/- 3.88, knapsack ratio = 52.49 +/- 3.95\n",
      "STOCHASTIC_OPTIMISTIC (K=100): fool rate = 87.30 +/- 3.55, comp ratio = 18.30 +/- 2.79, knapsack ratio = 49.35 +/- 2.35\n",
      "STOCHASTIC_MODIFIED_VIRTUAL (K=100): fool rate = 97.70 +/- 1.90, comp ratio = 26.00 +/- 3.26, knapsack ratio = 69.58 +/- 4.57\n",
      "STOCHASTIC_SINGLE_REF (K=100): fool rate = 96.90 +/- 3.56, comp ratio = 28.90 +/- 2.21, knapsack ratio = 70.04 +/- 6.90\n",
      "RANDOM (K=100): fool rate = 71.80 +/- 3.31, comp ratio = 0.70 +/- 0.46, knapsack ratio = 21.75 +/- 1.80\n",
      "OFFLINE\tSTOCHASTIC_VIRTUAL\tSTOCHASTIC_OPTIMISTIC\tSTOCHASTIC_MODIFIED_VIRTUAL\tSTOCHASTIC_SINGLE_REF\tRANDOM\t\n",
      "0/10 \t10/10 \t10/10 \t9/10 \t5/10 \t10/10 \t\n",
      "0/10 \t0/10 \t9/10 \t0/10 \t0/10 \t10/10 \t\n",
      "0/10 \t0/10 \t0/10 \t0/10 \t0/10 \t10/10 \t\n",
      "0/10 \t10/10 \t10/10 \t0/10 \t4/10 \t10/10 \t\n",
      "0/10 \t7/10 \t9/10 \t5/10 \t0/10 \t10/10 \t\n",
      "0/10 \t0/10 \t0/10 \t0/10 \t0/10 \t0/10 \t\n",
      "\n",
      "OFFLINE (K=1000): fool rate = 99.60 +/- 0.00, comp ratio = 51.90 +/- 0.00, knapsack ratio = 81.27 +/- 0.02\n",
      "STOCHASTIC_VIRTUAL (K=1000): fool rate = 88.88 +/- 0.96, comp ratio = 28.03 +/- 1.58, knapsack ratio = 56.33 +/- 1.46\n",
      "STOCHASTIC_OPTIMISTIC (K=1000): fool rate = 85.50 +/- 0.87, comp ratio = 28.09 +/- 0.93, knapsack ratio = 54.29 +/- 0.95\n",
      "STOCHASTIC_MODIFIED_VIRTUAL (K=1000): fool rate = 98.89 +/- 0.45, comp ratio = 41.46 +/- 0.74, knapsack ratio = 73.07 +/- 0.87\n",
      "STOCHASTIC_SINGLE_REF (K=1000): fool rate = 78.71 +/- 1.10, comp ratio = 22.37 +/- 1.85, knapsack ratio = 45.39 +/- 1.77\n",
      "RANDOM (K=1000): fool rate = 73.35 +/- 1.25, comp ratio = 10.54 +/- 1.52, knapsack ratio = 31.90 +/- 0.82\n",
      "OFFLINE\tSTOCHASTIC_VIRTUAL\tSTOCHASTIC_OPTIMISTIC\tSTOCHASTIC_MODIFIED_VIRTUAL\tSTOCHASTIC_SINGLE_REF\tRANDOM\t\n",
      "0/10 \t10/10 \t10/10 \t10/10 \t10/10 \t10/10 \t\n",
      "0/10 \t0/10 \t10/10 \t0/10 \t10/10 \t10/10 \t\n",
      "0/10 \t0/10 \t0/10 \t0/10 \t10/10 \t10/10 \t\n",
      "0/10 \t10/10 \t10/10 \t0/10 \t10/10 \t10/10 \t\n",
      "0/10 \t0/10 \t0/10 \t0/10 \t0/10 \t10/10 \t\n",
      "0/10 \t0/10 \t0/10 \t0/10 \t0/10 \t0/10 \t\n",
      "\n"
     ]
    }
   ],
   "source": [
    "eval_comp_ratio(\"/checkpoint/hberard/OnlineAttack/results_icml/test-mnist/modelA_0_fgsm/\", \"1\", return_latex=False, effective=True)"
   ]
  },
  {
   "cell_type": "code",
   "execution_count": null,
   "metadata": {},
   "outputs": [],
   "source": []
  }
 ],
 "metadata": {
  "kernelspec": {
   "display_name": "Python 3",
   "language": "python",
   "name": "python3"
  },
  "language_info": {
   "codemirror_mode": {
    "name": "ipython",
    "version": 3
   },
   "file_extension": ".py",
   "mimetype": "text/x-python",
   "name": "python",
   "nbconvert_exporter": "python",
   "pygments_lexer": "ipython3",
   "version": "3.7.4"
  }
 },
 "nbformat": 4,
 "nbformat_minor": 4
}
