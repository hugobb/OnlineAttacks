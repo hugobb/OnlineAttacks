{
 "cells": [
  {
   "cell_type": "markdown",
   "metadata": {},
   "source": [
    "# ICML Results"
   ]
  },
  {
   "cell_type": "code",
   "execution_count": 73,
   "metadata": {},
   "outputs": [],
   "source": [
    "from online_attacks.utils.logger import Logger\n",
    "from online_attacks.online_algorithms import AlgorithmType, StochasticSingleRef\n",
    "from online_attacks.classifiers import DatasetType, MnistModel, CifarModel, load_classifier, load_dataset\n",
    "from online_attacks.attacks import Attacker, AttackerParams, create_attacker, compute_attack_success_rate\n",
    "from online_attacks.scripts.online_attack_params import OnlineAttackParams as Params\n",
    "from online_attacks import datastream\n",
    "from typing import Iterable, Any\n",
    "from collections import defaultdict\n",
    "import numpy as np\n",
    "from scipy.stats import wilcoxon\n",
    "from omegaconf import OmegaConf, MISSING\n",
    "from dataclasses import dataclass\n",
    "import torch\n",
    "from torch.nn import CrossEntropyLoss\n",
    "import os\n",
    "import seaborn\n",
    "import matplotlib.pyplot as plt\n",
    "import pandas as pd\n",
    "import matplotlib.patches as mpatches\n",
    "import matplotlib.markers as mmarkers\n",
    "\n",
    "\n",
    "fontsize = 12\n",
    "tex_fonts = {\n",
    "    # Use LaTeX to write all text\n",
    "    \"text.usetex\": True,\n",
    "    \"mathtext.fontset\": 'stix',\n",
    "    \"font.family\": 'STIXGeneral',\n",
    "    # Use 10pt font in plots, to match 10pt font in document\n",
    "    \"axes.labelsize\": fontsize,\n",
    "    \"font.size\": fontsize,\n",
    "    # Make the legend/label fonts a little smaller\n",
    "    \"legend.fontsize\": fontsize,\n",
    "    \"xtick.labelsize\": fontsize,\n",
    "    \"ytick.labelsize\": fontsize\n",
    "}\n",
    "\n",
    "plt.rcParams.update(tex_fonts)\n",
    "seaborn.set_style(\"whitegrid\")\n",
    "np.set_printoptions(precision=2)\n",
    "\n",
    "\n",
    "def set_size(width, fraction=1, subplots=(1, 1)):\n",
    "    \"\"\"Set figure dimensions to avoid scaling in LaTeX.\n",
    "\n",
    "    Parameters\n",
    "    ----------\n",
    "    width: float or string\n",
    "            Document width in points, or string of predined document type\n",
    "    fraction: float, optional\n",
    "            Fraction of the width which you wish the figure to occupy\n",
    "    subplots: array-like, optional\n",
    "            The number of rows and columns of subplots.\n",
    "    Returns\n",
    "    -------\n",
    "    fig_dim: tuple\n",
    "            Dimensions of figure in inches\n",
    "    \"\"\"\n",
    "    if width == 'thesis':\n",
    "        width_pt = 426.79135\n",
    "    elif width == 'beamer':\n",
    "        width_pt = 307.28987\n",
    "    else:\n",
    "        width_pt = width\n",
    "\n",
    "    # Width of figure (in pts)\n",
    "    fig_width_pt = width_pt * fraction\n",
    "    # Convert from pt to inches\n",
    "    inches_per_pt = 1 / 72.27\n",
    "\n",
    "    # Golden ratio to set aesthetic figure height\n",
    "    # https://disq.us/p/2940ij3\n",
    "    golden_ratio = (5**.5 - 1) / 2\n",
    "\n",
    "    # Figure width in inches\n",
    "    fig_width_in = fig_width_pt * inches_per_pt\n",
    "    # Figure height in inches\n",
    "    fig_height_in = fig_width_in * golden_ratio * (subplots[0] / subplots[1])\n",
    "\n",
    "    return (fig_width_in, fig_height_in)\n",
    "\n",
    "\n",
    "class Dataframe:\n",
    "    METRICS = [\"fool_rate\", \"num_indices\", \"knapsack_ratio\", \"comp_ratio\"]\n",
    "    ALGORITHM = list(AlgorithmType)\n",
    "    def __init__(self, list_algorithms=None, list_metrics=None, max_runs=None):\n",
    "        if list_metrics is None:\n",
    "            list_metrics = self.METRICS\n",
    "            \n",
    "        if list_algorithms is None:\n",
    "            list_algorithms = self.ALGORITHM\n",
    "            \n",
    "        self.data = {}\n",
    "        self.statistics = {}\n",
    "        self.algorithms = list_algorithms\n",
    "        for algorithm in list_algorithms:\n",
    "            for metric in list_metrics:\n",
    "                self.data[\"%s.%s\"%(algorithm.name, metric)] = []\n",
    "                self.statistics[\"%s.%s\"%(algorithm.name, metric)] = {}\n",
    "        \n",
    "        self.num_runs = 0\n",
    "        self.max_runs = max_runs\n",
    "           \n",
    "    def __getitem__(self, key):\n",
    "        return self.data[key]\n",
    "                \n",
    "    def aggregate_runs(self, path, params):\n",
    "        list_runs = Logger.list_all_eval(path)\n",
    "        list_dataframes = []\n",
    "        for run in list_runs:\n",
    "            if self.max_runs is not None and self.num_runs >= self.max_runs:\n",
    "                    break\n",
    "            try:\n",
    "                results = Logger.load_eval_results(run)\n",
    "                #print(\"SUCCESS:\", run)\n",
    "                self.num_runs += 1\n",
    "            except:\n",
    "                #print(\"FAILURE:\", run)\n",
    "                continue\n",
    "                \n",
    "            #print(params)\n",
    "            list_df = []\n",
    "            for algorithm, _results in results[\"metrics\"].items():\n",
    "                dataframe = pd.DataFrame()\n",
    "                for metric, value in _results.items():\n",
    "                    field = \"%s.%s\"%(algorithm, metric)\n",
    "                    if field in self.data:\n",
    "                        array = np.array(value)#/params.online_params.K*100\n",
    "                        if metric == \"fool_rate\":\n",
    "                            array = np.array(value)/params.online_params.K   \n",
    "                        self.data[field] += list(array)\n",
    "                        dataframe[metric] = array   \n",
    "                dataframe[\"algorithm\"] = algorithm\n",
    "                dataframe[\"K\"] = params.online_params.K\n",
    "                dataframe[\"attacker\"] = params.attacker_type\n",
    "                dataframe[\"dataset\"] = params.dataset\n",
    "                list_df.append(dataframe)\n",
    "            dataframe = pd.concat(list_df)\n",
    "            dataframe[\"random_fool_rate\"] = dataframe[dataframe[\"algorithm\"] == AlgorithmType.RANDOM.name][\"fool_rate\"]\n",
    "            list_dataframes.append(dataframe)\n",
    "        return list_dataframes\n",
    "                        \n",
    "                        \n",
    "    def aggregate_logger(self, logger, filters=None, params=None):\n",
    "        list_paths = logger.list_all_eval_models()\n",
    "        list_dataframes = []\n",
    "        for path in list_paths: \n",
    "            if filters is None:\n",
    "                list_dataframes += self.aggregate_runs(path, params)\n",
    "                continue\n",
    "            for name in filters:\n",
    "                if name in path:\n",
    "                    list_dataframes += self.aggregate_runs(path, params)\n",
    "                    break\n",
    "        return list_dataframes\n",
    "        \n",
    "    def aggregate_all(self, path, filters = {}, model_eval=None):\n",
    "        list_exp_id = Logger.list_all_logger(path)\n",
    "        list_dataframes = []\n",
    "        #print(list_exp_id)\n",
    "        for exp_id in list_exp_id:\n",
    "            logger = Logger(path, exp_id)\n",
    "            try:\n",
    "                params = logger.load_hparams()\n",
    "            except FileNotFoundError:\n",
    "                print(\"Can't load hparams with id=%s\" % exp_id)\n",
    "            params = OmegaConf.merge(Params, params)\n",
    "            print(params.online_params.K, params.dataset, params.attacker_type)\n",
    "            aggregate_flag = True\n",
    "            for key, value in filters.items():\n",
    "\n",
    "                if OmegaConf.select(params, key) != value:\n",
    "                    aggregate_flag = False\n",
    "                    break\n",
    "            \n",
    "            if aggregate_flag:\n",
    "                #print(params)\n",
    "                list_dataframes += self.aggregate_logger(logger, model_eval, params)\n",
    "        self.dataframe = pd.concat(list_dataframes)\n",
    "                         \n",
    "    def compute_statistics(self, size=None):\n",
    "        keys = list(self.data.keys())\n",
    "        for key in keys:\n",
    "            array = self.data[key]\n",
    "            num_elements = len(array)\n",
    "            if size is not None:\n",
    "                np.random.shuffle(array)\n",
    "                list_arrays = np.array_split(array, size)\n",
    "                for i, x in enumerate(list_arrays):\n",
    "                    list_arrays[i] = np.mean(x)\n",
    "                array = list_arrays\n",
    "            self.statistics[key][\"mean\"] = np.mean(array)\n",
    "            self.statistics[key][\"std\"] = np.std(array)\n",
    "            self.statistics[key][\"ste\"] = self.statistics[key][\"std\"]/np.sqrt(len(array))\n",
    "        return self.statistics\n",
    "    \n",
    "    def average_improvment(self, metric=\"fool_rate\"):\n",
    "        results = 0\n",
    "        num = 0\n",
    "        for algorithm in self.algorithms:\n",
    "            if algorithm != AlgorithmType.RANDOM.name:\n",
    "                diff = np.array(self.data[\"%s.%s\"%(algorithm.name, metric)]) - np.array(self.data[\"%s.%s\"%(AlgorithmType.RANDOM.name, metric)])\n",
    "                results += diff.sum()\n",
    "                num += len(diff)\n",
    "        print(results/num)\n",
    "            \n",
    "    \n",
    "    def compute_wilcoxon(self, metric):\n",
    "        w = np.zeros((len(self.algorithms), len(self.algorithms)))\n",
    "        p = np.zeros((len(self.algorithms), len(self.algorithms)))     \n",
    "        for i, name_1 in enumerate(self.algorithms):\n",
    "            array_1 = self.data[\"%s.%s\"%(name_1.name, metric)]\n",
    "            for j, name_2 in enumerate(self.algorithms):\n",
    "                if i == j:\n",
    "                    continue\n",
    "                array_2 = self.data[\"%s.%s\"%(name_2.name, metric)]\n",
    "                w[i, j], p[i,j] = wilcoxon(array_1, array_2, alternative='greater')\n",
    "        return w, p\n",
    "    \n",
    "    def compute_table(self, metric):\n",
    "        table = np.zeros((len(self.algorithms), len(self.algorithms)), dtype=object)\n",
    "        for i, name_1 in enumerate(self.algorithms):\n",
    "            array_1 = self.data[\"%s.%s\"%(name_1.name, metric)]\n",
    "            for j, name_2 in enumerate(self.algorithms):\n",
    "                array_2 = self.data[\"%s.%s\"%(name_2.name, metric)]\n",
    "                num = np.greater(array_1, array_2).sum()\n",
    "                table[i, j] = \"%.1f %% (%i / %i)\"%(num/len(array_1)*100, num, len(array_1))\n",
    "        return table            \n",
    "    \n",
    "    def get_statistics(self, algorithm=None, metric=None):\n",
    "        statistics = self.statistics.copy()\n",
    "        if algorithm is not None:\n",
    "            keys = list(statistics.keys())\n",
    "            for key in keys:\n",
    "                if algorithm.name not in key:\n",
    "                    statistics.pop(key)\n",
    "        if metric is not None:\n",
    "            keys = list(statistics.keys())\n",
    "            for key in keys:\n",
    "                if metric not in key:\n",
    "                    statistics.pop(key)\n",
    "            \n",
    "        return statistics\n",
    "    \n",
    "    def plot(self, ax, s=None, alpha=0.5):\n",
    "        df = self.dataframe[self.dataframe[\"algorithm\"]!=AlgorithmType.RANDOM.name]\n",
    "        df = df[df[\"algorithm\"]!=AlgorithmType.OFFLINE.name]\n",
    "        df = df.rename(columns={\"algorithm\": \"Algorithm\", \"attacker\": \"Attacker\",\n",
    "                           \"random_fool_rate\": \"Naive Fool Rate\", \"fool_rate\": \"Fool Rate\"})\n",
    "        rename = {AlgorithmType.STOCHASTIC_SINGLE_REF.name: r\"\\textsc{Single-Ref}\",\n",
    "                  AlgorithmType.STOCHASTIC_MODIFIED_VIRTUAL.name: r\"\\textsc{Virtual+}\",\n",
    "                  AlgorithmType.STOCHASTIC_OPTIMISTIC.name: r\"\\textsc{Optimistic}\",\n",
    "                  AlgorithmType.STOCHASTIC_VIRTUAL.name: r\"\\textsc{Virtual}\",\n",
    "                 Attacker.PGD_ATTACK: \"PGD\",\n",
    "                 Attacker.FGSM_ATTACK: \"FGSM\"}\n",
    "        df = df.replace(rename)\n",
    "        g = seaborn.scatterplot(data=df, x=\"Naive Fool Rate\", y=\"Fool Rate\", hue=\"Algorithm\", style=\"Attacker\", ax=ax, s=s, alpha=alpha)\n",
    "        g.set(ylabel=None)\n",
    "        x = np.linspace(0, 100, 2)\n",
    "        seaborn.lineplot(x, x, color=\"black\", linestyle='--', ax=ax)\n",
    "    \n",
    "    @staticmethod\n",
    "    def merge(dataframe):\n",
    "        new_df = Dataframe(dataframe[0].algorithms)\n",
    "        list_dataframes = []\n",
    "        for df in dataframe:\n",
    "            for key in new_df.data:\n",
    "                new_df.data[key] += df[key] \n",
    "            list_dataframes.append(df.dataframe)\n",
    "            new_df.num_runs += df.num_runs\n",
    "        new_df.dataframe = pd.concat(list_dataframes)\n",
    "        return new_df"
   ]
  },
  {
   "cell_type": "markdown",
   "metadata": {},
   "source": [
    "# Scatter Plot"
   ]
  },
  {
   "cell_type": "code",
   "execution_count": 3,
   "metadata": {},
   "outputs": [
    {
     "name": "stdout",
     "output_type": "stream",
     "text": [
      "0.3\n",
      "0.3\n",
      "0.3\n",
      "0.3\n",
      "num_indices         120\n",
      "fool_rate           120\n",
      "knapsack_ratio      120\n",
      "comp_ratio          120\n",
      "algorithm           120\n",
      "K                   120\n",
      "attacker            120\n",
      "dataset             120\n",
      "random_fool_rate    120\n",
      "dtype: int64\n",
      "7.477500000000001\n",
      "None\n"
     ]
    },
    {
     "name": "stderr",
     "output_type": "stream",
     "text": [
      "/private/home/hberard/.conda/envs/dev/lib/python3.7/site-packages/seaborn/_decorators.py:43: FutureWarning: Pass the following variables as keyword args: x, y. From version 0.12, the only valid positional argument will be `data`, and passing other arguments without an explicit keyword will result in an error or misinterpretation.\n",
      "  FutureWarning\n"
     ]
    },
    {
     "data": {
      "image/png": "[encoded data removed]",
      "text/plain": [
       "<Figure size 697.385x215.504 with 2 Axes>"
      ]
     },
     "metadata": {},
     "output_type": "display_data"
    }
   ],
   "source": [
    "dataframe = []\n",
    "n = 10\n",
    "s = 70\n",
    "alpha=0.5\n",
    "\n",
    "path = \"/checkpoint/hberard/OnlineAttack/results_icml/madry-icml/\"\n",
    "df = Dataframe(AlgorithmType, max_runs=n)\n",
    "df.aggregate_all(path, filters={\"dataset\": DatasetType.MNIST, \"online_params.K\": 100, \"attacker_type\": Attacker.PGD_ATTACK})\n",
    "#dataframe.append(df)\n",
    "\n",
    "path = \"/checkpoint/hberard/OnlineAttack/results_icml/madry-icml/\"\n",
    "df = Dataframe(AlgorithmType, max_runs=n)\n",
    "df.aggregate_all(path, filters={\"dataset\": DatasetType.MNIST, \"online_params.K\": 1000, \"attacker_type\": Attacker.PGD_ATTACK})\n",
    "dataframe.append(df)\n",
    "\n",
    "path = \"/checkpoint/hberard/OnlineAttack/results_icml/madry-icml/\"\n",
    "df = Dataframe(AlgorithmType, max_runs=n)\n",
    "df.aggregate_all(path, filters={\"dataset\": DatasetType.MNIST, \"online_params.K\": 100, \"attacker_type\": Attacker.FGSM_ATTACK})\n",
    "#dataframe.append(df)\n",
    "\n",
    "path = \"/checkpoint/hberard/OnlineAttack/results_icml/madry-icml/\"\n",
    "df = Dataframe(AlgorithmType, max_runs=n)\n",
    "df.aggregate_all(path, filters={\"dataset\": DatasetType.MNIST, \"online_params.K\": 1000, \"attacker_type\": Attacker.FGSM_ATTACK})\n",
    "dataframe.append(df)\n",
    "\n",
    "dataframe = Dataframe.merge(dataframe)\n",
    "print(dataframe.dataframe.count())\n",
    "print(dataframe.average_improvment())\n",
    "\n",
    "\n",
    "fig, (ax1, ax2) = plt.subplots(1, 2, figsize=set_size(700, subplots=(1,2)))\n",
    "fig.tight_layout()\n",
    "dataframe.plot(ax1, s=s, alpha=alpha)\n",
    "ax1.set_xlabel(r\"\\textsc{Naive} Baseline Fool Rate\")\n",
    "ax1.set_ylabel(r\"\\textsc{Online} Fool Rate\")\n",
    "ax1.set_xlim(0, 4)\n",
    "ax1.set_ylim(0, 15)\n",
    "ax1.set_title(\"MNIST\")\n",
    "angle = 45\n",
    "pos = np.array((1.5, 2.))\n",
    "trans_angle = ax1.transData.transform_angles(np.array((angle,)), pos.reshape((1, 2)))[0]\n",
    "ax1.text(pos[0], pos[1], r'\\textsc{Naive} Baseline', fontsize=fontsize, rotation=trans_angle, rotation_mode='anchor')\n",
    "#ax1.legend(labelcolor='markerfacecolor')\n",
    "ax1.get_legend().remove()\n"
   ]
  },
  {
   "cell_type": "code",
   "execution_count": 4,
   "metadata": {},
   "outputs": [
    {
     "name": "stdout",
     "output_type": "stream",
     "text": [
      "0.03125\n",
      "0.03125\n",
      "0.03125\n",
      "0.03125\n",
      "0.03125\n",
      "0.03125\n",
      "<bound method DataFrame.count of     num_indices  fool_rate  knapsack_ratio  comp_ratio  \\\n",
      "0         100.0       97.2        0.084389      0.0642   \n",
      "0         100.0       68.0        0.049455      0.0325   \n",
      "0         100.0       60.9        0.048064      0.0329   \n",
      "0         100.0       92.5        0.070384      0.0481   \n",
      "0         100.0       45.2        0.038308      0.0260   \n",
      "..          ...        ...             ...         ...   \n",
      "0         100.0       74.8        0.051764      0.0308   \n",
      "0         100.0       66.7        0.048409      0.0290   \n",
      "0         100.0       95.6        0.071059      0.0460   \n",
      "0         100.0       55.5        0.043775      0.0285   \n",
      "0         100.0       37.0        0.021822      0.0108   \n",
      "\n",
      "                      algorithm     K              attacker  \\\n",
      "0                       OFFLINE  1000  Attacker.FGSM_ATTACK   \n",
      "0            STOCHASTIC_VIRTUAL  1000  Attacker.FGSM_ATTACK   \n",
      "0         STOCHASTIC_OPTIMISTIC  1000  Attacker.FGSM_ATTACK   \n",
      "0   STOCHASTIC_MODIFIED_VIRTUAL  1000  Attacker.FGSM_ATTACK   \n",
      "0         STOCHASTIC_SINGLE_REF  1000  Attacker.FGSM_ATTACK   \n",
      "..                          ...   ...                   ...   \n",
      "0            STOCHASTIC_VIRTUAL  1000   Attacker.PGD_ATTACK   \n",
      "0         STOCHASTIC_OPTIMISTIC  1000   Attacker.PGD_ATTACK   \n",
      "0   STOCHASTIC_MODIFIED_VIRTUAL  1000   Attacker.PGD_ATTACK   \n",
      "0         STOCHASTIC_SINGLE_REF  1000   Attacker.PGD_ATTACK   \n",
      "0                        RANDOM  1000   Attacker.PGD_ATTACK   \n",
      "\n",
      "              dataset  random_fool_rate  \n",
      "0   DatasetType.CIFAR              34.5  \n",
      "0   DatasetType.CIFAR              34.5  \n",
      "0   DatasetType.CIFAR              34.5  \n",
      "0   DatasetType.CIFAR              34.5  \n",
      "0   DatasetType.CIFAR              34.5  \n",
      "..                ...               ...  \n",
      "0   DatasetType.CIFAR              37.0  \n",
      "0   DatasetType.CIFAR              37.0  \n",
      "0   DatasetType.CIFAR              37.0  \n",
      "0   DatasetType.CIFAR              37.0  \n",
      "0   DatasetType.CIFAR              37.0  \n",
      "\n",
      "[120 rows x 9 columns]>\n",
      "33.02166666666667\n",
      "None\n"
     ]
    },
    {
     "name": "stderr",
     "output_type": "stream",
     "text": [
      "/private/home/hberard/.conda/envs/dev/lib/python3.7/site-packages/seaborn/_decorators.py:43: FutureWarning: Pass the following variables as keyword args: x, y. From version 0.12, the only valid positional argument will be `data`, and passing other arguments without an explicit keyword will result in an error or misinterpretation.\n",
      "  FutureWarning\n"
     ]
    },
    {
     "data": {
      "text/plain": [
       "<matplotlib.legend.Legend at 0x7fb0f84e52d0>"
      ]
     },
     "execution_count": 4,
     "metadata": {},
     "output_type": "execute_result"
    },
    {
     "data": {
      "image/png": "[encoded data removed]",
      "text/plain": [
       "<Figure size 432x288 with 1 Axes>"
      ]
     },
     "metadata": {},
     "output_type": "display_data"
    }
   ],
   "source": [
    "dataframe = []\n",
    "\n",
    "path = \"/checkpoint/hberard/OnlineAttack/results_icml/madry-icml/cifar/fgsm\"\n",
    "df = Dataframe(AlgorithmType, max_runs=n)\n",
    "df.aggregate_all(path, filters={\"dataset\": DatasetType.CIFAR, \"online_params.K\": 10})\n",
    "#dataframe.append(df)\n",
    "\n",
    "path = \"/checkpoint/hberard/OnlineAttack/results_icml/madry-icml/cifar/fgsm\"\n",
    "df = Dataframe(AlgorithmType, max_runs=n)\n",
    "df.aggregate_all(path, filters={\"dataset\": DatasetType.CIFAR, \"online_params.K\": 100})\n",
    "#dataframe.append(df)\n",
    "\n",
    "path = \"/checkpoint/hberard/OnlineAttack/results_icml/madry-icml/cifar/fgsm\"\n",
    "df = Dataframe(AlgorithmType, max_runs=n)\n",
    "df.aggregate_all(path, filters={\"dataset\": DatasetType.CIFAR, \"online_params.K\": 1000})\n",
    "dataframe.append(df)\n",
    "\n",
    "path = \"/checkpoint/hberard/OnlineAttack/results_icml/madry-icml/cifar/pgd\"\n",
    "df = Dataframe(AlgorithmType, max_runs=n)\n",
    "df.aggregate_all(path, filters={\"dataset\": DatasetType.CIFAR, \"online_params.K\": 10})\n",
    "#dataframe.append(df)\n",
    "\n",
    "path = \"/checkpoint/hberard/OnlineAttack/results_icml/madry-icml/cifar/pgd\"\n",
    "df = Dataframe(AlgorithmType, max_runs=n)\n",
    "df.aggregate_all(path, filters={\"dataset\": DatasetType.CIFAR, \"online_params.K\": 100})\n",
    "#dataframe.append(df)\n",
    "\n",
    "path = \"/checkpoint/hberard/OnlineAttack/results_icml/madry-icml/cifar/pgd\"\n",
    "df = Dataframe(AlgorithmType, max_runs=n)\n",
    "df.aggregate_all(path, filters={\"dataset\": DatasetType.CIFAR, \"online_params.K\": 1000})\n",
    "dataframe.append(df)\n",
    "\n",
    "dataframe = Dataframe.merge(dataframe)\n",
    "print(dataframe.dataframe.count)\n",
    "print(dataframe.average_improvment())\n",
    "\n",
    "dataframe.plot(ax2, s=s, alpha=alpha)\n",
    "ax2.set_xlabel(r\"\\textsc{Naive} Baseline Fool Rate\")\n",
    "#ax2.get_yaxis().set_visible(False)\n",
    "ax2.set_xlim(25, 45)\n",
    "ax2.set_ylim(25)\n",
    "ax2.set_title(\"CIFAR-10\")\n",
    "angle = 45\n",
    "pos = np.array((32, 34))\n",
    "trans_angle = ax2.transData.transform_angles(np.array((angle,)), pos.reshape((1, 2)))[0]\n",
    "ax2.text(pos[0], pos[1], r'\\textsc{Naive} Baseline', fontsize=fontsize, rotation=trans_angle, rotation_mode='anchor')\n",
    "ax2.get_legend().remove()\n",
    "\n",
    "palette = seaborn.color_palette()\n",
    "blue_patch = mpatches.Patch(color=palette[0], alpha=alpha, label=r'\\textsc{Virtual}')\n",
    "orange_patch = mpatches.Patch(color=palette[1], alpha=alpha, label=r'\\textsc{Optimistic}')\n",
    "green_patch = mpatches.Patch(color=palette[2], alpha=alpha, label=r'\\textsc{Virtual+}')\n",
    "red_patch = mpatches.Patch(color=palette[3], alpha=alpha, label=r'\\textsc{Single-Ref}')\n",
    "o_patch = plt.scatter([],[], marker=\"o\", s=s, label=\"PGD Attack\", color=\"black\")\n",
    "x_patch = plt.scatter([],[], marker=\"x\", s=s, label=\"FGSM Attack\", color=\"black\")\n",
    "fig.legend(handles=[blue_patch, orange_patch, green_patch, red_patch, o_patch, x_patch], bbox_to_anchor=(0.99, 0.94), loc='upper left',\n",
    "           ncol=1, borderaxespad=0.)"
   ]
  },
  {
   "cell_type": "code",
   "execution_count": 229,
   "metadata": {},
   "outputs": [
    {
     "data": {
      "image/png": "[encoded data removed]",
      "text/plain": [
       "<Figure size 697.385x215.504 with 2 Axes>"
      ]
     },
     "execution_count": 229,
     "metadata": {},
     "output_type": "execute_result"
    }
   ],
   "source": [
    "fig"
   ]
  },
  {
   "cell_type": "code",
   "execution_count": 230,
   "metadata": {},
   "outputs": [],
   "source": [
    "fig.savefig('figures/scatterplot_Q1.pdf', format='pdf', bbox_inches='tight')"
   ]
  },
  {
   "cell_type": "markdown",
   "metadata": {},
   "source": [
    "# Madry results"
   ]
  },
  {
   "cell_type": "code",
   "execution_count": 3,
   "metadata": {},
   "outputs": [
    {
     "name": "stdout",
     "output_type": "stream",
     "text": [
      "1000\n"
     ]
    }
   ],
   "source": [
    "path = \"/checkpoint/hberard/OnlineAttack/results_icml/madry-icml/\"\n",
    "df = Dataframe(AlgorithmType)\n",
    "df.aggregate_all(path, filters={\"dataset\": DatasetType.MNIST, \"online_params.K\": 100, \"attacker_type\": Attacker.PGD_ATTACK})\n",
    "print(df.num_runs)"
   ]
  },
  {
   "cell_type": "code",
   "execution_count": 5,
   "metadata": {},
   "outputs": [
    {
     "name": "stdout",
     "output_type": "stream",
     "text": [
      "OFFLINE.comp_ratio & 0.27 $\\pm$ 0.00\n",
      "STOCHASTIC_VIRTUAL.comp_ratio & 0.14 $\\pm$ 0.00\n",
      "STOCHASTIC_OPTIMISTIC.comp_ratio & 0.13 $\\pm$ 0.00\n",
      "STOCHASTIC_MODIFIED_VIRTUAL.comp_ratio & 0.21 $\\pm$ 0.00\n",
      "STOCHASTIC_VIRTUAL_REF.comp_ratio & nan $\\pm$ nan\n",
      "STOCHASTIC_SINGLE_REF.comp_ratio & 0.23 $\\pm$ 0.00\n",
      "RANDOM.comp_ratio & 0.01 $\\pm$ 0.00\n",
      "-------------\n",
      "OFFLINE.knapsack_ratio & 49.7 $\\pm$ 0.1\n",
      "STOCHASTIC_VIRTUAL.knapsack_ratio & 26.3 $\\pm$ 0.1\n",
      "STOCHASTIC_OPTIMISTIC.knapsack_ratio & 24.4 $\\pm$ 0.1\n",
      "STOCHASTIC_MODIFIED_VIRTUAL.knapsack_ratio & 39.7 $\\pm$ 0.1\n",
      "STOCHASTIC_VIRTUAL_REF.knapsack_ratio & nan $\\pm$ nan\n",
      "STOCHASTIC_SINGLE_REF.knapsack_ratio & 41.8 $\\pm$ 0.2\n",
      "RANDOM.knapsack_ratio & 2.4 $\\pm$ 0.0\n"
     ]
    },
    {
     "name": "stderr",
     "output_type": "stream",
     "text": [
      "/private/home/hberard/.local/lib/python3.8/site-packages/numpy/core/fromnumeric.py:3372: RuntimeWarning: Mean of empty slice.\n",
      "  return _methods._mean(a, axis=axis, dtype=dtype,\n",
      "/private/home/hberard/.local/lib/python3.8/site-packages/numpy/core/_methods.py:170: RuntimeWarning: invalid value encountered in double_scalars\n",
      "  ret = ret.dtype.type(ret / rcount)\n",
      "/private/home/hberard/.local/lib/python3.8/site-packages/numpy/core/_methods.py:233: RuntimeWarning: Degrees of freedom <= 0 for slice\n",
      "  ret = _var(a, axis=axis, dtype=dtype, out=out, ddof=ddof,\n",
      "/private/home/hberard/.local/lib/python3.8/site-packages/numpy/core/_methods.py:194: RuntimeWarning: invalid value encountered in true_divide\n",
      "  arrmean = um.true_divide(\n",
      "/private/home/hberard/.local/lib/python3.8/site-packages/numpy/core/_methods.py:226: RuntimeWarning: invalid value encountered in double_scalars\n",
      "  ret = ret.dtype.type(ret / rcount)\n"
     ]
    }
   ],
   "source": [
    "stats = df.compute_statistics()\n",
    "stats = df.get_statistics(metric=\"comp_ratio\")\n",
    "for k in stats:\n",
    "    mean = stats[k][\"mean\"]\n",
    "    std = stats[k][\"ste\"]\n",
    "    print(\"%s & %.2f $\\pm$ %.2f\"%(k, mean, round(std, 1)))\n",
    "    \n",
    "print(\"-------------\")\n",
    "stats = df.get_statistics(metric=\"knapsack_ratio\")\n",
    "for k in stats:\n",
    "    mean = stats[k][\"mean\"]*100\n",
    "    std = stats[k][\"ste\"]*100\n",
    "    print(\"%s & %.1f $\\pm$ %.1f\"%(k, mean, round(std, 1)))"
   ]
  },
  {
   "cell_type": "code",
   "execution_count": 110,
   "metadata": {},
   "outputs": [
    {
     "ename": "ValueError",
     "evalue": "No objects to concatenate",
     "output_type": "error",
     "traceback": [
      "\u001b[0;31m---------------------------------------------------------------------------\u001b[0m",
      "\u001b[0;31mValueError\u001b[0m                                Traceback (most recent call last)",
      "\u001b[0;32m<ipython-input-110-4595b54db616>\u001b[0m in \u001b[0;36m<module>\u001b[0;34m\u001b[0m\n\u001b[1;32m      1\u001b[0m \u001b[0mpath\u001b[0m \u001b[0;34m=\u001b[0m \u001b[0;34m\"/checkpoint/hberard/OnlineAttack/results_icml/madry-icml/cifar/pgd\"\u001b[0m\u001b[0;34m\u001b[0m\u001b[0;34m\u001b[0m\u001b[0m\n\u001b[1;32m      2\u001b[0m \u001b[0mdf\u001b[0m \u001b[0;34m=\u001b[0m \u001b[0mDataframe\u001b[0m\u001b[0;34m(\u001b[0m\u001b[0mAlgorithmType\u001b[0m\u001b[0;34m)\u001b[0m\u001b[0;34m\u001b[0m\u001b[0;34m\u001b[0m\u001b[0m\n\u001b[0;32m----> 3\u001b[0;31m df.aggregate_all(path, filters={\"dataset\": DatasetType.CIFAR, \"online_params.K\": 4,\n\u001b[0m\u001b[1;32m      4\u001b[0m                                 \u001b[0;34m\"attacker_type\"\u001b[0m\u001b[0;34m:\u001b[0m \u001b[0mAttacker\u001b[0m\u001b[0;34m.\u001b[0m\u001b[0mPGD_ATTACK\u001b[0m\u001b[0;34m,\u001b[0m\u001b[0;34m\u001b[0m\u001b[0;34m\u001b[0m\u001b[0m\n\u001b[1;32m      5\u001b[0m                                 \"attacker_params.eps\": 0.03125}, model_eval=[\"madry/secret\"])\n",
      "\u001b[0;32m<ipython-input-73-74819d104544>\u001b[0m in \u001b[0;36maggregate_all\u001b[0;34m(self, path, filters, model_eval)\u001b[0m\n\u001b[1;32m    177\u001b[0m                 \u001b[0;31m#print(params)\u001b[0m\u001b[0;34m\u001b[0m\u001b[0;34m\u001b[0m\u001b[0;34m\u001b[0m\u001b[0m\n\u001b[1;32m    178\u001b[0m                 \u001b[0mlist_dataframes\u001b[0m \u001b[0;34m+=\u001b[0m \u001b[0mself\u001b[0m\u001b[0;34m.\u001b[0m\u001b[0maggregate_logger\u001b[0m\u001b[0;34m(\u001b[0m\u001b[0mlogger\u001b[0m\u001b[0;34m,\u001b[0m \u001b[0mmodel_eval\u001b[0m\u001b[0;34m,\u001b[0m \u001b[0mparams\u001b[0m\u001b[0;34m)\u001b[0m\u001b[0;34m\u001b[0m\u001b[0;34m\u001b[0m\u001b[0m\n\u001b[0;32m--> 179\u001b[0;31m         \u001b[0mself\u001b[0m\u001b[0;34m.\u001b[0m\u001b[0mdataframe\u001b[0m \u001b[0;34m=\u001b[0m \u001b[0mpd\u001b[0m\u001b[0;34m.\u001b[0m\u001b[0mconcat\u001b[0m\u001b[0;34m(\u001b[0m\u001b[0mlist_dataframes\u001b[0m\u001b[0;34m)\u001b[0m\u001b[0;34m\u001b[0m\u001b[0;34m\u001b[0m\u001b[0m\n\u001b[0m\u001b[1;32m    180\u001b[0m \u001b[0;34m\u001b[0m\u001b[0m\n\u001b[1;32m    181\u001b[0m     \u001b[0;32mdef\u001b[0m \u001b[0mcompute_statistics\u001b[0m\u001b[0;34m(\u001b[0m\u001b[0mself\u001b[0m\u001b[0;34m,\u001b[0m \u001b[0msize\u001b[0m\u001b[0;34m=\u001b[0m\u001b[0;32mNone\u001b[0m\u001b[0;34m)\u001b[0m\u001b[0;34m:\u001b[0m\u001b[0;34m\u001b[0m\u001b[0;34m\u001b[0m\u001b[0m\n",
      "\u001b[0;32m~/.conda/envs/dev-new/lib/python3.8/site-packages/pandas/util/_decorators.py\u001b[0m in \u001b[0;36mwrapper\u001b[0;34m(*args, **kwargs)\u001b[0m\n\u001b[1;32m    309\u001b[0m                     \u001b[0mstacklevel\u001b[0m\u001b[0;34m=\u001b[0m\u001b[0mstacklevel\u001b[0m\u001b[0;34m,\u001b[0m\u001b[0;34m\u001b[0m\u001b[0;34m\u001b[0m\u001b[0m\n\u001b[1;32m    310\u001b[0m                 )\n\u001b[0;32m--> 311\u001b[0;31m             \u001b[0;32mreturn\u001b[0m \u001b[0mfunc\u001b[0m\u001b[0;34m(\u001b[0m\u001b[0;34m*\u001b[0m\u001b[0margs\u001b[0m\u001b[0;34m,\u001b[0m \u001b[0;34m**\u001b[0m\u001b[0mkwargs\u001b[0m\u001b[0;34m)\u001b[0m\u001b[0;34m\u001b[0m\u001b[0;34m\u001b[0m\u001b[0m\n\u001b[0m\u001b[1;32m    312\u001b[0m \u001b[0;34m\u001b[0m\u001b[0m\n\u001b[1;32m    313\u001b[0m         \u001b[0;32mreturn\u001b[0m \u001b[0mwrapper\u001b[0m\u001b[0;34m\u001b[0m\u001b[0;34m\u001b[0m\u001b[0m\n",
      "\u001b[0;32m~/.conda/envs/dev-new/lib/python3.8/site-packages/pandas/core/reshape/concat.py\u001b[0m in \u001b[0;36mconcat\u001b[0;34m(objs, axis, join, ignore_index, keys, levels, names, verify_integrity, sort, copy)\u001b[0m\n\u001b[1;32m    292\u001b[0m     \u001b[0mValueError\u001b[0m\u001b[0;34m:\u001b[0m \u001b[0mIndexes\u001b[0m \u001b[0mhave\u001b[0m \u001b[0moverlapping\u001b[0m \u001b[0mvalues\u001b[0m\u001b[0;34m:\u001b[0m \u001b[0;34m[\u001b[0m\u001b[0;34m'a'\u001b[0m\u001b[0;34m]\u001b[0m\u001b[0;34m\u001b[0m\u001b[0;34m\u001b[0m\u001b[0m\n\u001b[1;32m    293\u001b[0m     \"\"\"\n\u001b[0;32m--> 294\u001b[0;31m     op = _Concatenator(\n\u001b[0m\u001b[1;32m    295\u001b[0m         \u001b[0mobjs\u001b[0m\u001b[0;34m,\u001b[0m\u001b[0;34m\u001b[0m\u001b[0;34m\u001b[0m\u001b[0m\n\u001b[1;32m    296\u001b[0m         \u001b[0maxis\u001b[0m\u001b[0;34m=\u001b[0m\u001b[0maxis\u001b[0m\u001b[0;34m,\u001b[0m\u001b[0;34m\u001b[0m\u001b[0;34m\u001b[0m\u001b[0m\n",
      "\u001b[0;32m~/.conda/envs/dev-new/lib/python3.8/site-packages/pandas/core/reshape/concat.py\u001b[0m in \u001b[0;36m__init__\u001b[0;34m(self, objs, axis, join, keys, levels, names, ignore_index, verify_integrity, copy, sort)\u001b[0m\n\u001b[1;32m    349\u001b[0m \u001b[0;34m\u001b[0m\u001b[0m\n\u001b[1;32m    350\u001b[0m         \u001b[0;32mif\u001b[0m \u001b[0mlen\u001b[0m\u001b[0;34m(\u001b[0m\u001b[0mobjs\u001b[0m\u001b[0;34m)\u001b[0m \u001b[0;34m==\u001b[0m \u001b[0;36m0\u001b[0m\u001b[0;34m:\u001b[0m\u001b[0;34m\u001b[0m\u001b[0;34m\u001b[0m\u001b[0m\n\u001b[0;32m--> 351\u001b[0;31m             \u001b[0;32mraise\u001b[0m \u001b[0mValueError\u001b[0m\u001b[0;34m(\u001b[0m\u001b[0;34m\"No objects to concatenate\"\u001b[0m\u001b[0;34m)\u001b[0m\u001b[0;34m\u001b[0m\u001b[0;34m\u001b[0m\u001b[0m\n\u001b[0m\u001b[1;32m    352\u001b[0m \u001b[0;34m\u001b[0m\u001b[0m\n\u001b[1;32m    353\u001b[0m         \u001b[0;32mif\u001b[0m \u001b[0mkeys\u001b[0m \u001b[0;32mis\u001b[0m \u001b[0;32mNone\u001b[0m\u001b[0;34m:\u001b[0m\u001b[0;34m\u001b[0m\u001b[0;34m\u001b[0m\u001b[0m\n",
      "\u001b[0;31mValueError\u001b[0m: No objects to concatenate"
     ]
    }
   ],
   "source": [
    "path = \"/checkpoint/hberard/OnlineAttack/results_icml/madry-icml/cifar/pgd\"\n",
    "df = Dataframe(AlgorithmType)\n",
    "df.aggregate_all(path, filters={\"dataset\": DatasetType.CIFAR, \"online_params.K\": 4,\n",
    "                                \"attacker_type\": Attacker.PGD_ATTACK,\n",
    "                                \"attacker_params.eps\": 0.03125}, model_eval=[\"madry/secret\"])\n",
    "print(df.num_runs)"
   ]
  },
  {
   "cell_type": "code",
   "execution_count": 144,
   "metadata": {},
   "outputs": [
    {
     "name": "stdout",
     "output_type": "stream",
     "text": [
      "OFFLINE.comp_ratio & 0.59 $\\pm$ 0.00\n",
      "STOCHASTIC_VIRTUAL.comp_ratio & 0.32 $\\pm$ 0.00\n",
      "STOCHASTIC_OPTIMISTIC.comp_ratio & 0.31 $\\pm$ 0.00\n",
      "STOCHASTIC_MODIFIED_VIRTUAL.comp_ratio & 0.47 $\\pm$ 0.00\n",
      "STOCHASTIC_SINGLE_REF.comp_ratio & 0.27 $\\pm$ 0.00\n",
      "RANDOM.comp_ratio & 0.10 $\\pm$ 0.00\n",
      "-------------\n",
      "OFFLINE.knapsack_ratio & 82.8 $\\pm$ 0.0\n",
      "STOCHASTIC_VIRTUAL.knapsack_ratio & 51.6 $\\pm$ 0.1\n",
      "STOCHASTIC_OPTIMISTIC.knapsack_ratio & 49.2 $\\pm$ 0.1\n",
      "STOCHASTIC_MODIFIED_VIRTUAL.knapsack_ratio & 71.2 $\\pm$ 0.1\n",
      "STOCHASTIC_SINGLE_REF.knapsack_ratio & 42.0 $\\pm$ 0.4\n",
      "RANDOM.knapsack_ratio & 21.8 $\\pm$ 0.1\n"
     ]
    }
   ],
   "source": [
    "stats = df.compute_statistics()\n",
    "stats = df.get_statistics(metric=\"comp_ratio\")\n",
    "for k in stats:\n",
    "    mean = stats[k][\"mean\"]\n",
    "    std = stats[k][\"ste\"]\n",
    "    print(\"%s & %.2f $\\pm$ %.2f\"%(k, mean, round(std, 1)))\n",
    "    \n",
    "print(\"-------------\")\n",
    "stats = df.get_statistics(metric=\"knapsack_ratio\")\n",
    "for k in stats:\n",
    "    mean = stats[k][\"mean\"]*100\n",
    "    std = stats[k][\"ste\"]*100\n",
    "    print(\"%s & %.1f $\\pm$ %.1f\"%(k, mean, round(std, 1)))"
   ]
  },
  {
   "cell_type": "markdown",
   "metadata": {},
   "source": [
    "# Random Eval Results"
   ]
  },
  {
   "cell_type": "code",
   "execution_count": 87,
   "metadata": {},
   "outputs": [
    {
     "name": "stdout",
     "output_type": "stream",
     "text": [
      "1000\n"
     ]
    }
   ],
   "source": [
    "path = \"/checkpoint/hberard/OnlineAttack/results_icml/random-eval-icml/\"\n",
    "dataframe = Dataframe(AlgorithmType, max_runs=1000)\n",
    "K = 1000\n",
    "dataframe.aggregate_all(path, filters={\"dataset\": DatasetType.MNIST, \"online_params.K\": K, \"attacker_type\": Attacker.PGD_ATTACK})\n",
    "print(dataframe.num_runs)\n",
    "stats = dataframe.compute_statistics()"
   ]
  },
  {
   "cell_type": "code",
   "execution_count": 88,
   "metadata": {},
   "outputs": [
    {
     "name": "stdout",
     "output_type": "stream",
     "text": [
      "OFFLINE.comp_ratio & 229.881 $\\pm$ 3.275\n",
      "STOCHASTIC_VIRTUAL.comp_ratio & 172.702 $\\pm$ 1.415\n",
      "STOCHASTIC_OPTIMISTIC.comp_ratio & 156.444 $\\pm$ 1.313\n",
      "STOCHASTIC_MODIFIED_VIRTUAL.comp_ratio & 214.624 $\\pm$ 2.452\n",
      "STOCHASTIC_VIRTUAL_REF.comp_ratio & nan $\\pm$ nan\n",
      "STOCHASTIC_SINGLE_REF.comp_ratio & 135.226 $\\pm$ 1.298\n",
      "RANDOM.comp_ratio & 98.450 $\\pm$ 0.263\n",
      "-------------------\n",
      "OFFLINE.knapsack_ratio & 48.7 $\\pm$ 0.7\n",
      "STOCHASTIC_VIRTUAL.knapsack_ratio & 38.8 $\\pm$ 0.4\n",
      "STOCHASTIC_OPTIMISTIC.knapsack_ratio & 35.8 $\\pm$ 0.4\n",
      "STOCHASTIC_MODIFIED_VIRTUAL.knapsack_ratio & 46.5 $\\pm$ 0.6\n",
      "STOCHASTIC_VIRTUAL_REF.knapsack_ratio & nan $\\pm$ nan\n",
      "STOCHASTIC_SINGLE_REF.knapsack_ratio & 32.3 $\\pm$ 0.5\n",
      "RANDOM.knapsack_ratio & 25.9 $\\pm$ 0.3\n"
     ]
    }
   ],
   "source": [
    "stats = dataframe.get_statistics(metric=\"comp_ratio\")\n",
    "for k in stats:\n",
    "    mean = stats[k][\"mean\"]*K\n",
    "    std = stats[k][\"ste\"]*K\n",
    "    print(\"%s & %.3f $\\pm$ %.3f\"%(k, mean, std))\n",
    "\n",
    "print(\"-------------------\")\n",
    "stats = dataframe.get_statistics(metric=\"knapsack_ratio\")\n",
    "for k in stats:\n",
    "    mean = stats[k][\"mean\"]*100\n",
    "    std = stats[k][\"ste\"]*100\n",
    "    print(\"%s & %.1f $\\pm$ %.1f\"%(k, mean, round(std, 1)))"
   ]
  },
  {
   "cell_type": "code",
   "execution_count": 108,
   "metadata": {},
   "outputs": [
    {
     "name": "stdout",
     "output_type": "stream",
     "text": [
      "1000\n"
     ]
    }
   ],
   "source": [
    "path = \"/checkpoint/hberard/OnlineAttack/results_icml/random-eval-icml-final/different_model_type/fgsm\"\n",
    "dataframe = Dataframe(AlgorithmType, max_runs=1000)\n",
    "K = 4\n",
    "dataframe.aggregate_all(path, filters={\"dataset\": DatasetType.CIFAR, \"online_params.K\": K, \"attacker_type\": Attacker.FGSM_ATTACK})\n",
    "print(dataframe.num_runs)\n",
    "stats = dataframe.compute_statistics()"
   ]
  },
  {
   "cell_type": "code",
   "execution_count": 109,
   "metadata": {},
   "outputs": [
    {
     "name": "stdout",
     "output_type": "stream",
     "text": [
      "OFFLINE.comp_ratio & 0.249 $\\pm$ 0.015\n",
      "STOCHASTIC_VIRTUAL.comp_ratio & 0.121 $\\pm$ 0.011\n",
      "STOCHASTIC_OPTIMISTIC.comp_ratio & 0.152 $\\pm$ 0.012\n",
      "STOCHASTIC_MODIFIED_VIRTUAL.comp_ratio & 0.147 $\\pm$ 0.012\n",
      "STOCHASTIC_VIRTUAL_REF.comp_ratio & 0.003 $\\pm$ 0.002\n",
      "STOCHASTIC_SINGLE_REF.comp_ratio & 0.160 $\\pm$ 0.013\n",
      "RANDOM.comp_ratio & 0.002 $\\pm$ 0.001\n",
      "-------------------\n",
      "OFFLINE.knapsack_ratio & 44.7 $\\pm$ 0.6\n",
      "STOCHASTIC_VIRTUAL.knapsack_ratio & 33.2 $\\pm$ 0.5\n",
      "STOCHASTIC_OPTIMISTIC.knapsack_ratio & 36.7 $\\pm$ 0.6\n",
      "STOCHASTIC_MODIFIED_VIRTUAL.knapsack_ratio & 38.9 $\\pm$ 0.6\n",
      "STOCHASTIC_VIRTUAL_REF.knapsack_ratio & 21.7 $\\pm$ 0.3\n",
      "STOCHASTIC_SINGLE_REF.knapsack_ratio & 37.4 $\\pm$ 0.6\n",
      "RANDOM.knapsack_ratio & 15.6 $\\pm$ 0.3\n",
      "-------------------\n",
      "OFFLINE.fool_rate & 86.6 $\\pm$ 0.6\n",
      "STOCHASTIC_VIRTUAL.fool_rate & 76.4 $\\pm$ 0.7\n",
      "STOCHASTIC_OPTIMISTIC.fool_rate & 79.8 $\\pm$ 0.7\n",
      "STOCHASTIC_MODIFIED_VIRTUAL.fool_rate & 82.7 $\\pm$ 0.7\n",
      "STOCHASTIC_VIRTUAL_REF.fool_rate & 74.6 $\\pm$ 0.7\n",
      "STOCHASTIC_SINGLE_REF.fool_rate & 80.5 $\\pm$ 0.7\n",
      "RANDOM.fool_rate & 59.6 $\\pm$ 0.8\n"
     ]
    }
   ],
   "source": [
    "stats = dataframe.get_statistics(metric=\"comp_ratio\")\n",
    "for k in stats:\n",
    "    mean = stats[k][\"mean\"]*K\n",
    "    std = stats[k][\"ste\"]*K\n",
    "    print(\"%s & %.3f $\\pm$ %.3f\"%(k, mean, std))\n",
    "\n",
    "print(\"-------------------\")\n",
    "stats = dataframe.get_statistics(metric=\"knapsack_ratio\")\n",
    "for k in stats:\n",
    "    mean = stats[k][\"mean\"]*100\n",
    "    std = stats[k][\"ste\"]*100\n",
    "    print(\"%s & %.1f $\\pm$ %.1f\"%(k, mean, round(std, 1)))\n",
    "    \n",
    "print(\"-------------------\")\n",
    "stats = dataframe.get_statistics(metric=\"fool_rate\")\n",
    "for k in stats:\n",
    "    mean = stats[k][\"mean\"]*100\n",
    "    std = stats[k][\"ste\"]*100\n",
    "    print(\"%s & %.1f $\\pm$ %.1f\"%(k, mean, round(std, 1)))"
   ]
  },
  {
   "cell_type": "code",
   "execution_count": 138,
   "metadata": {},
   "outputs": [
    {
     "data": {
      "text/plain": [
       "(array([[0.00e+00, 4.68e+05, 4.81e+05, 3.82e+05, 4.84e+05, 4.92e+05],\n",
       "        [3.25e+04, 0.00e+00, 4.62e+05, 1.04e+04, 4.89e+05, 5.00e+05],\n",
       "        [1.98e+04, 1.34e+03, 0.00e+00, 2.38e+03, 4.88e+05, 4.97e+05],\n",
       "        [8.79e+04, 4.85e+05, 4.78e+05, 0.00e+00, 4.99e+05, 5.00e+05],\n",
       "        [1.05e+04, 7.20e+01, 2.01e+03, 1.39e+03, 0.00e+00, 4.92e+05],\n",
       "        [8.76e+03, 6.27e+02, 9.57e+02, 8.19e+02, 8.76e+03, 0.00e+00]]),\n",
       " array([[0.00e+000, 7.80e-126, 9.33e-141, 2.98e-064, 4.29e-151, 2.70e-154],\n",
       "        [1.00e+000, 0.00e+000, 1.41e-157, 1.00e+000, 1.22e-163, 1.06e-164],\n",
       "        [1.00e+000, 1.00e+000, 0.00e+000, 1.00e+000, 4.28e-161, 8.75e-164],\n",
       "        [1.00e+000, 2.68e-151, 4.11e-159, 0.00e+000, 1.05e-163, 1.89e-164],\n",
       "        [1.00e+000, 1.00e+000, 1.00e+000, 1.00e+000, 0.00e+000, 2.71e-154],\n",
       "        [1.00e+000, 1.00e+000, 1.00e+000, 1.00e+000, 1.00e+000, 0.00e+000]]))"
      ]
     },
     "execution_count": 138,
     "metadata": {},
     "output_type": "execute_result"
    }
   ],
   "source": [
    "table = dataframe.compute_wilcoxon(\"fool_rate\")\n",
    "table"
   ]
  },
  {
   "cell_type": "markdown",
   "metadata": {},
   "source": [
    "# Random Eval (same architecture)"
   ]
  },
  {
   "cell_type": "code",
   "execution_count": 167,
   "metadata": {},
   "outputs": [
    {
     "data": {
      "text/plain": [
       "543"
      ]
     },
     "execution_count": 167,
     "metadata": {},
     "output_type": "execute_result"
    }
   ],
   "source": [
    "path = \"/checkpoint/hberard/OnlineAttack/results_icml/random-eval-icml-final/same_model_type\"\n",
    "dataframe = Dataframe(AlgorithmType, max_runs=1000)\n",
    "K = 1000\n",
    "dataframe.aggregate_all(path, filters={\"dataset\": DatasetType.MNIST, \"online_params.K\": K, \"attacker_type\": Attacker.PGD_ATTACK})\n",
    "dataframe.num_runs"
   ]
  },
  {
   "cell_type": "code",
   "execution_count": 168,
   "metadata": {},
   "outputs": [
    {
     "name": "stdout",
     "output_type": "stream",
     "text": [
      "OFFLINE.fool_rate & 97.4 $\\pm$ 0.1\n",
      "STOCHASTIC_VIRTUAL.fool_rate & 94.4 $\\pm$ 0.2\n",
      "STOCHASTIC_OPTIMISTIC.fool_rate & 93.5 $\\pm$ 0.2\n",
      "STOCHASTIC_MODIFIED_VIRTUAL.fool_rate & 97.0 $\\pm$ 0.1\n",
      "STOCHASTIC_SINGLE_REF.fool_rate & 92.0 $\\pm$ 0.3\n",
      "RANDOM.fool_rate & 90.0 $\\pm$ 0.3\n"
     ]
    }
   ],
   "source": [
    "stats = dataframe.compute_statistics()\n",
    "stats = dataframe.get_statistics(metric=\"fool_rate\")\n",
    "for k in stats:\n",
    "    mean = stats[k][\"mean\"]*100\n",
    "    std = stats[k][\"ste\"]*100\n",
    "    print(\"%s & %.1f $\\pm$ %.1f\"%(k, mean, std))"
   ]
  },
  {
   "cell_type": "code",
   "execution_count": 216,
   "metadata": {},
   "outputs": [
    {
     "data": {
      "text/plain": [
       "(array([[   0. , 1891. , 1770. ,  231. ,  300. , 3403. ],\n",
       "        [   0. ,    0. , 1652. ,  315. ,  774. , 3058. ],\n",
       "        [   0. , 1429. ,    0. ,  301. ,  463.5, 3220.5],\n",
       "        [   0. , 1701. , 1977. ,    0. ,  511. , 3410.5],\n",
       "        [   0. , 1854. , 1489.5,  269. ,    0. , 3337. ],\n",
       "        [   0. ,  428. ,  520.5,   75.5,  149. ,    0. ]]),\n",
       " array([[0.00e+00, 1.93e-12, 5.27e-12, 1.34e-05, 7.03e-06, 1.26e-15],\n",
       "        [1.00e+00, 0.00e+00, 2.84e-01, 1.00e+00, 9.99e-01, 9.21e-10],\n",
       "        [1.00e+00, 7.16e-01, 0.00e+00, 1.00e+00, 1.00e+00, 2.28e-09],\n",
       "        [1.00e+00, 6.06e-07, 4.51e-08, 0.00e+00, 4.28e-02, 1.36e-14],\n",
       "        [1.00e+00, 9.97e-04, 1.31e-04, 9.57e-01, 0.00e+00, 1.62e-13],\n",
       "        [1.00e+00, 1.00e+00, 1.00e+00, 1.00e+00, 1.00e+00, 0.00e+00]]))"
      ]
     },
     "execution_count": 216,
     "metadata": {},
     "output_type": "execute_result"
    }
   ],
   "source": [
    "table = dataframe.compute_wilcoxon(\"fool_rate\")\n",
    "table"
   ]
  },
  {
   "cell_type": "code",
   "execution_count": 237,
   "metadata": {},
   "outputs": [],
   "source": [
    "class Test:\n",
    "    @staticmethod\n",
    "    def test():\n",
    "        print(\"test\")"
   ]
  },
  {
   "cell_type": "code",
   "execution_count": 239,
   "metadata": {},
   "outputs": [
    {
     "name": "stdout",
     "output_type": "stream",
     "text": [
      "test\n"
     ]
    }
   ],
   "source": [
    "Test().test()"
   ]
  },
  {
   "cell_type": "code",
   "execution_count": 6,
   "metadata": {},
   "outputs": [
    {
     "data": {
      "text/plain": [
       "40"
      ]
     },
     "execution_count": 6,
     "metadata": {},
     "output_type": "execute_result"
    }
   ],
   "source": [
    "import math\n",
    "k = 1000\n",
    "int(10 + 0.5*(math.sqrt(1 + 4*(k - 96) - 1)))"
   ]
  },
  {
   "cell_type": "code",
   "execution_count": null,
   "metadata": {},
   "outputs": [],
   "source": []
  }
 ],
 "metadata": {
  "kernelspec": {
   "display_name": "Python 3",
   "language": "python",
   "name": "python3"
  },
  "language_info": {
   "codemirror_mode": {
    "name": "ipython",
    "version": 3
   },
   "file_extension": ".py",
   "mimetype": "text/x-python",
   "name": "python",
   "nbconvert_exporter": "python",
   "pygments_lexer": "ipython3",
   "version": "3.8.10"
  }
 },
 "nbformat": 4,
 "nbformat_minor": 4
}
