{
 "cells": [
  {
   "cell_type": "code",
   "execution_count": 8,
   "metadata": {},
   "outputs": [],
   "source": [
    "from online_attacks.utils.logger import Logger, LoggerParams\n",
    "from online_attacks.classifiers.mnist import load_mnist_dataset, load_mnist_classifier\n",
    "from online_attacks.datastream import datastream\n",
    "from online_attacks.attacks import create_attacker, compute_attack_success_rate\n",
    "from omegaconf import OmegaConf\n",
    "import numpy as np\n",
    "import torch\n",
    "\n",
    "import sys\n",
    "sys.path.append(\"../scripts/\")\n",
    "from online_attacks_sweep import Params"
   ]
  },
  {
   "cell_type": "code",
   "execution_count": 27,
   "metadata": {},
   "outputs": [
    {
     "name": "stdout",
     "output_type": "stream",
     "text": [
      "Fool rate for OFFLINE (K=100): 100.00 +/- 0.00\n",
      "Fool rate for STOCHASTIC_VIRTUAL (K=100): 99.39 +/- 0.75\n",
      "Fool rate for STOCHASTIC_OPTIMISTIC (K=100): 99.60 +/- 0.80\n",
      "Fool rate for STOCHASTIC_MODIFIED_VIRTUAL (K=100): 99.40 +/- 0.49\n",
      "Fool rate for RANDOM (K=100): 75.00 +/- 3.46\n",
      "Fool rate for OFFLINE (K=10): 100.00 +/- 0.00\n",
      "Fool rate for STOCHASTIC_VIRTUAL (K=10): 100.00 +/- 0.00\n",
      "Fool rate for STOCHASTIC_OPTIMISTIC (K=10): 100.00 +/- 0.00\n",
      "Fool rate for STOCHASTIC_MODIFIED_VIRTUAL (K=10): 100.00 +/- 0.00\n",
      "Fool rate for RANDOM (K=10): 78.00 +/- 19.39\n",
      "Fool rate for OFFLINE (K=1000): 99.60 +/- 0.00\n",
      "Fool rate for STOCHASTIC_VIRTUAL (K=1000): 98.92 +/- 0.38\n",
      "Fool rate for STOCHASTIC_OPTIMISTIC (K=1000): 99.01 +/- 0.36\n",
      "Fool rate for STOCHASTIC_MODIFIED_VIRTUAL (K=1000): 99.00 +/- 0.29\n",
      "Fool rate for RANDOM (K=1000): 72.94 +/- 1.43\n"
     ]
    }
   ],
   "source": [
    "list_records = Logger.list_all_records(\"/checkpoint/hberard/OnlineAttack/results\")\n",
    "device = \"cuda\" if torch.cuda.is_available() else \"cpu\"\n",
    "dataset = load_mnist_dataset(train=False)\n",
    "for logger in list_records:\n",
    "    params = logger.load_hparams()\n",
    "    record = logger.load_record()\n",
    "    conf = OmegaConf.structured(Params)\n",
    "    params = OmegaConf.merge(conf, params)\n",
    "    target_classifier = load_mnist_classifier(params.model_type, index=1, model_dir=params.model_dir, device=device, eval=True)\n",
    "    source_classifier = load_mnist_classifier(params.model_type, index=params.index, model_dir=params.model_dir, device=device, eval=True)\n",
    "    attacker = create_attacker(source_classifier, params.attacker_type, params.attacker_params)\n",
    "    transform = datastream.Compose([datastream.ToDevice(device), datastream.AttackerTransform(attacker),\n",
    "                                    datastream.ClassifierTransform(target_classifier)])\n",
    "    fool_rate = []\n",
    "    for run in record[\"runs\"]:\n",
    "        permutation = run[\"permutation\"]\n",
    "        indices = [x[1] for x in run[\"indices\"]]\n",
    "        target_stream = datastream.BatchDataStream(dataset, batch_size=1000, transform=transform, permutation=permutation)\n",
    "        stream = target_stream.subset(indices)\n",
    "        fool_rate.append(compute_attack_success_rate(stream)*100)\n",
    "    \n",
    "    mean_fool_rate = np.mean(fool_rate)\n",
    "    std_fool_rate = np.std(fool_rate)\n",
    "    print(\"Fool rate for %s (K=%i): %.2f +/- %.2f\"%(params.online_params.online_type.name, params.online_params.K, mean_fool_rate, std_fool_rate))\n",
    "    \n",
    "    "
   ]
  },
  {
   "cell_type": "code",
   "execution_count": null,
   "metadata": {},
   "outputs": [],
   "source": [
    "fool_rate = []\n",
    "for i in range(5):\n",
    "    \n",
    "mean_fool_rate = np.mean(fool_rate)\n",
    "std_fool_rate = np.std(fool_rate)\n",
    "print(\"Attack success rate (Random): %.4f\"%fool_rate)"
   ]
  }
 ],
 "metadata": {
  "kernelspec": {
   "display_name": "Python 3",
   "language": "python",
   "name": "python3"
  },
  "language_info": {
   "codemirror_mode": {
    "name": "ipython",
    "version": 3
   },
   "file_extension": ".py",
   "mimetype": "text/x-python",
   "name": "python",
   "nbconvert_exporter": "python",
   "pygments_lexer": "ipython3",
   "version": "3.7.4"
  }
 },
 "nbformat": 4,
 "nbformat_minor": 4
}
