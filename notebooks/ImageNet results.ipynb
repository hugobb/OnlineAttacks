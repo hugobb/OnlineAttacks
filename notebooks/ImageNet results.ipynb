{
 "cells": [
  {
   "cell_type": "markdown",
   "metadata": {},
   "source": [
    "# ImageNet Results"
   ]
  },
  {
   "cell_type": "code",
   "execution_count": 18,
   "metadata": {},
   "outputs": [],
   "source": [
    "from online_attacks.utils.logger import Logger\n",
    "from online_attacks.online_algorithms import AlgorithmType, StochasticSingleRef\n",
    "from online_attacks.classifiers import DatasetType, MnistModel, CifarModel, load_classifier, load_dataset\n",
    "from online_attacks.attacks import Attacker, AttackerParams, create_attacker, compute_attack_success_rate\n",
    "from online_attacks.scripts.online_attack_params import OnlineAttackParams as Params\n",
    "from online_attacks import datastream\n",
    "from typing import Iterable, Any\n",
    "from collections import defaultdict\n",
    "import numpy as np\n",
    "from scipy.stats import wilcoxon\n",
    "from omegaconf import OmegaConf, MISSING\n",
    "from dataclasses import dataclass\n",
    "import torch\n",
    "from torch.nn import CrossEntropyLoss\n",
    "import os\n",
    "import seaborn\n",
    "import matplotlib.pyplot as plt\n",
    "import pandas as pd\n",
    "import matplotlib.patches as mpatches\n",
    "import matplotlib.markers as mmarkers\n",
    "\n",
    "\n",
    "fontsize = 12\n",
    "tex_fonts = {\n",
    "    # Use LaTeX to write all text\n",
    "    \"text.usetex\": True,\n",
    "    \"mathtext.fontset\": 'stix',\n",
    "    \"font.family\": 'STIXGeneral',\n",
    "    # Use 10pt font in plots, to match 10pt font in document\n",
    "    \"axes.labelsize\": fontsize,\n",
    "    \"font.size\": fontsize,\n",
    "    # Make the legend/label fonts a little smaller\n",
    "    \"legend.fontsize\": fontsize,\n",
    "    \"xtick.labelsize\": fontsize,\n",
    "    \"ytick.labelsize\": fontsize\n",
    "}\n",
    "\n",
    "plt.rcParams.update(tex_fonts)\n",
    "seaborn.set_style(\"whitegrid\")\n",
    "np.set_printoptions(precision=2)\n",
    "\n",
    "\n",
    "def set_size(width, fraction=1, subplots=(1, 1)):\n",
    "    \"\"\"Set figure dimensions to avoid scaling in LaTeX.\n",
    "\n",
    "    Parameters\n",
    "    ----------\n",
    "    width: float or string\n",
    "            Document width in points, or string of predined document type\n",
    "    fraction: float, optional\n",
    "            Fraction of the width which you wish the figure to occupy\n",
    "    subplots: array-like, optional\n",
    "            The number of rows and columns of subplots.\n",
    "    Returns\n",
    "    -------\n",
    "    fig_dim: tuple\n",
    "            Dimensions of figure in inches\n",
    "    \"\"\"\n",
    "    if width == 'thesis':\n",
    "        width_pt = 426.79135\n",
    "    elif width == 'beamer':\n",
    "        width_pt = 307.28987\n",
    "    else:\n",
    "        width_pt = width\n",
    "\n",
    "    # Width of figure (in pts)\n",
    "    fig_width_pt = width_pt * fraction\n",
    "    # Convert from pt to inches\n",
    "    inches_per_pt = 1 / 72.27\n",
    "\n",
    "    # Golden ratio to set aesthetic figure height\n",
    "    # https://disq.us/p/2940ij3\n",
    "    golden_ratio = (5**.5 - 1) / 2\n",
    "\n",
    "    # Figure width in inches\n",
    "    fig_width_in = fig_width_pt * inches_per_pt\n",
    "    # Figure height in inches\n",
    "    fig_height_in = fig_width_in * golden_ratio * (subplots[0] / subplots[1])\n",
    "\n",
    "    return (fig_width_in, fig_height_in)\n",
    "\n",
    "\n",
    "class Dataframe:\n",
    "    METRICS = [\"fool_rate\", \"num_indices\", \"knapsack_ratio\", \"comp_ratio\"]\n",
    "    ALGORITHM = list(AlgorithmType)\n",
    "    def __init__(self, list_algorithms=None, list_metrics=None, max_runs=None):\n",
    "        if list_metrics is None:\n",
    "            list_metrics = self.METRICS\n",
    "            \n",
    "        if list_algorithms is None:\n",
    "            list_algorithms = self.ALGORITHM\n",
    "            \n",
    "        self.data = {}\n",
    "        self.statistics = {}\n",
    "        self.algorithms = list_algorithms\n",
    "        for algorithm in list_algorithms:\n",
    "            for metric in list_metrics:\n",
    "                self.data[\"%s.%s\"%(algorithm.name, metric)] = []\n",
    "                self.statistics[\"%s.%s\"%(algorithm.name, metric)] = {}\n",
    "        \n",
    "        self.num_runs = 0\n",
    "        self.max_runs = max_runs\n",
    "           \n",
    "    def __getitem__(self, key):\n",
    "        return self.data[key]\n",
    "                \n",
    "    def aggregate_runs(self, path, params):\n",
    "        list_runs = Logger.list_all_eval(path)\n",
    "        list_dataframes = []\n",
    "        for run in list_runs:\n",
    "            if self.max_runs is not None and self.num_runs >= self.max_runs:\n",
    "                    break\n",
    "            try:\n",
    "                results = Logger.load_eval_results(run)\n",
    "                #print(\"SUCCESS:\", run)\n",
    "                self.num_runs += 1\n",
    "            except:\n",
    "                #print(\"FAILURE:\", run)\n",
    "                continue\n",
    "                \n",
    "            #print(params)\n",
    "            list_df = []\n",
    "            for algorithm, _results in results[\"metrics\"].items():\n",
    "                dataframe = pd.DataFrame()\n",
    "                for metric, value in _results.items():\n",
    "                    field = \"%s.%s\"%(algorithm, metric)\n",
    "                    if field in self.data:\n",
    "                        array = np.array(value)#/params.online_params.K*100\n",
    "                        if metric == \"fool_rate\":\n",
    "                            array = np.array(value)/params.online_params.K   \n",
    "                        self.data[field] += list(array)\n",
    "                        dataframe[metric] = array   \n",
    "                dataframe[\"algorithm\"] = algorithm\n",
    "                dataframe[\"K\"] = params.online_params.K\n",
    "                dataframe[\"attacker\"] = params.attacker_type\n",
    "                dataframe[\"dataset\"] = params.dataset\n",
    "                list_df.append(dataframe)\n",
    "            dataframe = pd.concat(list_df)\n",
    "            dataframe[\"random_fool_rate\"] = dataframe[dataframe[\"algorithm\"] == AlgorithmType.RANDOM.name][\"fool_rate\"]\n",
    "            list_dataframes.append(dataframe)\n",
    "        return list_dataframes\n",
    "                        \n",
    "                        \n",
    "    def aggregate_logger(self, logger, filters=None, params=None):\n",
    "        list_paths = logger.list_all_eval_models()\n",
    "        #print(list_paths)\n",
    "        list_dataframes = []\n",
    "        for path in list_paths: \n",
    "            if filters is None:\n",
    "                list_dataframes += self.aggregate_runs(path, params)\n",
    "                continue\n",
    "            for name in filters:\n",
    "                if name in path:\n",
    "                    list_dataframes += self.aggregate_runs(path, params)\n",
    "                    break\n",
    "        return list_dataframes\n",
    "        \n",
    "    def aggregate_all(self, path, filters = {}, model_eval=None):\n",
    "        list_exp_id = Logger.list_all_logger(path)\n",
    "        list_dataframes = []\n",
    "        #print(list_exp_id)\n",
    "        for exp_id in list_exp_id:\n",
    "            logger = Logger(path, exp_id)\n",
    "            try:\n",
    "                params = logger.load_hparams()\n",
    "            except FileNotFoundError:\n",
    "                print(\"Can't load hparams with id=%s\" % exp_id)\n",
    "            params = OmegaConf.merge(Params, params)\n",
    "            #print(params)\n",
    "            #print()\n",
    "            aggregate_flag = True\n",
    "            for key, value in filters.items():\n",
    "\n",
    "                if OmegaConf.select(params, key) != value:\n",
    "                    aggregate_flag = False\n",
    "                    break\n",
    "            \n",
    "            #print(aggregate_flag)\n",
    "            if aggregate_flag:\n",
    "                #print(params)\n",
    "                list_dataframes += self.aggregate_logger(logger, model_eval, params)\n",
    "        self.dataframe = pd.concat(list_dataframes)\n",
    "                         \n",
    "    def compute_statistics(self, size=None):\n",
    "        keys = list(self.data.keys())\n",
    "        for key in keys:\n",
    "            array = self.data[key]\n",
    "            num_elements = len(array)\n",
    "            if size is not None:\n",
    "                np.random.shuffle(array)\n",
    "                list_arrays = np.array_split(array, size)\n",
    "                for i, x in enumerate(list_arrays):\n",
    "                    list_arrays[i] = np.mean(x)\n",
    "                array = list_arrays\n",
    "            self.statistics[key][\"mean\"] = np.mean(array)\n",
    "            self.statistics[key][\"std\"] = np.std(array)\n",
    "            self.statistics[key][\"ste\"] = self.statistics[key][\"std\"]/np.sqrt(len(array))\n",
    "        return self.statistics\n",
    "    \n",
    "    def average_improvment(self, metric=\"fool_rate\"):\n",
    "        results = 0\n",
    "        num = 0\n",
    "        for algorithm in self.algorithms:\n",
    "            if algorithm != AlgorithmType.RANDOM.name:\n",
    "                diff = np.array(self.data[\"%s.%s\"%(algorithm.name, metric)]) - np.array(self.data[\"%s.%s\"%(AlgorithmType.RANDOM.name, metric)])\n",
    "                results += diff.sum()\n",
    "                num += len(diff)\n",
    "        print(results/num)\n",
    "            \n",
    "    \n",
    "    def compute_wilcoxon(self, metric):\n",
    "        w = np.zeros((len(self.algorithms), len(self.algorithms)))\n",
    "        p = np.zeros((len(self.algorithms), len(self.algorithms)))     \n",
    "        for i, name_1 in enumerate(self.algorithms):\n",
    "            array_1 = self.data[\"%s.%s\"%(name_1.name, metric)]\n",
    "            for j, name_2 in enumerate(self.algorithms):\n",
    "                if i == j:\n",
    "                    continue\n",
    "                array_2 = self.data[\"%s.%s\"%(name_2.name, metric)]\n",
    "                w[i, j], p[i,j] = wilcoxon(array_1, array_2, alternative='greater')\n",
    "        return w, p\n",
    "    \n",
    "    def compute_table(self, metric):\n",
    "        table = np.zeros((len(self.algorithms), len(self.algorithms)), dtype=object)\n",
    "        for i, name_1 in enumerate(self.algorithms):\n",
    "            array_1 = self.data[\"%s.%s\"%(name_1.name, metric)]\n",
    "            for j, name_2 in enumerate(self.algorithms):\n",
    "                array_2 = self.data[\"%s.%s\"%(name_2.name, metric)]\n",
    "                num = np.greater(array_1, array_2).sum()\n",
    "                table[i, j] = \"%.1f %% (%i / %i)\"%(num/len(array_1)*100, num, len(array_1))\n",
    "        return table            \n",
    "    \n",
    "    def get_statistics(self, algorithm=None, metric=None):\n",
    "        statistics = self.statistics.copy()\n",
    "        if algorithm is not None:\n",
    "            keys = list(statistics.keys())\n",
    "            for key in keys:\n",
    "                if algorithm.name not in key:\n",
    "                    statistics.pop(key)\n",
    "        if metric is not None:\n",
    "            keys = list(statistics.keys())\n",
    "            for key in keys:\n",
    "                if metric not in key:\n",
    "                    statistics.pop(key)\n",
    "            \n",
    "        return statistics\n",
    "    \n",
    "    def plot(self, ax, s=None, alpha=0.5):\n",
    "        df = self.dataframe[self.dataframe[\"algorithm\"]!=AlgorithmType.RANDOM.name]\n",
    "        df = df[df[\"algorithm\"]!=AlgorithmType.OFFLINE.name]\n",
    "        df = df.rename(columns={\"algorithm\": \"Algorithm\", \"attacker\": \"Attacker\",\n",
    "                           \"random_fool_rate\": \"Naive Fool Rate\", \"fool_rate\": \"Fool Rate\"})\n",
    "        rename = {AlgorithmType.STOCHASTIC_SINGLE_REF.name: r\"\\textsc{Single-Ref}\",\n",
    "                  AlgorithmType.STOCHASTIC_MODIFIED_VIRTUAL.name: r\"\\textsc{Virtual+}\",\n",
    "                  AlgorithmType.STOCHASTIC_OPTIMISTIC.name: r\"\\textsc{Optimistic}\",\n",
    "                  AlgorithmType.STOCHASTIC_VIRTUAL.name: r\"\\textsc{Virtual}\",\n",
    "                 Attacker.PGD_ATTACK: \"PGD\",\n",
    "                 Attacker.FGSM_ATTACK: \"FGSM\"}\n",
    "        df = df.replace(rename)\n",
    "        g = seaborn.scatterplot(data=df, x=\"Naive Fool Rate\", y=\"Fool Rate\", hue=\"Algorithm\", style=\"Attacker\", ax=ax, s=s, alpha=alpha)\n",
    "        g.set(ylabel=None)\n",
    "        x = np.linspace(0, 100, 2)\n",
    "        seaborn.lineplot(x, x, color=\"black\", linestyle='--', ax=ax)\n",
    "    \n",
    "    @staticmethod\n",
    "    def merge(dataframe):\n",
    "        new_df = Dataframe(dataframe[0].algorithms)\n",
    "        list_dataframes = []\n",
    "        for df in dataframe:\n",
    "            for key in new_df.data:\n",
    "                new_df.data[key] += df[key] \n",
    "            list_dataframes.append(df.dataframe)\n",
    "            new_df.num_runs += df.num_runs\n",
    "        new_df.dataframe = pd.concat(list_dataframes)\n",
    "        return new_df"
   ]
  },
  {
   "cell_type": "markdown",
   "metadata": {},
   "source": [
    "# Random Eval Results"
   ]
  },
  {
   "cell_type": "code",
   "execution_count": 26,
   "metadata": {},
   "outputs": [
    {
     "name": "stdout",
     "output_type": "stream",
     "text": [
      "4\n"
     ]
    }
   ],
   "source": [
    "path = \"/home/mila/b/bosejoey/results_iclr/non_robust/imagenet/fgsm/\"\n",
    "dataframe = Dataframe(AlgorithmType, max_runs=1000)\n",
    "K = 2\n",
    "dataframe.aggregate_all(path, filters={\"online_params.K\": K, \"attacker_type\": Attacker.FGSM_ATTACK})\n",
    "print(dataframe.num_runs)\n",
    "stats = dataframe.compute_statistics()"
   ]
  },
  {
   "cell_type": "code",
   "execution_count": 27,
   "metadata": {},
   "outputs": [
    {
     "name": "stdout",
     "output_type": "stream",
     "text": [
      "OFFLINE.comp_ratio & 0.250 $\\pm$ 0.217\n",
      "STOCHASTIC_VIRTUAL.comp_ratio & 0.000 $\\pm$ 0.000\n",
      "STOCHASTIC_OPTIMISTIC.comp_ratio & 0.000 $\\pm$ 0.000\n",
      "STOCHASTIC_MODIFIED_VIRTUAL.comp_ratio & 0.000 $\\pm$ 0.000\n",
      "STOCHASTIC_VIRTUAL_REF.comp_ratio & 0.000 $\\pm$ 0.000\n",
      "STOCHASTIC_SINGLE_REF.comp_ratio & 0.250 $\\pm$ 0.217\n",
      "RANDOM.comp_ratio & 0.000 $\\pm$ 0.000\n",
      "-------------------\n",
      "OFFLINE.knapsack_ratio & 68.0 $\\pm$ 6.9\n",
      "STOCHASTIC_VIRTUAL.knapsack_ratio & 26.6 $\\pm$ 9.4\n",
      "STOCHASTIC_OPTIMISTIC.knapsack_ratio & 40.4 $\\pm$ 13.5\n",
      "STOCHASTIC_MODIFIED_VIRTUAL.knapsack_ratio & 42.3 $\\pm$ 14.6\n",
      "STOCHASTIC_VIRTUAL_REF.knapsack_ratio & 18.6 $\\pm$ 3.7\n",
      "STOCHASTIC_SINGLE_REF.knapsack_ratio & 27.3 $\\pm$ 17.7\n",
      "RANDOM.knapsack_ratio & 10.1 $\\pm$ 2.6\n",
      "-------------------\n",
      "OFFLINE.fool_rate & 100.0 $\\pm$ 0.0\n",
      "STOCHASTIC_VIRTUAL.fool_rate & 75.0 $\\pm$ 12.5\n",
      "STOCHASTIC_OPTIMISTIC.fool_rate & 87.5 $\\pm$ 10.8\n",
      "STOCHASTIC_MODIFIED_VIRTUAL.fool_rate & 87.5 $\\pm$ 10.8\n",
      "STOCHASTIC_VIRTUAL_REF.fool_rate & 75.0 $\\pm$ 12.5\n",
      "STOCHASTIC_SINGLE_REF.fool_rate & 62.5 $\\pm$ 20.7\n",
      "RANDOM.fool_rate & 37.5 $\\pm$ 10.8\n"
     ]
    }
   ],
   "source": [
    "stats = dataframe.get_statistics(metric=\"comp_ratio\")\n",
    "for k in stats:\n",
    "    mean = stats[k][\"mean\"]*K\n",
    "    std = stats[k][\"ste\"]*K\n",
    "    print(\"%s & %.3f $\\pm$ %.3f\"%(k, mean, std))\n",
    "\n",
    "print(\"-------------------\")\n",
    "stats = dataframe.get_statistics(metric=\"knapsack_ratio\")\n",
    "for k in stats:\n",
    "    mean = stats[k][\"mean\"]*100\n",
    "    std = stats[k][\"ste\"]*100\n",
    "    print(\"%s & %.1f $\\pm$ %.1f\"%(k, mean, round(std, 1)))\n",
    "    \n",
    "print(\"-------------------\")\n",
    "stats = dataframe.get_statistics(metric=\"fool_rate\")\n",
    "for k in stats:\n",
    "    mean = stats[k][\"mean\"]*100\n",
    "    std = stats[k][\"ste\"]*100\n",
    "    print(\"%s & %.1f $\\pm$ %.1f\"%(k, mean, round(std, 1)))"
   ]
  },
  {
   "cell_type": "code",
   "execution_count": 129,
   "metadata": {},
   "outputs": [
    {
     "name": "stdout",
     "output_type": "stream",
     "text": [
      "899\n"
     ]
    }
   ],
   "source": [
    "path = \"/checkpoint/hberard/OnlineAttack/results_icml/random-eval-icml-final/different_model_type/pgd\"\n",
    "dataframe = Dataframe(AlgorithmType, max_runs=1000)\n",
    "K = 4\n",
    "dataframe.aggregate_all(path, filters={\"dataset\": DatasetType.MNIST, \"online_params.K\": K, \"attacker_type\": Attacker.PGD_ATTACK})\n",
    "print(dataframe.num_runs)\n",
    "stats = dataframe.compute_statistics()"
   ]
  },
  {
   "cell_type": "code",
   "execution_count": 130,
   "metadata": {},
   "outputs": [
    {
     "name": "stdout",
     "output_type": "stream",
     "text": [
      "OFFLINE.comp_ratio & 0.171 $\\pm$ 0.016\n",
      "STOCHASTIC_VIRTUAL.comp_ratio & 0.089 $\\pm$ 0.010\n",
      "STOCHASTIC_OPTIMISTIC.comp_ratio & 0.119 $\\pm$ 0.013\n",
      "STOCHASTIC_MODIFIED_VIRTUAL.comp_ratio & 0.132 $\\pm$ 0.013\n",
      "STOCHASTIC_VIRTUAL_REF.comp_ratio & 0.006 $\\pm$ 0.002\n",
      "STOCHASTIC_SINGLE_REF.comp_ratio & 0.119 $\\pm$ 0.013\n",
      "RANDOM.comp_ratio & 0.001 $\\pm$ 0.001\n",
      "-------------------\n",
      "OFFLINE.knapsack_ratio & 49.6 $\\pm$ 1.1\n",
      "STOCHASTIC_VIRTUAL.knapsack_ratio & 35.5 $\\pm$ 0.9\n",
      "STOCHASTIC_OPTIMISTIC.knapsack_ratio & 39.6 $\\pm$ 1.0\n",
      "STOCHASTIC_MODIFIED_VIRTUAL.knapsack_ratio & 42.7 $\\pm$ 1.0\n",
      "STOCHASTIC_VIRTUAL_REF.knapsack_ratio & 25.0 $\\pm$ 0.7\n",
      "STOCHASTIC_SINGLE_REF.knapsack_ratio & 40.8 $\\pm$ 1.0\n",
      "RANDOM.knapsack_ratio & 21.0 $\\pm$ 0.6\n",
      "-------------------\n",
      "OFFLINE.fool_rate & 79.3 $\\pm$ 1.0\n",
      "STOCHASTIC_VIRTUAL.fool_rate & 70.0 $\\pm$ 1.1\n",
      "STOCHASTIC_OPTIMISTIC.fool_rate & 72.1 $\\pm$ 1.1\n",
      "STOCHASTIC_MODIFIED_VIRTUAL.fool_rate & 74.5 $\\pm$ 1.1\n",
      "STOCHASTIC_VIRTUAL_REF.fool_rate & 66.1 $\\pm$ 1.2\n",
      "STOCHASTIC_SINGLE_REF.fool_rate & 74.1 $\\pm$ 1.1\n",
      "RANDOM.fool_rate & 59.9 $\\pm$ 1.2\n"
     ]
    }
   ],
   "source": [
    "stats = dataframe.get_statistics(metric=\"comp_ratio\")\n",
    "for k in stats:\n",
    "    mean = stats[k][\"mean\"]*K\n",
    "    std = stats[k][\"ste\"]*K\n",
    "    print(\"%s & %.3f $\\pm$ %.3f\"%(k, mean, std))\n",
    "\n",
    "print(\"-------------------\")\n",
    "stats = dataframe.get_statistics(metric=\"knapsack_ratio\")\n",
    "for k in stats:\n",
    "    mean = stats[k][\"mean\"]*100\n",
    "    std = stats[k][\"ste\"]*100\n",
    "    print(\"%s & %.1f $\\pm$ %.1f\"%(k, mean, round(std, 1)))\n",
    "    \n",
    "print(\"-------------------\")\n",
    "stats = dataframe.get_statistics(metric=\"fool_rate\")\n",
    "for k in stats:\n",
    "    mean = stats[k][\"mean\"]*100\n",
    "    std = stats[k][\"ste\"]*100\n",
    "    print(\"%s & %.1f $\\pm$ %.1f\"%(k, mean, round(std, 1)))"
   ]
  },
  {
   "cell_type": "code",
   "execution_count": 138,
   "metadata": {},
   "outputs": [
    {
     "data": {
      "text/plain": [
       "(array([[0.00e+00, 4.68e+05, 4.81e+05, 3.82e+05, 4.84e+05, 4.92e+05],\n",
       "        [3.25e+04, 0.00e+00, 4.62e+05, 1.04e+04, 4.89e+05, 5.00e+05],\n",
       "        [1.98e+04, 1.34e+03, 0.00e+00, 2.38e+03, 4.88e+05, 4.97e+05],\n",
       "        [8.79e+04, 4.85e+05, 4.78e+05, 0.00e+00, 4.99e+05, 5.00e+05],\n",
       "        [1.05e+04, 7.20e+01, 2.01e+03, 1.39e+03, 0.00e+00, 4.92e+05],\n",
       "        [8.76e+03, 6.27e+02, 9.57e+02, 8.19e+02, 8.76e+03, 0.00e+00]]),\n",
       " array([[0.00e+000, 7.80e-126, 9.33e-141, 2.98e-064, 4.29e-151, 2.70e-154],\n",
       "        [1.00e+000, 0.00e+000, 1.41e-157, 1.00e+000, 1.22e-163, 1.06e-164],\n",
       "        [1.00e+000, 1.00e+000, 0.00e+000, 1.00e+000, 4.28e-161, 8.75e-164],\n",
       "        [1.00e+000, 2.68e-151, 4.11e-159, 0.00e+000, 1.05e-163, 1.89e-164],\n",
       "        [1.00e+000, 1.00e+000, 1.00e+000, 1.00e+000, 0.00e+000, 2.71e-154],\n",
       "        [1.00e+000, 1.00e+000, 1.00e+000, 1.00e+000, 1.00e+000, 0.00e+000]]))"
      ]
     },
     "execution_count": 138,
     "metadata": {},
     "output_type": "execute_result"
    }
   ],
   "source": [
    "table = dataframe.compute_wilcoxon(\"fool_rate\")\n",
    "table"
   ]
  },
  {
   "cell_type": "markdown",
   "metadata": {},
   "source": [
    "# Random Eval (same architecture)"
   ]
  },
  {
   "cell_type": "code",
   "execution_count": 167,
   "metadata": {},
   "outputs": [
    {
     "data": {
      "text/plain": [
       "543"
      ]
     },
     "execution_count": 167,
     "metadata": {},
     "output_type": "execute_result"
    }
   ],
   "source": [
    "path = \"/checkpoint/hberard/OnlineAttack/results_icml/random-eval-icml-final/same_model_type\"\n",
    "dataframe = Dataframe(AlgorithmType, max_runs=1000)\n",
    "K = 1000\n",
    "dataframe.aggregate_all(path, filters={\"dataset\": DatasetType.MNIST, \"online_params.K\": K, \"attacker_type\": Attacker.PGD_ATTACK})\n",
    "dataframe.num_runs"
   ]
  },
  {
   "cell_type": "code",
   "execution_count": 168,
   "metadata": {},
   "outputs": [
    {
     "name": "stdout",
     "output_type": "stream",
     "text": [
      "OFFLINE.fool_rate & 97.4 $\\pm$ 0.1\n",
      "STOCHASTIC_VIRTUAL.fool_rate & 94.4 $\\pm$ 0.2\n",
      "STOCHASTIC_OPTIMISTIC.fool_rate & 93.5 $\\pm$ 0.2\n",
      "STOCHASTIC_MODIFIED_VIRTUAL.fool_rate & 97.0 $\\pm$ 0.1\n",
      "STOCHASTIC_SINGLE_REF.fool_rate & 92.0 $\\pm$ 0.3\n",
      "RANDOM.fool_rate & 90.0 $\\pm$ 0.3\n"
     ]
    }
   ],
   "source": [
    "stats = dataframe.compute_statistics()\n",
    "stats = dataframe.get_statistics(metric=\"fool_rate\")\n",
    "for k in stats:\n",
    "    mean = stats[k][\"mean\"]*100\n",
    "    std = stats[k][\"ste\"]*100\n",
    "    print(\"%s & %.1f $\\pm$ %.1f\"%(k, mean, std))"
   ]
  },
  {
   "cell_type": "code",
   "execution_count": 216,
   "metadata": {},
   "outputs": [
    {
     "data": {
      "text/plain": [
       "(array([[   0. , 1891. , 1770. ,  231. ,  300. , 3403. ],\n",
       "        [   0. ,    0. , 1652. ,  315. ,  774. , 3058. ],\n",
       "        [   0. , 1429. ,    0. ,  301. ,  463.5, 3220.5],\n",
       "        [   0. , 1701. , 1977. ,    0. ,  511. , 3410.5],\n",
       "        [   0. , 1854. , 1489.5,  269. ,    0. , 3337. ],\n",
       "        [   0. ,  428. ,  520.5,   75.5,  149. ,    0. ]]),\n",
       " array([[0.00e+00, 1.93e-12, 5.27e-12, 1.34e-05, 7.03e-06, 1.26e-15],\n",
       "        [1.00e+00, 0.00e+00, 2.84e-01, 1.00e+00, 9.99e-01, 9.21e-10],\n",
       "        [1.00e+00, 7.16e-01, 0.00e+00, 1.00e+00, 1.00e+00, 2.28e-09],\n",
       "        [1.00e+00, 6.06e-07, 4.51e-08, 0.00e+00, 4.28e-02, 1.36e-14],\n",
       "        [1.00e+00, 9.97e-04, 1.31e-04, 9.57e-01, 0.00e+00, 1.62e-13],\n",
       "        [1.00e+00, 1.00e+00, 1.00e+00, 1.00e+00, 1.00e+00, 0.00e+00]]))"
      ]
     },
     "execution_count": 216,
     "metadata": {},
     "output_type": "execute_result"
    }
   ],
   "source": [
    "table = dataframe.compute_wilcoxon(\"fool_rate\")\n",
    "table"
   ]
  },
  {
   "cell_type": "code",
   "execution_count": 237,
   "metadata": {},
   "outputs": [],
   "source": [
    "class Test:\n",
    "    @staticmethod\n",
    "    def test():\n",
    "        print(\"test\")"
   ]
  },
  {
   "cell_type": "code",
   "execution_count": 239,
   "metadata": {},
   "outputs": [
    {
     "name": "stdout",
     "output_type": "stream",
     "text": [
      "test\n"
     ]
    }
   ],
   "source": [
    "Test().test()"
   ]
  },
  {
   "cell_type": "code",
   "execution_count": 6,
   "metadata": {},
   "outputs": [
    {
     "data": {
      "text/plain": [
       "40"
      ]
     },
     "execution_count": 6,
     "metadata": {},
     "output_type": "execute_result"
    }
   ],
   "source": [
    "import math\n",
    "k = 1000\n",
    "int(10 + 0.5*(math.sqrt(1 + 4*(k - 96) - 1)))"
   ]
  },
  {
   "cell_type": "code",
   "execution_count": null,
   "metadata": {},
   "outputs": [],
   "source": []
  }
 ],
 "metadata": {
  "kernelspec": {
   "display_name": "dev",
   "language": "python",
   "name": "dev"
  },
  "language_info": {
   "codemirror_mode": {
    "name": "ipython",
    "version": 3
   },
   "file_extension": ".py",
   "mimetype": "text/x-python",
   "name": "python",
   "nbconvert_exporter": "python",
   "pygments_lexer": "ipython3",
   "version": "3.7.7"
  }
 },
 "nbformat": 4,
 "nbformat_minor": 4
}
